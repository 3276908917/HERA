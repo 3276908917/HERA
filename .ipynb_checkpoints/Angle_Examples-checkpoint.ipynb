{
 "cells": [
  {
   "cell_type": "code",
   "execution_count": 1,
   "metadata": {},
   "outputs": [],
   "source": [
    "def collapse_angle(degree, minute, second):\n",
    "    return degree + minute / 60 + second / 3600\n",
    "\n",
    "def collapse_hour(hour, minute, second):\n",
    "    return 15 * hour + minute / 4 + second / 240"
   ]
  },
  {
   "cell_type": "code",
   "execution_count": 2,
   "metadata": {},
   "outputs": [
    {
     "name": "stdout",
     "output_type": "stream",
     "text": [
      "Array latitude: -30.72138888888889\n",
      "Array longitude: 21.428333333333335\n"
     ]
    }
   ],
   "source": [
    "# Hydrogen Epoch of Reionization Array, South Africa\n",
    "lat = -collapse_angle(30, 43, 17)\n",
    "lon = collapse_angle(21, 25, 42)\n",
    "print('Array latitude:', lat)\n",
    "print('Array longitude:', lon)"
   ]
  },
  {
   "cell_type": "code",
   "execution_count": 3,
   "metadata": {},
   "outputs": [],
   "source": [
    "import numpy as np\n",
    "\n",
    "def rectangle(a, b):\n",
    "    '''\n",
    "    Given a pair of angles (both angles must be in radians),\n",
    "    return the corresponding 3x1 rectangular vector.\n",
    "    '''\n",
    "    return np.array([np.cos(b) * np.cos(a), np.cos(b) * np.sin(a), np.sin(b)])\n",
    "\n",
    "def M_eq_to_ha(LST):\n",
    "    '''\n",
    "    Return the change-of-basis matrix between the equatorial and\n",
    "    hour angle declination coordinate systems.\n",
    "    The conversion depends on the @LST, Local Siderial Time\n",
    "    '''\n",
    "    s = np.sin(LST)\n",
    "    c = np.cos(LST)\n",
    "    return np.array([[c, s, 0], [s, -c, 0], [0, 0, 1]])\n",
    "\n",
    "def M_ha_to_topo(phi):\n",
    "    '''\n",
    "    Return the change-of-basis matrix between the hour angle declination\n",
    "    and topocentric coordinate systems.\n",
    "    The conversion depends on the user's current latitude @phi,\n",
    "        which must be given in radians.\n",
    "    '''\n",
    "    s = np.sin(phi)\n",
    "    c = np.cos(phi)\n",
    "    return np.array([[-s, 0, c], [0, -1, 0], [c, 0, s]])\n",
    "\n",
    "def new_sphere(out_arr, radians=False):\n",
    "    '''\n",
    "    Given a 3x1 vector,\n",
    "    return the corresponding pair of angles\n",
    "    @radians determines whether the angles are given in radians.\n",
    "    '''\n",
    "    gp = np.arctan2(out_arr[1], out_arr[0])\n",
    "    tp = np.arcsin(out_arr[2])\n",
    "    if not radians:\n",
    "        return np.degrees(gp), np.degrees(tp)   \n",
    "    return gp, tp"
   ]
  },
  {
   "cell_type": "code",
   "execution_count": 4,
   "metadata": {},
   "outputs": [],
   "source": [
    "def eq_to_topo(ra, dec, latitude, lst, radians=False):\n",
    "    '''\n",
    "    @radians determines the format of BOTH input and output!\n",
    "    Given a pair of angles @ra and @dec,\n",
    "    return a pair of angles relating the associated\n",
    "    azimuth (first) and altitude (second).\n",
    "    '''\n",
    "    if not radians:\n",
    "        ra = np.radians(ra)\n",
    "        dec = np.radians(dec)\n",
    "        latitude = np.radians(latitude)\n",
    "        lst = np.radians(lst)\n",
    "    eq_vector = rectangle(ra, dec)\n",
    "    ha_vector = np.dot(M_eq_to_ha(lst), eq_vector)\n",
    "    topo_vector = np.dot(M_ha_to_topo(latitude), ha_vector)\n",
    "    return new_sphere(topo_vector, radians)"
   ]
  },
  {
   "cell_type": "code",
   "execution_count": 5,
   "metadata": {},
   "outputs": [],
   "source": [
    "# Would I ever know the LST at which the data were taken?\n",
    "\n",
    "from astropy.time import Time\n",
    "t = Time.now()"
   ]
  },
  {
   "cell_type": "code",
   "execution_count": 6,
   "metadata": {},
   "outputs": [
    {
     "data": {
      "text/latex": [
       "$6^\\mathrm{h}29^\\mathrm{m}08.0902^\\mathrm{s}$"
      ],
      "text/plain": [
       "<Longitude 6.48558061 hourangle>"
      ]
     },
     "execution_count": 6,
     "metadata": {},
     "output_type": "execute_result"
    }
   ],
   "source": [
    "# In general, I prefer greater precision, but nutation may be unwanted here\n",
    "import astropy.coordinates as coord\n",
    "from astropy import units as u\n",
    "t.sidereal_time('apparent', coord.Angle(lon, u.deg))"
   ]
  },
  {
   "cell_type": "code",
   "execution_count": 7,
   "metadata": {},
   "outputs": [
    {
     "name": "stdout",
     "output_type": "stream",
     "text": [
      "312.20999333333333\n"
     ]
    }
   ],
   "source": [
    "# hard-coded based on the output of the prior cell\n",
    "# at this point, the lst is essentially an arbitrary universal value\n",
    "LST = collapse_hour(20, 48, 50.3984)\n",
    "print(LST)"
   ]
  },
  {
   "cell_type": "code",
   "execution_count": 8,
   "metadata": {},
   "outputs": [
    {
     "name": "stdout",
     "output_type": "stream",
     "text": [
      "Hurley-Walker (ra, dec) -> (az, alt):\n",
      "(99.33709766213711, 48.667876620559824)\n",
      "(94.26640230794048, 47.55662157102548)\n",
      "(97.91885719337687, 48.34538015362858)\n",
      "(107.99687074900115, 49.8339875821506)\n",
      "(102.31409868867543, 49.09718040612486)\n",
      "(114.51954813557741, 50.26501611023687)\n",
      "(106.72938983537753, 49.6561082567649)\n",
      "(109.08347892949203, 49.889107514286295)\n",
      "\n",
      " Hurley-Walker (ra, dec) -> (az, alt), declination equals HERA longitude:\n",
      "(102.75549325201018, 49.22978914236377)\n",
      "(102.77410389963804, 49.17613056130038)\n",
      "(102.77294054446085, 49.179484106906216)\n",
      "(102.77032308783326, 49.187029640955004)\n",
      "(102.77730325688168, 49.1669083904907)\n",
      "(102.78195720920185, 49.15349453234245)\n",
      "(102.78544793936648, 49.14343430094414)\n",
      "(102.78719338995046, 49.13840423740129)\n"
     ]
    }
   ],
   "source": [
    "# We want to get ten radio sources with declinations in the correct range (-20.72 to -40.72 degrees)\n",
    "# \"For the total intensity properties we used the Hurley-Walker et al. (2014) catalogue\"\n",
    "\n",
    "HW = np.array([\n",
    "    (.016 , -28.406), (.08, -24.844), (.076, -27.414),\n",
    "    (.067, -34.174), (.091, -30.409), (.107, -38.383),\n",
    "    (.119, -33.337), (.125, -34.875)\n",
    "])\n",
    "\n",
    "HW_dec_full = np.array([\n",
    "    (.016 , -30.72), (.08, -30.72), (.076, -30.72),\n",
    "    (.067, -30.72), (.091, -30.72), (.107, -30.72),\n",
    "    (.119, -30.72), (.125, -30.72)\n",
    "])\n",
    "\n",
    "''' Use 30.72 for a declination and you should be getting 1'''\n",
    "\n",
    "print('Hurley-Walker (ra, dec) -> (az, alt):')\n",
    "for pair in HW:\n",
    "    print(eq_to_topo(pair[0], pair[1], lat, LST, radians=False))\n",
    "\n",
    "# I have forgotten what the point of this manipulation was.\n",
    "print('\\n Hurley-Walker (ra, dec) -> (az, alt), declination equals HERA longitude:')\n",
    "for pair in HW_dec_full:\n",
    "    print(eq_to_topo(pair[0], pair[1], lat, LST, radians=False))\n",
    "    "
   ]
  },
  {
   "cell_type": "code",
   "execution_count": 19,
   "metadata": {},
   "outputs": [],
   "source": [
    "# Take point sources from GLEAM\n",
    "# https://heasarc.gsfc.nasa.gov/W3Browse/radio-catalog/gleamegcat.html\n",
    "# table at https://heasarc.gsfc.nasa.gov/db-perl/W3Browse/w3table.pl?tablehead=name%3Dgleamegcat&Action=More+Options"
   ]
  },
  {
   "cell_type": "code",
   "execution_count": null,
   "metadata": {},
   "outputs": [],
   "source": []
  }
 ],
 "metadata": {
  "kernelspec": {
   "display_name": "Python 3",
   "language": "python",
   "name": "python3"
  },
  "language_info": {
   "codemirror_mode": {
    "name": "ipython",
    "version": 3
   },
   "file_extension": ".py",
   "mimetype": "text/x-python",
   "name": "python",
   "nbconvert_exporter": "python",
   "pygments_lexer": "ipython3",
   "version": "3.7.6"
  }
 },
 "nbformat": 4,
 "nbformat_minor": 4
}
