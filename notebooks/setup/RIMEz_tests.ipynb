{
 "cells": [
  {
   "cell_type": "code",
   "execution_count": 6,
   "metadata": {},
   "outputs": [],
   "source": [
    "file_path = '/Users/lfinkbeiner/Documents/GitHub/HERA/'\n",
    "beam_origin = 'HERA_4.9m_E-pattern_151MHz.txt'\n",
    "beam_destination = 'ant1_s1'"
   ]
  },
  {
   "cell_type": "code",
   "execution_count": 7,
   "metadata": {},
   "outputs": [],
   "source": [
    "%matplotlib notebook\n",
    "from RIMEz import beam_models\n",
    "import numpy as np\n",
    "from spin1_beam_model import cst_processing, jones_matrix_field"
   ]
  },
  {
   "cell_type": "code",
   "execution_count": 8,
   "metadata": {},
   "outputs": [],
   "source": [
    "# \"The fields are not normalized here, they are to be normalized once a global\n",
    "# model is fit to these data.\" what global model?\n",
    "\n",
    "processor = cst_processing.CSTDataProcessor(\n",
    "    [file_path + beam_origin,\n",
    "    file_path + beam_origin,\n",
    "    file_path + beam_origin],\n",
    "    np.array([150e6, 151e6, 152e6]),\n",
    "    1, 1e-4\n",
    "    # I do not know what the spatial sampling and data uncertainty are here\n",
    ")\n"
   ]
  },
  {
   "cell_type": "code",
   "execution_count": 9,
   "metadata": {},
   "outputs": [],
   "source": [
    "processor.compute_spin1_harmonics()"
   ]
  },
  {
   "cell_type": "code",
   "execution_count": 10,
   "metadata": {},
   "outputs": [],
   "source": [
    "# We need to write this to a file, because we unfortunately cannot\n",
    "# pass the data directly to the next class\n",
    "processor.write_model_data(file_path, beam_destination)"
   ]
  },
  {
   "cell_type": "code",
   "execution_count": 11,
   "metadata": {},
   "outputs": [
    {
     "name": "stderr",
     "output_type": "stream",
     "text": [
      "//anaconda3/envs/hera/lib/python3.7/site-packages/spin1_beam_model/jones_matrix_field.py:18: H5pyDeprecationWarning: dataset.value has been deprecated. Use dataset[()] instead.\n",
      "  self.pos1_Elm_samples = h5f[\"pos1_Elm\"].value\n",
      "//anaconda3/envs/hera/lib/python3.7/site-packages/spin1_beam_model/jones_matrix_field.py:19: H5pyDeprecationWarning: dataset.value has been deprecated. Use dataset[()] instead.\n",
      "  self.neg1_Elm_samples = h5f[\"neg1_Elm\"].value\n",
      "//anaconda3/envs/hera/lib/python3.7/site-packages/spin1_beam_model/jones_matrix_field.py:20: H5pyDeprecationWarning: dataset.value has been deprecated. Use dataset[()] instead.\n",
      "  self.freq_nodes = h5f[\"frequencies\"].value\n",
      "//anaconda3/envs/hera/lib/python3.7/site-packages/spin1_beam_model/jones_matrix_field.py:21: H5pyDeprecationWarning: dataset.value has been deprecated. Use dataset[()] instead.\n",
      "  self.L_model = h5f[\"spatial_bandlimit\"].value\n",
      "//anaconda3/envs/hera/lib/python3.7/site-packages/spin1_beam_model/jones_matrix_field.py:22: H5pyDeprecationWarning: dataset.value has been deprecated. Use dataset[()] instead.\n",
      "  self.zenith_theta = h5f[\"zenith_theta\"].value\n",
      "//anaconda3/envs/hera/lib/python3.7/site-packages/spin1_beam_model/jones_matrix_field.py:23: H5pyDeprecationWarning: dataset.value has been deprecated. Use dataset[()] instead.\n",
      "  self.zenith_phi = h5f[\"zenith_phi\"].value\n"
     ]
    },
    {
     "name": "stdout",
     "output_type": "stream",
     "text": [
      "delta_nu_in is 1000000.0\n"
     ]
    }
   ],
   "source": [
    "spline_beam_func = beam_models.model_data_to_spline_beam_func(file_path + beam_destination + '.h5', np.array([150e6, 151e6, 152e6]))"
   ]
  },
  {
   "cell_type": "code",
   "execution_count": 12,
   "metadata": {},
   "outputs": [],
   "source": [
    "#spline_beam_func(nu, alt, az)\n",
    "test_out = spline_beam_func(151e6,\n",
    "                np.array([-np.pi / 4, 0, np.pi / 4]),\n",
    "                np.array([0, np.pi / 2, np.pi])\n",
    ")"
   ]
  },
  {
   "cell_type": "code",
   "execution_count": 13,
   "metadata": {},
   "outputs": [
    {
     "data": {
      "text/plain": [
       "array([[[ 0.00000000e+00+0.00000000e+00j,\n",
       "         -0.00000000e+00+0.00000000e+00j],\n",
       "        [ 0.00000000e+00+0.00000000e+00j,\n",
       "          0.00000000e+00+0.00000000e+00j]],\n",
       "\n",
       "       [[ 0.00000000e+00+0.00000000e+00j,\n",
       "          0.00000000e+00+0.00000000e+00j],\n",
       "        [-0.00000000e+00+0.00000000e+00j,\n",
       "          0.00000000e+00+0.00000000e+00j]],\n",
       "\n",
       "       [[-2.76584962e-05-2.06096872e-06j,\n",
       "          2.28540239e-02-3.19287792e-02j],\n",
       "        [ 3.22238330e-02-7.87022980e-03j,\n",
       "         -1.53217075e-06-7.50443615e-07j]]])"
      ]
     },
     "execution_count": 13,
     "metadata": {},
     "output_type": "execute_result"
    }
   ],
   "source": [
    "# to-do: I do not know if the spline takes angles in degrees or radians,\n",
    "    # I have assumed radians\n",
    "print(test_out)"
   ]
  },
  {
   "cell_type": "code",
   "execution_count": 55,
   "metadata": {},
   "outputs": [],
   "source": [
    "#spline_beam_func(nu, alt, az)\n",
    "J = spline_beam_func(151e6,\n",
    "                np.array([np.pi / 4]),\n",
    "                np.array([np.pi])\n",
    ")[0]\n",
    "J_outer = np.kron(J, np.conj(J))"
   ]
  },
  {
   "cell_type": "code",
   "execution_count": 56,
   "metadata": {},
   "outputs": [
    {
     "name": "stdout",
     "output_type": "stream",
     "text": [
      "J matrix:\n",
      "[[-2.76584962e-05-2.06096872e-06j  2.28540239e-02-3.19287792e-02j]\n",
      " [ 3.22238330e-02-7.87022980e-03j -1.53217075e-06-7.50443615e-07j]]\n",
      "\n",
      "Kronecker Product:\n",
      "[[ 7.69240002e-10+0.00000000e+00j -5.66303717e-07-9.30203445e-07j\n",
      "  -5.66303717e-07+9.30203445e-07j  1.54175335e-03+0.00000000e+00j]\n",
      " [-8.75042463e-07-2.84091032e-07j  4.39241795e-11-1.75983859e-11j\n",
      "   9.87731078e-04-8.49001227e-04j -1.10555184e-08+6.60709978e-08j]\n",
      " [-8.75042463e-07+2.84091032e-07j  9.87731078e-04+8.49001227e-04j\n",
      "   4.39241795e-11+1.75983859e-11j -1.10555184e-08-6.60709978e-08j]\n",
      " [ 1.10031593e-03+0.00000000e+00j -4.34662505e-08+3.62407056e-08j\n",
      "  -4.34662505e-08-3.62407056e-08j  2.91071282e-12+0.00000000e+00j]]\n",
      "(4, 4)\n"
     ]
    }
   ],
   "source": [
    "print('J matrix:')\n",
    "print(J)\n",
    "print()\n",
    "\n",
    "print('Kronecker Product:')\n",
    "print(J_outer)\n",
    "print(J_outer.shape)"
   ]
  },
  {
   "cell_type": "code",
   "execution_count": 57,
   "metadata": {},
   "outputs": [],
   "source": [
    "S = .5 * np.array([\n",
    "        [1, 1, 0, 0],\n",
    "        [0, 0, 1, 1j],\n",
    "        [0, 0, 1, -1j],\n",
    "        [1, -1, 0, 0]\n",
    "    ])"
   ]
  },
  {
   "cell_type": "code",
   "execution_count": 58,
   "metadata": {},
   "outputs": [
    {
     "name": "stdout",
     "output_type": "stream",
     "text": [
      "S matrix:\n",
      "[[ 0.5+0.j   0.5+0.j   0. +0.j   0. +0.j ]\n",
      " [ 0. +0.j   0. +0.j   0.5+0.j   0. +0.5j]\n",
      " [ 0. +0.j   0. +0.j   0.5+0.j   0. -0.5j]\n",
      " [ 0.5+0.j  -0.5+0.j   0. +0.j   0. +0.j ]]\n",
      "\n",
      "S inverse:\n",
      "[[ 1.+0.j  0.+0.j  0.+0.j  1.+0.j]\n",
      " [ 1.+0.j  0.-0.j  0.-0.j -1.-0.j]\n",
      " [ 0.+0.j  1.+0.j  1.+0.j  0.+0.j]\n",
      " [ 0.+0.j  0.-1.j  0.+1.j  0.+0.j]]\n"
     ]
    }
   ],
   "source": [
    "print('S matrix:')\n",
    "print(S)\n",
    "print()\n",
    "\n",
    "print('S inverse:')\n",
    "print(np.linalg.inv(S))"
   ]
  },
  {
   "cell_type": "code",
   "execution_count": 59,
   "metadata": {},
   "outputs": [],
   "source": [
    "A = np.dot(S, np.dot(J_outer, np.linalg.inv(S)))"
   ]
  },
  {
   "cell_type": "code",
   "execution_count": 65,
   "metadata": {},
   "outputs": [
    {
     "name": "stdout",
     "output_type": "stream",
     "text": [
      "A matrix:\n",
      "[[-7.20266508e-07-6.07156038e-07j  4.93615423e-04-1.19490666e-03j\n",
      "   4.93549352e-04+3.46835635e-04j -1.54006715e-07+3.23065006e-07j]\n",
      " [ 4.93409897e-04+9.74778890e-04j -1.48917287e-08-1.61965669e-08j\n",
      "   5.11763584e-08-2.72520853e-08j -4.94284940e-04+1.25821129e-04j]\n",
      " [ 4.93446138e-04-1.25493571e-04j -5.11353449e-08+2.72696836e-08j\n",
      "   1.49385636e-08+1.62141652e-08j -4.94321181e-04-9.74538265e-04j]\n",
      " [ 1.54732031e-07-3.23047407e-07j -4.94181726e-04-3.45916487e-04j\n",
      "  -4.94115655e-04+1.19584792e-03j  7.21079672e-07+6.07138440e-07j]]\n",
      "(4, 4)\n"
     ]
    }
   ],
   "source": [
    "print('A matrix:')\n",
    "print(A)\n",
    "print(A.shape)"
   ]
  },
  {
   "cell_type": "code",
   "execution_count": 63,
   "metadata": {},
   "outputs": [],
   "source": [
    "def A_matrix(freq, alt, az):\n",
    "    J = spline_beam_func(freq, alt, az)[0]\n",
    "    J_outer = np.kron(J, np.conj(J))\n",
    "    return np.dot(S, np.dot(J_outer, np.linalg.inv(S)))"
   ]
  },
  {
   "cell_type": "code",
   "execution_count": 66,
   "metadata": {},
   "outputs": [
    {
     "name": "stdout",
     "output_type": "stream",
     "text": [
      "[[-7.20266508e-07-6.07156038e-07j  4.93615423e-04-1.19490666e-03j\n",
      "   4.93549352e-04+3.46835635e-04j -1.54006715e-07+3.23065006e-07j]\n",
      " [ 4.93409897e-04+9.74778890e-04j -1.48917287e-08-1.61965669e-08j\n",
      "   5.11763584e-08-2.72520853e-08j -4.94284940e-04+1.25821129e-04j]\n",
      " [ 4.93446138e-04-1.25493571e-04j -5.11353449e-08+2.72696836e-08j\n",
      "   1.49385636e-08+1.62141652e-08j -4.94321181e-04-9.74538265e-04j]\n",
      " [ 1.54732031e-07-3.23047407e-07j -4.94181726e-04-3.45916487e-04j\n",
      "  -4.94115655e-04+1.19584792e-03j  7.21079672e-07+6.07138440e-07j]]\n"
     ]
    }
   ],
   "source": [
    "test = A_matrix(151e6, np.array([np.pi / 4]), np.array([np.pi])) \n",
    "print(test)"
   ]
  },
  {
   "cell_type": "code",
   "execution_count": 71,
   "metadata": {},
   "outputs": [
    {
     "name": "stdout",
     "output_type": "stream",
     "text": [
      "[[9.42030943e-07 1.29284883e-03 6.03229575e-04 3.57895328e-07]\n",
      " [1.09254163e-03 2.20020990e-08 5.79801329e-08 5.10047604e-04]\n",
      " [5.09153933e-04 5.79522143e-08 2.20467647e-08 1.09273888e-03]\n",
      " [3.58192167e-07 6.03219525e-04 1.29390978e-03 9.42641490e-07]]\n"
     ]
    }
   ],
   "source": [
    "# absolute values. Here the problem is more obvious:\n",
    "# from the paper: \"...the off-diagonal elements of the A matrix are much smaller than the diagonal elements...\"\n",
    "print(np.absolute(test))"
   ]
  },
  {
   "cell_type": "code",
   "execution_count": null,
   "metadata": {},
   "outputs": [],
   "source": []
  }
 ],
 "metadata": {
  "kernelspec": {
   "display_name": "Python 3",
   "language": "python",
   "name": "python3"
  },
  "language_info": {
   "codemirror_mode": {
    "name": "ipython",
    "version": 3
   },
   "file_extension": ".py",
   "mimetype": "text/x-python",
   "name": "python",
   "nbconvert_exporter": "python",
   "pygments_lexer": "ipython3",
   "version": "3.7.6"
  }
 },
 "nbformat": 4,
 "nbformat_minor": 4
}
