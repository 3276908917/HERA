{
 "cells": [
  {
   "cell_type": "code",
   "execution_count": 7,
   "metadata": {},
   "outputs": [],
   "source": [
    "def collapse_angle(degree, minute, second):\n",
    "    return degree + minute / 60 + second / 3600\n",
    "\n",
    "def collapse_hour(hour, minute, second):\n",
    "    return 15 * hour + minute / 4 + second / 240"
   ]
  },
  {
   "cell_type": "code",
   "execution_count": 8,
   "metadata": {},
   "outputs": [
    {
     "name": "stdout",
     "output_type": "stream",
     "text": [
      "Array latitude: -30.72138888888889\n",
      "Array longitude: 21.428333333333335\n"
     ]
    }
   ],
   "source": [
    "# Hydrogen Epoch of Reionization Array, South Africa\n",
    "lat = -collapse_angle(30, 43, 17)\n",
    "lon = collapse_angle(21, 25, 42)\n",
    "print('Array latitude:', lat)\n",
    "print('Array longitude:', lon)"
   ]
  },
  {
   "cell_type": "code",
   "execution_count": 9,
   "metadata": {},
   "outputs": [],
   "source": [
    "import numpy as np\n",
    "\n",
    "def rectangle(a, b):\n",
    "    '''\n",
    "    Given a pair of angles (both angles must be in radians),\n",
    "    return the corresponding 3x1 rectangular vector.\n",
    "    '''\n",
    "    return np.array([np.cos(b) * np.cos(a), np.cos(b) * np.sin(a), np.sin(b)])\n",
    "\n",
    "def M_eq_to_ha(LST):\n",
    "    '''\n",
    "    Return the change-of-basis matrix between the equatorial and\n",
    "    hour angle declination coordinate systems.\n",
    "    The conversion depends on the @LST, Local Siderial Time\n",
    "    '''\n",
    "    s = np.sin(LST)\n",
    "    c = np.cos(LST)\n",
    "    return np.array([[c, s, 0], [s, -c, 0], [0, 0, 1]])\n",
    "\n",
    "def M_ha_to_topo(phi):\n",
    "    '''\n",
    "    Return the change-of-basis matrix between the hour angle declination\n",
    "    and topocentric coordinate systems.\n",
    "    The conversion depends on the user's current latitude @phi,\n",
    "        which must be given in radians.\n",
    "    '''\n",
    "    s = np.sin(phi)\n",
    "    c = np.cos(phi)\n",
    "    return np.array([[-s, 0, c], [0, -1, 0], [c, 0, s]])\n",
    "\n",
    "def new_sphere(out_arr, radians=False):\n",
    "    '''\n",
    "    Given a 3x1 vector,\n",
    "    return the corresponding pair of angles\n",
    "    @radians determines whether the angles are given in radians.\n",
    "    '''\n",
    "    gp = np.arctan2(out_arr[1], out_arr[0])\n",
    "    tp = np.arcsin(out_arr[2])\n",
    "    if not radians:\n",
    "        return np.degrees(gp), np.degrees(tp)   \n",
    "    return gp, tp"
   ]
  },
  {
   "cell_type": "code",
   "execution_count": 10,
   "metadata": {},
   "outputs": [],
   "source": [
    "def eq_to_topo(ra, dec, latitude, lst, radians=False):\n",
    "    '''\n",
    "    @radians determines the format of BOTH input and output!\n",
    "    Given a pair of angles @ra and @dec,\n",
    "    return a pair of angles relating the associated\n",
    "    azimuth and altitude.\n",
    "    '''\n",
    "    if not radians:\n",
    "        ra = np.radians(ra)\n",
    "        dec = np.radians(dec)\n",
    "        latitude = np.radians(latitude)\n",
    "    eq_vector = rectangle(ra, dec)\n",
    "    ha_vector = np.dot(M_eq_to_ha(lst), eq_vector)\n",
    "    topo_vector = np.dot(M_ha_to_topo(latitude), ha_vector)\n",
    "    return new_sphere(topo_vector, radians)"
   ]
  },
  {
   "cell_type": "code",
   "execution_count": 11,
   "metadata": {},
   "outputs": [],
   "source": [
    "# Would I ever know the LST at which the data were taken?\n",
    "\n",
    "from astropy.time import Time\n",
    "#times = []\n",
    "#t = Time(times, format='unix')\n",
    "t = Time.now()"
   ]
  },
  {
   "cell_type": "code",
   "execution_count": 12,
   "metadata": {},
   "outputs": [
    {
     "data": {
      "text/latex": [
       "$20^\\mathrm{h}48^\\mathrm{m}50.3984^\\mathrm{s}$"
      ],
      "text/plain": [
       "<Longitude 20.81399956 hourangle>"
      ]
     },
     "execution_count": 12,
     "metadata": {},
     "output_type": "execute_result"
    }
   ],
   "source": [
    "# In general, I prefer greater precision, but nutation may be unwanted here\n",
    "import astropy.coordinates as coord\n",
    "from astropy import units as u\n",
    "t.sidereal_time('apparent', coord.Angle(lon, u.deg))"
   ]
  },
  {
   "cell_type": "code",
   "execution_count": 17,
   "metadata": {},
   "outputs": [
    {
     "name": "stdout",
     "output_type": "stream",
     "text": [
      "312.20999333333333\n"
     ]
    }
   ],
   "source": [
    "# hard-coded based on the output of the prior cell\n",
    "# at this point, the lst is essentially an arbitrary universal value\n",
    "LST = collapse_hour(20, 48, 50.3984)\n",
    "print(LST)"
   ]
  },
  {
   "cell_type": "code",
   "execution_count": 18,
   "metadata": {},
   "outputs": [
    {
     "name": "stdout",
     "output_type": "stream",
     "text": [
      "(125.13433657496003, -2.0959704504281866)\n",
      "(122.31509574164853, -4.2796710707343015)\n",
      "(124.37263191290745, -2.7344980619982886)\n",
      "(129.7684149277134, 1.3397842061107543)\n",
      "(126.77427996862524, -0.943215083251586)\n",
      "(133.15544976143204, 3.8437836527690283)\n",
      "(129.12602851431436, 0.8013374965530577)\n",
      "(130.35718956223494, 1.7235520599467984)\n"
     ]
    }
   ],
   "source": [
    "# We want to get ten radio sources with declinations in the correct range (-20.72 to -40.72 degrees)\n",
    "# \"For the total intensity properties we used the Hurley-Walker et al. (2014) catalogue\"\n",
    "\n",
    "\n",
    "HW = np.array([\n",
    "    (.016 , -28.406), (.08, -24.844), (.076, -27.414),\n",
    "    (.067, -34.174), (.091, -30.409), (.107, -38.383),\n",
    "    (.119, -33.337), (.125, -34.875)\n",
    "])\n",
    "\n",
    "for pair in HW:\n",
    "    print(eq_to_topo(pair[0], pair[1], lat, LST, radians=False))"
   ]
  },
  {
   "cell_type": "code",
   "execution_count": null,
   "metadata": {},
   "outputs": [],
   "source": []
  }
 ],
 "metadata": {
  "kernelspec": {
   "display_name": "Python 3",
   "language": "python",
   "name": "python3"
  },
  "language_info": {
   "codemirror_mode": {
    "name": "ipython",
    "version": 3
   },
   "file_extension": ".py",
   "mimetype": "text/x-python",
   "name": "python",
   "nbconvert_exporter": "python",
   "pygments_lexer": "ipython3",
   "version": "3.7.6"
  }
 },
 "nbformat": 4,
 "nbformat_minor": 4
}
