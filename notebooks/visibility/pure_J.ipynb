{
 "cells": [
  {
   "cell_type": "markdown",
   "metadata": {},
   "source": [
    "It is a pain to have to keep dumping compute and garbage text files just to regenerate J each time.\n",
    "The point of this notebook is to carefully review the process of J calculation,\n",
    "so that we can perform it just once and save to the result to a shared numpy zip file."
   ]
  },
  {
   "cell_type": "code",
   "execution_count": 1,
   "metadata": {},
   "outputs": [],
   "source": [
    "file_path = '/Users/lfinkbeiner/Documents/GitHub/HERA/notebooks/beam/'\n",
    "beam_origin = 'HERA_4.9m_E-pattern_151MHz.txt'\n",
    "beam_destination = 'ant1_s2'"
   ]
  },
  {
   "cell_type": "code",
   "execution_count": 2,
   "metadata": {},
   "outputs": [
    {
     "name": "stdout",
     "output_type": "stream",
     "text": [
      "Missing flux value for: GLEAM J202818-254302 at frequency: 204 MHz.\n",
      "Missing flux value for: GLEAM J202818-254302 at frequency: 212 MHz.\n",
      "Missing flux value for: GLEAM J202818-254302 at frequency: 220 MHz.\n",
      "Missing flux value for: GLEAM J202818-254302 at frequency: 227 MHz.\n",
      "Missing spectral index for: GLEAM J202818-254302\n"
     ]
    }
   ],
   "source": [
    "%matplotlib notebook\n",
    "import matplotlib.pyplot as plt\n",
    "from RIMEz import beam_models\n",
    "import numpy as np\n",
    "import healpy as hp\n",
    "from spin1_beam_model import cst_processing, jones_matrix_field\n",
    "import rotations\n",
    "import parser"
   ]
  },
  {
   "cell_type": "code",
   "execution_count": 3,
   "metadata": {},
   "outputs": [],
   "source": [
    "processor = cst_processing.CSTDataProcessor(\n",
    "    [file_path + beam_origin,\n",
    "    file_path + beam_origin,\n",
    "    file_path + beam_origin],\n",
    "    np.array([150e6, 151e6, 152e6]),\n",
    "    1, 1e-4\n",
    ")"
   ]
  },
  {
   "cell_type": "code",
   "execution_count": 4,
   "metadata": {},
   "outputs": [
    {
     "name": "stderr",
     "output_type": "stream",
     "text": [
      "//anaconda3/envs/hera/lib/python3.7/site-packages/spin1_beam_model/jones_matrix_field.py:18: H5pyDeprecationWarning: dataset.value has been deprecated. Use dataset[()] instead.\n",
      "  self.pos1_Elm_samples = h5f[\"pos1_Elm\"].value\n",
      "//anaconda3/envs/hera/lib/python3.7/site-packages/spin1_beam_model/jones_matrix_field.py:19: H5pyDeprecationWarning: dataset.value has been deprecated. Use dataset[()] instead.\n",
      "  self.neg1_Elm_samples = h5f[\"neg1_Elm\"].value\n",
      "//anaconda3/envs/hera/lib/python3.7/site-packages/spin1_beam_model/jones_matrix_field.py:20: H5pyDeprecationWarning: dataset.value has been deprecated. Use dataset[()] instead.\n",
      "  self.freq_nodes = h5f[\"frequencies\"].value\n",
      "//anaconda3/envs/hera/lib/python3.7/site-packages/spin1_beam_model/jones_matrix_field.py:21: H5pyDeprecationWarning: dataset.value has been deprecated. Use dataset[()] instead.\n",
      "  self.L_model = h5f[\"spatial_bandlimit\"].value\n",
      "//anaconda3/envs/hera/lib/python3.7/site-packages/spin1_beam_model/jones_matrix_field.py:22: H5pyDeprecationWarning: dataset.value has been deprecated. Use dataset[()] instead.\n",
      "  self.zenith_theta = h5f[\"zenith_theta\"].value\n",
      "//anaconda3/envs/hera/lib/python3.7/site-packages/spin1_beam_model/jones_matrix_field.py:23: H5pyDeprecationWarning: dataset.value has been deprecated. Use dataset[()] instead.\n",
      "  self.zenith_phi = h5f[\"zenith_phi\"].value\n"
     ]
    },
    {
     "name": "stdout",
     "output_type": "stream",
     "text": [
      "delta_nu_in is 1000000.0\n"
     ]
    }
   ],
   "source": [
    "processor.compute_spin1_harmonics()\n",
    "processor.write_model_data(file_path, beam_destination)\n",
    "spline_beam_func = beam_models.model_data_to_spline_beam_func(file_path + beam_destination + '.h5', np.array([150e6, 151e6, 152e6]))"
   ]
  },
  {
   "cell_type": "code",
   "execution_count": 5,
   "metadata": {},
   "outputs": [],
   "source": [
    "list_az = []\n",
    "list_alt = []\n",
    "for source in parser.obj_catalog:\n",
    "    ra = np.radians(source.ra_angle)\n",
    "    dec = np.radians(source.dec_angle)\n",
    "    az, alt = rotations.eq_to_topo(ra, dec,\n",
    "        np.radians(rotations.hera_lat),\n",
    "        rotations.get_lst(), radians=True)\n",
    "    list_az.append(az)\n",
    "    list_alt.append(alt)"
   ]
  },
  {
   "cell_type": "code",
   "execution_count": 6,
   "metadata": {},
   "outputs": [
    {
     "name": "stdout",
     "output_type": "stream",
     "text": [
      "[ 2.20311979 -2.38113276 -1.79505527 ...  2.84724146 -1.74640872\n",
      "  3.03279673]\n",
      "[ 0.08110129 -0.07237052  0.46737734 ... -0.51195252  0.48255068\n",
      " -0.40853046]\n"
     ]
    }
   ],
   "source": [
    "\"\"\"\n",
    "I am commenting this part out because we want to be able to\n",
    "index into J as though we were indexing into obj_catalog.\n",
    "list_az.sort()\n",
    "list_alt.sort()\n",
    "\"\"\"\n",
    "\n",
    "# reformat into arrays so that the spline function can handle the single angles\n",
    "list_az = np.array(list_az)\n",
    "list_alt = np.array(list_alt)\n",
    "print(list_az)\n",
    "print(list_alt)"
   ]
  },
  {
   "cell_type": "code",
   "execution_count": 7,
   "metadata": {},
   "outputs": [
    {
     "data": {
      "text/plain": [
       "(3872, 2, 2)"
      ]
     },
     "execution_count": 7,
     "metadata": {},
     "output_type": "execute_result"
    }
   ],
   "source": [
    "J = spline_beam_func(150e6, list_alt, list_az)\n",
    "J.shape"
   ]
  },
  {
   "cell_type": "code",
   "execution_count": 21,
   "metadata": {},
   "outputs": [
    {
     "data": {
      "text/plain": [
       "1360"
      ]
     },
     "execution_count": 21,
     "metadata": {},
     "output_type": "execute_result"
    }
   ],
   "source": [
    "empty_blocks = 0\n",
    "for block in J:\n",
    "    if block[0][0] == 0 and \\\n",
    "        block[1][0] == 0 and \\\n",
    "        block[0][1] == 0 and \\\n",
    "        block[1][1] == 0:\n",
    "        empty_blocks += 1\n",
    "empty_blocks"
   ]
  },
  {
   "cell_type": "code",
   "execution_count": 24,
   "metadata": {},
   "outputs": [
    {
     "data": {
      "text/plain": [
       "35.12396694214876"
      ]
     },
     "execution_count": 24,
     "metadata": {},
     "output_type": "execute_result"
    }
   ],
   "source": [
    "\"\"\" This is a major problem, is it not? \"\"\"\n",
    "percent_empty = 100 * empty_blocks / len(J)\n",
    "percent_empty"
   ]
  },
  {
   "cell_type": "code",
   "execution_count": 9,
   "metadata": {},
   "outputs": [],
   "source": [
    "np.save(\"../J.npy\", J, fix_imports=False)"
   ]
  }
 ],
 "metadata": {
  "kernelspec": {
   "display_name": "Python 3",
   "language": "python",
   "name": "python3"
  },
  "language_info": {
   "codemirror_mode": {
    "name": "ipython",
    "version": 3
   },
   "file_extension": ".py",
   "mimetype": "text/x-python",
   "name": "python",
   "nbconvert_exporter": "python",
   "pygments_lexer": "ipython3",
   "version": "3.7.6"
  }
 },
 "nbformat": 4,
 "nbformat_minor": 4
}
