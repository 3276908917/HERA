{
 "cells": [
  {
   "cell_type": "markdown",
   "metadata": {},
   "source": [
    "It is a pain to have to keep dumping compute and garbage text files just to regenerate J each time.\n",
    "The point of this notebook is to carefully review the process of J calculation,\n",
    "so that we can perform it just once and save to the result to a shared numpy zip file."
   ]
  },
  {
   "cell_type": "code",
   "execution_count": 1,
   "metadata": {},
   "outputs": [
    {
     "name": "stdout",
     "output_type": "stream",
     "text": [
      "Missing flux value for: GLEAM J202818-254302 at frequency: 204 MHz.\n",
      "Missing flux value for: GLEAM J202818-254302 at frequency: 212 MHz.\n",
      "Missing flux value for: GLEAM J202818-254302 at frequency: 220 MHz.\n",
      "Missing flux value for: GLEAM J202818-254302 at frequency: 227 MHz.\n",
      "Missing spectral index for: GLEAM J202818-254302\n"
     ]
    },
    {
     "name": "stderr",
     "output_type": "stream",
     "text": [
      "//anaconda3/envs/hera/lib/python3.7/site-packages/spin1_beam_model/jones_matrix_field.py:18: H5pyDeprecationWarning: dataset.value has been deprecated. Use dataset[()] instead.\n",
      "  self.pos1_Elm_samples = h5f[\"pos1_Elm\"].value\n",
      "//anaconda3/envs/hera/lib/python3.7/site-packages/spin1_beam_model/jones_matrix_field.py:19: H5pyDeprecationWarning: dataset.value has been deprecated. Use dataset[()] instead.\n",
      "  self.neg1_Elm_samples = h5f[\"neg1_Elm\"].value\n",
      "//anaconda3/envs/hera/lib/python3.7/site-packages/spin1_beam_model/jones_matrix_field.py:20: H5pyDeprecationWarning: dataset.value has been deprecated. Use dataset[()] instead.\n",
      "  self.freq_nodes = h5f[\"frequencies\"].value\n",
      "//anaconda3/envs/hera/lib/python3.7/site-packages/spin1_beam_model/jones_matrix_field.py:21: H5pyDeprecationWarning: dataset.value has been deprecated. Use dataset[()] instead.\n",
      "  self.L_model = h5f[\"spatial_bandlimit\"].value\n",
      "//anaconda3/envs/hera/lib/python3.7/site-packages/spin1_beam_model/jones_matrix_field.py:22: H5pyDeprecationWarning: dataset.value has been deprecated. Use dataset[()] instead.\n",
      "  self.zenith_theta = h5f[\"zenith_theta\"].value\n",
      "//anaconda3/envs/hera/lib/python3.7/site-packages/spin1_beam_model/jones_matrix_field.py:23: H5pyDeprecationWarning: dataset.value has been deprecated. Use dataset[()] instead.\n",
      "  self.zenith_phi = h5f[\"zenith_phi\"].value\n"
     ]
    },
    {
     "name": "stdout",
     "output_type": "stream",
     "text": [
      "delta_nu_in is 1000000.0\n"
     ]
    }
   ],
   "source": [
    "%matplotlib notebook\n",
    "import flux"
   ]
  },
  {
   "cell_type": "code",
   "execution_count": 3,
   "metadata": {},
   "outputs": [],
   "source": [
    "import matplotlib.pyplot as plt\n",
    "import numpy as np\n",
    "import healpy as hp"
   ]
  },
  {
   "cell_type": "code",
   "execution_count": 4,
   "metadata": {},
   "outputs": [],
   "source": [
    "list_az = []\n",
    "list_alt = []\n",
    "for source in flux.catalog.obj_catalog:\n",
    "    ra = np.radians(source.ra_angle)\n",
    "    dec = np.radians(source.dec_angle)\n",
    "    az, alt = flux.rot.eq_to_topo(\n",
    "        ra, dec,\n",
    "        np.radians(flux.rot.hera_lat),\n",
    "        flux.rot.get_lst(), radians=True\n",
    "    )\n",
    "    list_az.append(az)\n",
    "    list_alt.append(alt)"
   ]
  },
  {
   "cell_type": "code",
   "execution_count": 5,
   "metadata": {},
   "outputs": [
    {
     "name": "stdout",
     "output_type": "stream",
     "text": [
      "[-2.21399339  1.92973374  1.81173758 ... -1.76924241  1.75534913\n",
      " -1.91706073]\n",
      "[0.06523562 1.21296969 0.4337551  ... 0.72991699 0.46504434 0.89746837]\n"
     ]
    }
   ],
   "source": [
    "\"\"\"\n",
    "I am commenting this part out because we want to be able to\n",
    "index into J as though we were indexing into obj_catalog.\n",
    "list_az.sort()\n",
    "list_alt.sort()\n",
    "\"\"\"\n",
    "\n",
    "# reformat into arrays so that the spline function can handle the single angles\n",
    "list_az = np.array(list_az)\n",
    "list_alt = np.array(list_alt)\n",
    "print(list_az)\n",
    "print(list_alt)"
   ]
  },
  {
   "cell_type": "code",
   "execution_count": 6,
   "metadata": {},
   "outputs": [],
   "source": [
    "#nside = 16, 32, 64, 128...\n",
    "nside = 128\n",
    "\n",
    "# healpix does the interpolation for you?\n",
    "theta, phi = hp.pix2ang(nside, np.arange(12 * nside * nside))\n",
    "az = phi\n",
    "alt = np.pi / 2 - theta\n",
    "J = flux.stokes.spline_beam_func(150e6, alt, az)"
   ]
  },
  {
   "cell_type": "code",
   "execution_count": 8,
   "metadata": {},
   "outputs": [
    {
     "name": "stdout",
     "output_type": "stream",
     "text": [
      "5.497787143782138\n",
      "-2.8884764391135818\n",
      "float64\n"
     ]
    },
    {
     "data": {
      "text/plain": [
       "(196608, 2, 2)"
      ]
     },
     "execution_count": 8,
     "metadata": {},
     "output_type": "execute_result"
    }
   ],
   "source": [
    "print(az[3])\n",
    "print(list_az[3])\n",
    "print(alt.dtype)\n",
    "J.shape"
   ]
  },
  {
   "cell_type": "code",
   "execution_count": 9,
   "metadata": {},
   "outputs": [
    {
     "name": "stdout",
     "output_type": "stream",
     "text": [
      "[0.78539816 2.35619449 3.92699082 ... 2.35619449 3.92699082 5.49778714]\n",
      "[ 1.56441744  1.56441744  1.56441744 ... -1.56441744 -1.56441744\n",
      " -1.56441744]\n"
     ]
    },
    {
     "data": {
      "text/plain": [
       "dtype('float64')"
      ]
     },
     "execution_count": 9,
     "metadata": {},
     "output_type": "execute_result"
    }
   ],
   "source": [
    "print(az)\n",
    "print(alt)\n",
    "list_alt.dtype"
   ]
  },
  {
   "cell_type": "code",
   "execution_count": 10,
   "metadata": {},
   "outputs": [
    {
     "data": {
      "text/plain": [
       "(3872, 2, 2)"
      ]
     },
     "execution_count": 10,
     "metadata": {},
     "output_type": "execute_result"
    }
   ],
   "source": [
    "J = flux.stokes.spline_beam_func(150e6, list_alt, list_az)\n",
    "J.shape"
   ]
  },
  {
   "cell_type": "code",
   "execution_count": 11,
   "metadata": {},
   "outputs": [
    {
     "data": {
      "text/plain": [
       "1484"
      ]
     },
     "execution_count": 11,
     "metadata": {},
     "output_type": "execute_result"
    }
   ],
   "source": [
    "empty_blocks = 0\n",
    "for block in J:\n",
    "    if block[0][0] == 0 and \\\n",
    "        block[1][0] == 0 and \\\n",
    "        block[0][1] == 0 and \\\n",
    "        block[1][1] == 0:\n",
    "        empty_blocks += 1\n",
    "empty_blocks"
   ]
  },
  {
   "cell_type": "code",
   "execution_count": 12,
   "metadata": {},
   "outputs": [
    {
     "data": {
      "text/plain": [
       "38.32644628099174"
      ]
     },
     "execution_count": 12,
     "metadata": {},
     "output_type": "execute_result"
    }
   ],
   "source": [
    "\"\"\" This is a major problem, is it not? \"\"\"\n",
    "percent_empty = 100 * empty_blocks / len(J)\n",
    "percent_empty"
   ]
  },
  {
   "cell_type": "code",
   "execution_count": 15,
   "metadata": {},
   "outputs": [
    {
     "name": "stdout",
     "output_type": "stream",
     "text": [
      "[[[-0.01169484+0.00335301j -0.05251387-0.01053338j]\n",
      "  [-0.0521776 +0.0101595j   0.01215581+0.00316631j]]]\n"
     ]
    }
   ],
   "source": [
    "# Hard-coding a right-ascension,\n",
    "# this should be a maximum response...\n",
    "\n",
    "# the cold patch represents degrees 0 through 120\n",
    "\n",
    "ra_max = np.radians(59.984791666666666)\n",
    "dec_max = np.radians(-23.4345)\n",
    "\n",
    "J_max = flux.stokes.J_matrix(ra, dec, lst=np.pi / 3)\n",
    "print(J_max)"
   ]
  },
  {
   "cell_type": "code",
   "execution_count": 20,
   "metadata": {},
   "outputs": [
    {
     "name": "stdout",
     "output_type": "stream",
     "text": [
      "\n",
      "Declination: -0.54 \n",
      "Right acension: 0 \n",
      "Resultant J matrix:\n",
      " [[[-0.01394893+0.00664088j  0.03292649+0.00266418j]\n",
      "  [ 0.01151518-0.03048613j  0.01611135-0.01044008j]]] \n",
      "\n",
      "\n",
      "Declination: -0.54 \n",
      "Right acension: 10 \n",
      "Resultant J matrix:\n",
      " [[[-0.00941275+0.00865026j  0.02039517-0.0150796j ]\n",
      "  [ 0.01680992-0.02457134j  0.00893044-0.01070789j]]] \n",
      "\n",
      "\n",
      "Declination: -0.54 \n",
      "Right acension: 20 \n",
      "Resultant J matrix:\n",
      " [[[ 0.01164934+0.00730785j -0.02650823-0.02985053j]\n",
      "  [-0.03844987-0.01168298j -0.01436482-0.00873063j]]] \n",
      "\n",
      "\n",
      "Declination: -0.54 \n",
      "Right acension: 30 \n",
      "Resultant J matrix:\n",
      " [[[ 0.00480075+0.00541987j -0.01722691-0.02081558j]\n",
      "  [-0.02089781-0.02192923j -0.00578392-0.00637318j]]] \n",
      "\n",
      "\n",
      "Declination: -0.54 \n",
      "Right acension: 40 \n",
      "Resultant J matrix:\n",
      " [[[ 0.01085977+0.00071735j -0.05349354-0.01452555j]\n",
      "  [-0.06220647+0.01857443j -0.01114586+0.00174292j]]] \n",
      "\n",
      "\n",
      "Declination: -0.54 \n",
      "Right acension: 50 \n",
      "Resultant J matrix:\n",
      " [[[-0.02113884+0.01928468j  0.27577173-0.2352934j ]\n",
      "  [ 0.19527432-0.16368834j  0.02198453-0.01458582j]]] \n",
      "\n",
      "\n",
      "Declination: -0.54 \n",
      "Right acension: 60 \n",
      "Resultant J matrix:\n",
      " [[[ 2.82762277e-05+3.15504315e-05j  8.12625479e-01-5.82786214e-01j]\n",
      "  [ 8.12625484e-01-5.82786216e-01j -2.82770297e-05-3.15515148e-05j]]] \n",
      "\n",
      "\n",
      "Declination: -0.54 \n",
      "Right acension: 70 \n",
      "Resultant J matrix:\n",
      " [[[ 0.02147217-0.01880356j  0.27793884-0.23154735j]\n",
      "  [ 0.19527246-0.16369026j -0.02200714+0.01456442j]]] \n",
      "\n",
      "\n",
      "Declination: -0.54 \n",
      "Right acension: 80 \n",
      "Resultant J matrix:\n",
      " [[[-0.01088274-0.00069433j -0.05361377-0.01410703j]\n",
      "  [-0.06220642+0.01857519j  0.01114505-0.00173846j]]] \n",
      "\n",
      "\n",
      "Declination: -0.54 \n",
      "Right acension: 90 \n",
      "Resultant J matrix:\n",
      " [[[-0.00476103-0.00528979j -0.01708586-0.02065217j]\n",
      "  [-0.02089829-0.02192873j  0.00578209+0.00637514j]]] \n",
      "\n",
      "\n",
      "Declination: -0.54 \n",
      "Right acension: 100 \n",
      "Resultant J matrix:\n",
      " [[[-0.01168048-0.00733673j -0.02673898-0.02984666j]\n",
      "  [-0.03845048-0.01168191j  0.01436211+0.00873331j]]] \n",
      "\n",
      "\n",
      "Declination: -0.54 \n",
      "Right acension: 110 \n",
      "Resultant J matrix:\n",
      " [[[ 0.00937569-0.00864344j  0.02043971-0.01498419j]\n",
      "  [ 0.01680906-0.02457188j -0.00893214+0.01070645j]]] \n",
      "\n",
      "\n",
      "Declination: -0.54 \n",
      "Right acension: 120 \n",
      "Resultant J matrix:\n",
      " [[[ 0.01395057-0.00652076j  0.03294592+0.00270431j]\n",
      "  [ 0.01151451-0.03048736j -0.01611149+0.01043708j]]] \n",
      "\n"
     ]
    }
   ],
   "source": [
    "dec_decf = np.radians(-30.72)\n",
    "\n",
    "ra_decf = 0\n",
    "\n",
    "while ra_decf <= 120:\n",
    "    J_decf = flux.stokes.J_matrix(\n",
    "        np.radians(ra_decf), dec_decf, lst=np.pi / 3\n",
    "    )\n",
    "    print(\"\\nDeclination:\", np.around(dec_decf, 2),\n",
    "          \"\\nRight acension:\", np.around(ra_decf, 2),\n",
    "          \"\\nResultant J matrix:\\n\", J_decf, \"\\n\")\n",
    "    ra_decf += 10"
   ]
  },
  {
   "cell_type": "code",
   "execution_count": null,
   "metadata": {},
   "outputs": [],
   "source": []
  }
 ],
 "metadata": {
  "kernelspec": {
   "display_name": "Python 3",
   "language": "python",
   "name": "python3"
  },
  "language_info": {
   "codemirror_mode": {
    "name": "ipython",
    "version": 3
   },
   "file_extension": ".py",
   "mimetype": "text/x-python",
   "name": "python",
   "nbconvert_exporter": "python",
   "pygments_lexer": "ipython3",
   "version": "3.7.6"
  }
 },
 "nbformat": 4,
 "nbformat_minor": 4
}
