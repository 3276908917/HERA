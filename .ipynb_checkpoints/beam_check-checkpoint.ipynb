{
 "cells": [
  {
   "cell_type": "code",
   "execution_count": 1,
   "metadata": {},
   "outputs": [],
   "source": [
    "%matplotlib notebook\n",
    "import healpy"
   ]
  },
  {
   "cell_type": "code",
   "execution_count": 2,
   "metadata": {},
   "outputs": [
    {
     "name": "stderr",
     "output_type": "stream",
     "text": [
      "WARNING: leap-second auto-update failed due to the following exception: RuntimeError('attempted to use clear_download_cache on the path //anaconda3/envs/hera/lib/python3.7/site-packages/astropy/utils/iers/data/Leap_Second.dat outside the data cache directory /Users/lfinkbeiner/.astropy/cache/download/py3') [astropy.time.core]\n"
     ]
    },
    {
     "ename": "FileNotFoundError",
     "evalue": "[Errno 2] No such file or directory: '/home/lfinkbeiner/Documents/HERA/HERA_4.9m_E-pattern_151MHz.txt'",
     "output_type": "error",
     "traceback": [
      "\u001b[0;31m---------------------------------------------------------------------------\u001b[0m",
      "\u001b[0;31mFileNotFoundError\u001b[0m                         Traceback (most recent call last)",
      "\u001b[0;32m<ipython-input-2-777c621828f7>\u001b[0m in \u001b[0;36m<module>\u001b[0;34m\u001b[0m\n\u001b[1;32m     16\u001b[0m     \u001b[0mfeed_name\u001b[0m\u001b[0;34m=\u001b[0m\u001b[0;34m'PAPER_dipole'\u001b[0m\u001b[0;34m,\u001b[0m \u001b[0mfeed_version\u001b[0m\u001b[0;34m=\u001b[0m\u001b[0;34m'0.1'\u001b[0m\u001b[0;34m,\u001b[0m\u001b[0;34m\u001b[0m\u001b[0;34m\u001b[0m\u001b[0m\n\u001b[1;32m     17\u001b[0m     \u001b[0mmodel_name\u001b[0m\u001b[0;34m=\u001b[0m\u001b[0;34m'E-field pattern - Rigging height 4.9m'\u001b[0m\u001b[0;34m,\u001b[0m\u001b[0;34m\u001b[0m\u001b[0;34m\u001b[0m\u001b[0m\n\u001b[0;32m---> 18\u001b[0;31m     model_version='1.0')\n\u001b[0m",
      "\u001b[0;32m//anaconda3/envs/hera/lib/python3.7/site-packages/pyuvdata/uvbeam/uvbeam.py\u001b[0m in \u001b[0;36mread_cst_beam\u001b[0;34m(self, filename, beam_type, feed_pol, rotate_pol, frequency, telescope_name, feed_name, feed_version, model_name, model_version, history, x_orientation, reference_impedance, extra_keywords, frequency_select, run_check, check_extra, run_check_acceptability)\u001b[0m\n\u001b[1;32m   2652\u001b[0m                                        \u001b[0mextra_keywords\u001b[0m\u001b[0;34m=\u001b[0m\u001b[0mextra_keywords\u001b[0m\u001b[0;34m,\u001b[0m\u001b[0;34m\u001b[0m\u001b[0;34m\u001b[0m\u001b[0m\n\u001b[1;32m   2653\u001b[0m                                        \u001b[0mrun_check\u001b[0m\u001b[0;34m=\u001b[0m\u001b[0mrun_check\u001b[0m\u001b[0;34m,\u001b[0m \u001b[0mcheck_extra\u001b[0m\u001b[0;34m=\u001b[0m\u001b[0mcheck_extra\u001b[0m\u001b[0;34m,\u001b[0m\u001b[0;34m\u001b[0m\u001b[0;34m\u001b[0m\u001b[0m\n\u001b[0;32m-> 2654\u001b[0;31m                                        run_check_acceptability=run_check_acceptability)\n\u001b[0m\u001b[1;32m   2655\u001b[0m             \u001b[0mself\u001b[0m\u001b[0;34m.\u001b[0m\u001b[0m_convert_from_filetype\u001b[0m\u001b[0;34m(\u001b[0m\u001b[0mcst_beam_obj\u001b[0m\u001b[0;34m)\u001b[0m\u001b[0;34m\u001b[0m\u001b[0;34m\u001b[0m\u001b[0m\n\u001b[1;32m   2656\u001b[0m             \u001b[0;32mdel\u001b[0m\u001b[0;34m(\u001b[0m\u001b[0mcst_beam_obj\u001b[0m\u001b[0;34m)\u001b[0m\u001b[0;34m\u001b[0m\u001b[0;34m\u001b[0m\u001b[0m\n",
      "\u001b[0;32m//anaconda3/envs/hera/lib/python3.7/site-packages/pyuvdata/uvbeam/cst_beam.py\u001b[0m in \u001b[0;36mread_cst_beam\u001b[0;34m(self, filename, beam_type, feed_pol, rotate_pol, frequency, telescope_name, feed_name, feed_version, model_name, model_version, history, x_orientation, reference_impedance, extra_keywords, run_check, check_extra, run_check_acceptability)\u001b[0m\n\u001b[1;32m    173\u001b[0m         \u001b[0mself\u001b[0m\u001b[0;34m.\u001b[0m\u001b[0mset_cs_params\u001b[0m\u001b[0;34m(\u001b[0m\u001b[0;34m)\u001b[0m\u001b[0;34m\u001b[0m\u001b[0;34m\u001b[0m\u001b[0m\n\u001b[1;32m    174\u001b[0m \u001b[0;34m\u001b[0m\u001b[0m\n\u001b[0;32m--> 175\u001b[0;31m         \u001b[0mout_file\u001b[0m \u001b[0;34m=\u001b[0m \u001b[0mopen\u001b[0m\u001b[0;34m(\u001b[0m\u001b[0mfilename\u001b[0m\u001b[0;34m,\u001b[0m \u001b[0;34m'r'\u001b[0m\u001b[0;34m)\u001b[0m\u001b[0;34m\u001b[0m\u001b[0;34m\u001b[0m\u001b[0m\n\u001b[0m\u001b[1;32m    176\u001b[0m         \u001b[0mline\u001b[0m \u001b[0;34m=\u001b[0m \u001b[0mout_file\u001b[0m\u001b[0;34m.\u001b[0m\u001b[0mreadline\u001b[0m\u001b[0;34m(\u001b[0m\u001b[0;34m)\u001b[0m\u001b[0;34m.\u001b[0m\u001b[0mstrip\u001b[0m\u001b[0;34m(\u001b[0m\u001b[0;34m)\u001b[0m  \u001b[0;31m# Get the first line\u001b[0m\u001b[0;34m\u001b[0m\u001b[0;34m\u001b[0m\u001b[0m\n\u001b[1;32m    177\u001b[0m         \u001b[0mout_file\u001b[0m\u001b[0;34m.\u001b[0m\u001b[0mclose\u001b[0m\u001b[0;34m(\u001b[0m\u001b[0;34m)\u001b[0m\u001b[0;34m\u001b[0m\u001b[0;34m\u001b[0m\u001b[0m\n",
      "\u001b[0;31mFileNotFoundError\u001b[0m: [Errno 2] No such file or directory: '/home/lfinkbeiner/Documents/HERA/HERA_4.9m_E-pattern_151MHz.txt'"
     ]
    }
   ],
   "source": [
    "import os\n",
    "from pyuvdata import UVBeam\n",
    "from pyuvdata.data import DATA_PATH\n",
    "import numpy as np\n",
    "import matplotlib.pyplot as plt\n",
    "beam = UVBeam()\n",
    "\n",
    "beam_filenames = [os.path.join(DATA_PATH, f) for f in ['./HERA_4.9m_E-pattern_151MHz.txt']]\n",
    "\n",
    "# Most importantly, the hard-code values below are entirely taken from the demo,\n",
    "    # and do not necessarily reflect your case at all\n",
    "# It seems a little ridiculous to have to specify frequencies both here and in the file names...\n",
    "# I do not understand feed polarization. And what is the point of feed version?\n",
    "beam.read_cst_beam(beam_filenames, beam_type='efield', frequency=[151e6],\n",
    "    feed_pol='x', rotate_pol=True, telescope_name='HERA',\n",
    "    feed_name='PAPER_dipole', feed_version='0.1',\n",
    "    model_name='E-field pattern - Rigging height 4.9m',\n",
    "    model_version='1.0')"
   ]
  },
  {
   "cell_type": "code",
   "execution_count": null,
   "metadata": {},
   "outputs": [],
   "source": [
    "#beam.efield_to_power()"
   ]
  },
  {
   "cell_type": "code",
   "execution_count": null,
   "metadata": {},
   "outputs": [],
   "source": [
    "beam.interpolation_function = 'az_za_simple'"
   ]
  },
  {
   "cell_type": "code",
   "execution_count": null,
   "metadata": {},
   "outputs": [],
   "source": [
    "beam.beam_type"
   ]
  },
  {
   "cell_type": "code",
   "execution_count": null,
   "metadata": {},
   "outputs": [],
   "source": [
    "beam.to_healpix()"
   ]
  },
  {
   "cell_type": "code",
   "execution_count": null,
   "metadata": {},
   "outputs": [],
   "source": [
    "beam.data_array.shape"
   ]
  },
  {
   "cell_type": "code",
   "execution_count": null,
   "metadata": {},
   "outputs": [],
   "source": []
  },
  {
   "cell_type": "code",
   "execution_count": null,
   "metadata": {},
   "outputs": [],
   "source": [
    "healpy.orthview(beam.data_array[1, 0, 0, 0, :], half_sky=True, rot=[0, 90])"
   ]
  },
  {
   "cell_type": "code",
   "execution_count": null,
   "metadata": {},
   "outputs": [],
   "source": [
    "healpy.orthview(beam.data_array[0, 0, 1, 0, :], half_sky=True, rot=[0, 90])"
   ]
  },
  {
   "cell_type": "code",
   "execution_count": null,
   "metadata": {},
   "outputs": [],
   "source": [
    "healpy.orthview(beam.data_array[1, 0, 1, 0, :], half_sky=True, rot=[0, 90])"
   ]
  },
  {
   "cell_type": "code",
   "execution_count": null,
   "metadata": {},
   "outputs": [],
   "source": [
    "healpy.orthview(beam.data_array[0, 0, 0, 0, :], half_sky=True, rot=[0, 90])"
   ]
  },
  {
   "cell_type": "code",
   "execution_count": null,
   "metadata": {},
   "outputs": [],
   "source": [
    "beam.efield_to_pstokes()"
   ]
  },
  {
   "cell_type": "code",
   "execution_count": null,
   "metadata": {},
   "outputs": [],
   "source": [
    "beam.data_array.shape"
   ]
  },
  {
   "cell_type": "code",
   "execution_count": null,
   "metadata": {},
   "outputs": [],
   "source": [
    "beam.data_array[0, 0, 0, 0, :]"
   ]
  },
  {
   "cell_type": "code",
   "execution_count": null,
   "metadata": {},
   "outputs": [],
   "source": [
    "healpy.orthview(beam.data_array[0, 0, 3, 0, :], half_sky=True, rot=[0, 90])"
   ]
  },
  {
   "cell_type": "code",
   "execution_count": null,
   "metadata": {},
   "outputs": [],
   "source": [
    "healpy.orthview(beam.data_array[0, 0, 2, 0, :], half_sky=True, rot=[0, 90])"
   ]
  },
  {
   "cell_type": "code",
   "execution_count": null,
   "metadata": {},
   "outputs": [],
   "source": [
    "healpy.orthview(beam.data_array[0, 0, 1, 0, :], half_sky=True, rot=[0, 90])"
   ]
  },
  {
   "cell_type": "code",
   "execution_count": null,
   "metadata": {},
   "outputs": [],
   "source": []
  }
 ],
 "metadata": {
  "kernelspec": {
   "display_name": "Python 3",
   "language": "python",
   "name": "python3"
  },
  "language_info": {
   "codemirror_mode": {
    "name": "ipython",
    "version": 3
   },
   "file_extension": ".py",
   "mimetype": "text/x-python",
   "name": "python",
   "nbconvert_exporter": "python",
   "pygments_lexer": "ipython3",
   "version": "3.7.6"
  }
 },
 "nbformat": 4,
 "nbformat_minor": 4
}
