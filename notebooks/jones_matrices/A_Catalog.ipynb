{
 "cells": [
  {
   "cell_type": "code",
   "execution_count": null,
   "metadata": {},
   "outputs": [],
   "source": [
    "%matplotlib inline\n",
    "import skyflux"
   ]
  },
  {
   "cell_type": "code",
   "execution_count": null,
   "metadata": {},
   "outputs": [],
   "source": [
    "import matplotlib.pyplot as plt\n",
    "import numpy as np\n",
    "import healpy as hp"
   ]
  },
  {
   "cell_type": "code",
   "execution_count": null,
   "metadata": {},
   "outputs": [],
   "source": [
    "def project_J(J):\n",
    "    hp.orthview(np.abs(J[:, 0, 0]), rot=[0, 90], half_sky=True, sub=[2, 2, 1], title='xx')\n",
    "    hp.orthview(np.abs(J[:, 1, 0]), rot=[0, 90], half_sky=True, sub=[2, 2, 2], title='yx')\n",
    "    hp.orthview(np.abs(J[:, 0, 1]), rot=[0, 90], half_sky=True, sub=[2, 2, 3], title='xy')\n",
    "    hp.orthview(np.abs(J[:, 1, 1]), rot=[0, 90], half_sky=True, sub=[2, 2, 4], title='yy')"
   ]
  },
  {
   "cell_type": "code",
   "execution_count": null,
   "metadata": {},
   "outputs": [],
   "source": [
    "def project_Ai(A, i):\n",
    "    hp.orthview(np.abs(A[:, i, 0]), rot=[0, 90], half_sky=True, sub=[2, 2, 1], title=str(i)+', 0')\n",
    "    hp.orthview(np.abs(A[:, i, 1]), rot=[0, 90], half_sky=True, sub=[2, 2, 2], title=str(i)+', 1')\n",
    "    hp.orthview(np.abs(A[:, i, 2]), rot=[0, 90], half_sky=True, sub=[2, 2, 3], title=str(i)+', 2')\n",
    "    hp.orthview(np.abs(A[:, i, 3]), rot=[0, 90], half_sky=True, sub=[2, 2, 4], title=str(i)+', 3')"
   ]
  },
  {
   "cell_type": "code",
   "execution_count": null,
   "metadata": {},
   "outputs": [],
   "source": [
    "# previously, I used \"nside = 128\"\n",
    "# I am scaling down drastically, to allow the A to compute without RAM death\n",
    "nside = 16\n",
    "theta, phi = hp.pix2ang(nside, np.arange(12 * nside * nside))"
   ]
  },
  {
   "cell_type": "code",
   "execution_count": null,
   "metadata": {},
   "outputs": [],
   "source": [
    "print(theta)\n",
    "print(phi)"
   ]
  },
  {
   "cell_type": "code",
   "execution_count": null,
   "metadata": {},
   "outputs": [],
   "source": [
    "az = phi\n",
    "alt = np.pi/2 - theta\n",
    "\n",
    "print(az)\n",
    "print(alt)\n",
    "\n",
    "J_raw = skyflux.stokes.spline_beam_func(150e6, alt, az)\n",
    "J = skyflux.stokes.format_J(J_raw)\n",
    "\n",
    "project_J(J)"
   ]
  },
  {
   "cell_type": "code",
   "execution_count": null,
   "metadata": {},
   "outputs": [],
   "source": [
    "print(J.shape)"
   ]
  },
  {
   "cell_type": "code",
   "execution_count": null,
   "metadata": {},
   "outputs": [],
   "source": [
    "# I really ought to get around to overloading:\n",
    "    # A and J functions when I already have alt az\n",
    "    # A and J functtions for which I input a source\n",
    "    # A function when I already have a J\n",
    "\n",
    "A = np.array(\n",
    "    [skyflux.stokes.create_A(J=Ji) for Ji in J]\n",
    ")\n",
    "\n",
    "print(A)"
   ]
  },
  {
   "cell_type": "code",
   "execution_count": null,
   "metadata": {},
   "outputs": [],
   "source": [
    "print(A.shape)\n",
    "\n",
    "print(J.shape)\n",
    "print(J[:, 0, 0].shape)\n",
    "print(A[0, :, 0].shape)"
   ]
  },
  {
   "cell_type": "code",
   "execution_count": null,
   "metadata": {},
   "outputs": [],
   "source": [
    "project_Ai(A, 0)"
   ]
  },
  {
   "cell_type": "code",
   "execution_count": null,
   "metadata": {},
   "outputs": [],
   "source": [
    "project_Ai(A, 1)"
   ]
  },
  {
   "cell_type": "code",
   "execution_count": null,
   "metadata": {},
   "outputs": [],
   "source": [
    "project_Ai(A, 2)"
   ]
  },
  {
   "cell_type": "code",
   "execution_count": null,
   "metadata": {},
   "outputs": [],
   "source": [
    "project_Ai(A, 3)"
   ]
  },
  {
   "cell_type": "code",
   "execution_count": null,
   "metadata": {},
   "outputs": [],
   "source": []
  }
 ],
 "metadata": {
  "kernelspec": {
   "display_name": "Python 3",
   "language": "python",
   "name": "python3"
  },
  "language_info": {
   "codemirror_mode": {
    "name": "ipython",
    "version": 3
   },
   "file_extension": ".py",
   "mimetype": "text/x-python",
   "name": "python",
   "nbconvert_exporter": "python",
   "pygments_lexer": "ipython3",
   "version": "3.8.5"
  }
 },
 "nbformat": 4,
 "nbformat_minor": 4
}
