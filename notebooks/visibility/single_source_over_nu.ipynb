{
 "cells": [
  {
   "cell_type": "code",
   "execution_count": 1,
   "metadata": {
    "scrolled": true
   },
   "outputs": [
    {
     "name": "stdout",
     "output_type": "stream",
     "text": [
      "Missing flux value for: GLEAM J202818-254302 at frequency: 204 MHz.\n",
      "Missing flux value for: GLEAM J202818-254302 at frequency: 212 MHz.\n",
      "Missing flux value for: GLEAM J202818-254302 at frequency: 220 MHz.\n",
      "Missing flux value for: GLEAM J202818-254302 at frequency: 227 MHz.\n",
      "Missing spectral index for: GLEAM J202818-254302\n"
     ]
    },
    {
     "name": "stderr",
     "output_type": "stream",
     "text": [
      "WARNING: leap-second auto-update failed due to the following exception: RuntimeError('attempted to use clear_download_cache on the path //anaconda3/envs/hera/lib/python3.8/site-packages/astropy/utils/iers/data/Leap_Second.dat outside the data cache directory /Users/lfinkbeiner/.astropy/cache/download/py3') [astropy.time.core]\n",
      "//anaconda3/envs/hera/lib/python3.8/site-packages/spin1_beam_model/jones_matrix_field.py:18: H5pyDeprecationWarning: dataset.value has been deprecated. Use dataset[()] instead.\n",
      "  self.pos1_Elm_samples = h5f[\"pos1_Elm\"].value\n",
      "//anaconda3/envs/hera/lib/python3.8/site-packages/spin1_beam_model/jones_matrix_field.py:19: H5pyDeprecationWarning: dataset.value has been deprecated. Use dataset[()] instead.\n",
      "  self.neg1_Elm_samples = h5f[\"neg1_Elm\"].value\n",
      "//anaconda3/envs/hera/lib/python3.8/site-packages/spin1_beam_model/jones_matrix_field.py:20: H5pyDeprecationWarning: dataset.value has been deprecated. Use dataset[()] instead.\n",
      "  self.freq_nodes = h5f[\"frequencies\"].value\n",
      "//anaconda3/envs/hera/lib/python3.8/site-packages/spin1_beam_model/jones_matrix_field.py:21: H5pyDeprecationWarning: dataset.value has been deprecated. Use dataset[()] instead.\n",
      "  self.L_model = h5f[\"spatial_bandlimit\"].value\n",
      "//anaconda3/envs/hera/lib/python3.8/site-packages/spin1_beam_model/jones_matrix_field.py:22: H5pyDeprecationWarning: dataset.value has been deprecated. Use dataset[()] instead.\n",
      "  self.zenith_theta = h5f[\"zenith_theta\"].value\n",
      "//anaconda3/envs/hera/lib/python3.8/site-packages/spin1_beam_model/jones_matrix_field.py:23: H5pyDeprecationWarning: dataset.value has been deprecated. Use dataset[()] instead.\n",
      "  self.zenith_phi = h5f[\"zenith_phi\"].value\n"
     ]
    },
    {
     "name": "stdout",
     "output_type": "stream",
     "text": [
      "delta_nu_in is 1000000.0\n"
     ]
    }
   ],
   "source": [
    "# 2D wedge plots: fix baseline, vary LST and nu\n",
    "# use 2 14 and 30m baselines\n",
    "    # pick any baseline that satisfies these conditions\n",
    "# no averaging over baselines\n",
    "    # (later, we will want to average over all 30m baselines)\n",
    "# fringe pattern should repeat \n",
    "\n",
    "# will want to parallelize this thing\n",
    "    # for each baseline\n",
    "    \n",
    "# just focus on getting the 3D arrays (LST, nu, response) for each of the two baselines\n",
    "    # worry about visual representation later\n",
    "    \n",
    "%matplotlib inline\n",
    "import skyflux as sf"
   ]
  },
  {
   "cell_type": "code",
   "execution_count": 2,
   "metadata": {},
   "outputs": [],
   "source": [
    "import matplotlib.pyplot as plt\n",
    "import numpy as np\n",
    "import healpy as hp"
   ]
  },
  {
   "cell_type": "code",
   "execution_count": 3,
   "metadata": {},
   "outputs": [
    {
     "name": "stdout",
     "output_type": "stream",
     "text": [
      "[0, 1, 2, 11, 12, 13, 14, 23, 24, 25, 26, 27, 36, 37, 38, 39, 40, 41, 50, 51, 52, 53, 54, 55, 65, 66, 67, 68, 69, 70, 71, 82, 83, 84, 85, 86, 87, 88, 98, 120, 121, 122, 123, 124, 136, 137, 138, 139, 140, 141, 142, 143]\n"
     ]
    }
   ],
   "source": [
    "# Display available antennae\n",
    "print(sf.demo.active_ants)"
   ]
  },
  {
   "cell_type": "code",
   "execution_count": 4,
   "metadata": {},
   "outputs": [
    {
     "name": "stdout",
     "output_type": "stream",
     "text": [
      "2581\n",
      "Name: GLEAM J150108-311646\n",
      "Right ascension: 225.285125\n",
      "Declination: -30.72038888888889\n",
      "151 MHz flux: 2.077937\n",
      "\n",
      "Flux at 76MHz: 3.125759\n"
     ]
    }
   ],
   "source": [
    "min_residual = 100\n",
    "target = sf.rot.hera_lat\n",
    "best_i = -1\n",
    "for i in range(len(sf.catalog.obj_catalog)):\n",
    "    obj = sf.catalog.obj_catalog[i]\n",
    "    residual = (obj.dec_angle - target) ** 2\n",
    "    if residual < min_residual:\n",
    "        min_residual = residual\n",
    "        best_i = i\n",
    "print(best_i)\n",
    "print(sf.catalog.obj_catalog[best_i])\n",
    "best_source = sf.catalog.obj_catalog[best_i]\n",
    "print(\"Flux at 76MHz:\", best_source.flux_by_frq[76])\n",
    "# also, would we not expect the first term to dominate? And yet it is not even the largest\n",
    "    # of numbers all with magnitudes less than one"
   ]
  },
  {
   "cell_type": "code",
   "execution_count": 5,
   "metadata": {},
   "outputs": [],
   "source": [
    "#S_nu \\propto \\nu^\\alpha\n",
    "flx = best_source.flux_by_frq"
   ]
  },
  {
   "cell_type": "code",
   "execution_count": 6,
   "metadata": {},
   "outputs": [
    {
     "data": {
      "text/plain": [
       "[<matplotlib.lines.Line2D at 0x13deca070>]"
      ]
     },
     "execution_count": 6,
     "metadata": {},
     "output_type": "execute_result"
    },
    {
     "data": {
      "image/png": "[encoded data removed]",
      "text/plain": [
       "<Figure size 432x288 with 1 Axes>"
      ]
     },
     "metadata": {
      "needs_background": "light"
     },
     "output_type": "display_data"
    }
   ],
   "source": [
    "cop = lambda source, nu : source.flux_by_frq[nu / 1e6] / nu ** source.alpha\n",
    "\n",
    "cops = np.array([cop(best_source, nu * 1e6) for nu in flx])\n",
    "\n",
    "plt.title(\"Spectral Coefficient of Proportionality\")\n",
    "plt.xlabel(\"Frequency (MHz)\")\n",
    "plt.ylabel(\"Coefficient [?]\")\n",
    "plt.plot(flx.keys(), cops)"
   ]
  },
  {
   "cell_type": "code",
   "execution_count": 7,
   "metadata": {},
   "outputs": [
    {
     "name": "stdout",
     "output_type": "stream",
     "text": [
      "(0.6108900225007089, 0.748160993231249)\n",
      "[-43.92014994  25.13624112]\n"
     ]
    }
   ],
   "source": [
    "ra = np.radians(best_source.ra_angle)\n",
    "dec = np.radians(best_source.dec_angle)\n",
    "dec = np.radians(sf.rot.hera_lat)\n",
    "\n",
    "r = sf.rot.radec2lm(ra, dec, ra0=0)\n",
    "\n",
    "print(r)\n",
    "\n",
    "print(sf.ant.baseline(88, 121)[0:2])"
   ]
  },
  {
   "cell_type": "code",
   "execution_count": 8,
   "metadata": {},
   "outputs": [
    {
     "name": "stdout",
     "output_type": "stream",
     "text": [
      "Using time: 3.93196718701699\n"
     ]
    },
    {
     "data": {
      "text/plain": [
       "(1.9472420046695529+0.002703547611797576j)"
      ]
     },
     "execution_count": 8,
     "metadata": {},
     "output_type": "execute_result"
    }
   ],
   "source": [
    "this_time = np.radians(best_source.ra_angle)\n",
    "\n",
    "print(\"Using time:\", this_time)\n",
    "\n",
    "sf.vis.visibility(88, 121, best_source, nu=151e6,\n",
    "                  time=this_time)[0]"
   ]
  },
  {
   "cell_type": "code",
   "execution_count": 9,
   "metadata": {},
   "outputs": [
    {
     "name": "stderr",
     "output_type": "stream",
     "text": [
      "//anaconda3/envs/hera/lib/python3.8/site-packages/skyflux/vis.py:220: VisibleDeprecationWarning: Creating an ndarray from ragged nested sequences (which is a list-or-tuple of lists-or-tuples-or ndarrays with different lengths or shapes) is deprecated. If you meant to do this, you must specify 'dtype=object' when creating the ndarray\n",
      "  list_visibilities.append(np.array([lfreq, next_vista]))\n"
     ]
    }
   ],
   "source": [
    "vist = sf.vis.sources_over_frequency(\n",
    "    88, 121, best_source, start=76e6, end=227e6, time=this_time\n",
    ")\n",
    "#vist"
   ]
  },
  {
   "cell_type": "code",
   "execution_count": 10,
   "metadata": {},
   "outputs": [
    {
     "data": {
      "image/png": "[encoded data removed]",
      "text/plain": [
       "<Figure size 432x288 with 1 Axes>"
      ]
     },
     "metadata": {
      "needs_background": "light"
     },
     "output_type": "display_data"
    }
   ],
   "source": [
    "I = np.array([v[1][0] for v in vist])\n",
    "nu_axis = vist[:, 0] / 1e6\n",
    "\n",
    "plt.plot(nu_axis, np.real(I), label=\"I, real\")\n",
    "plt.plot(nu_axis, np.imag(I), label=\"I, imaginary\")\n",
    "plt.plot(nu_axis, np.abs(I), label=\"I, magnitude\")\n",
    "\n",
    "plt.xlabel(\"Frequency [MHz]\")\n",
    "plt.ylabel(\"Visibility [Jy?]\")\n",
    "\n",
    "plt.legend()\n",
    "plt.show()"
   ]
  },
  {
   "cell_type": "code",
   "execution_count": 11,
   "metadata": {},
   "outputs": [
    {
     "data": {
      "image/png": "[encoded data removed]",
      "text/plain": [
       "<Figure size 432x288 with 1 Axes>"
      ]
     },
     "metadata": {
      "needs_background": "light"
     },
     "output_type": "display_data"
    }
   ],
   "source": [
    "Q = np.array([v[1][1] for v in vist])\n",
    "U = np.array([v[1][2] for v in vist])\n",
    "V = np.array([v[1][3] for v in vist])\n",
    "\n",
    "plt.plot(nu_axis, np.real(I), label=\"I\")\n",
    "plt.plot(nu_axis, np.real(Q), label=\"Q\")\n",
    "plt.plot(nu_axis, np.real(U), label=\"U\")\n",
    "plt.plot(nu_axis, np.real(V), label=\"V\")\n",
    "\n",
    "plt.xlabel(\"Frequency [MHz]\")\n",
    "plt.ylabel(\"Visibility [Jy?]\")\n",
    "plt.title(\"Real components\")\n",
    "\n",
    "plt.legend()\n",
    "plt.show()"
   ]
  },
  {
   "cell_type": "code",
   "execution_count": 12,
   "metadata": {},
   "outputs": [
    {
     "data": {
      "image/png": "[encoded data removed]",
      "text/plain": [
       "<Figure size 432x288 with 1 Axes>"
      ]
     },
     "metadata": {
      "needs_background": "light"
     },
     "output_type": "display_data"
    }
   ],
   "source": [
    "plt.plot(nu_axis, np.imag(I), label=\"I\")\n",
    "plt.plot(nu_axis, np.imag(Q), label=\"Q\")\n",
    "plt.plot(nu_axis, np.imag(U), label=\"U\")\n",
    "plt.plot(nu_axis, np.imag(V), label=\"V\")\n",
    "\n",
    "plt.xlabel(\"Frequency [MHz]\")\n",
    "plt.ylabel(\"Visibility [Jy?]\")\n",
    "plt.title(\"Imaginary components\")\n",
    "\n",
    "plt.legend()\n",
    "plt.show()"
   ]
  },
  {
   "cell_type": "code",
   "execution_count": 13,
   "metadata": {},
   "outputs": [
    {
     "data": {
      "image/png": "[encoded data removed]",
      "text/plain": [
       "<Figure size 432x288 with 1 Axes>"
      ]
     },
     "metadata": {
      "needs_background": "light"
     },
     "output_type": "display_data"
    }
   ],
   "source": [
    "plt.plot(nu_axis, np.angle(I), label=\"I, angle\")\n",
    "\n",
    "plt.xlabel(\"Frequency [MHz]\")\n",
    "plt.ylabel(\"Angle [rad]\")\n",
    "\n",
    "plt.legend()\n",
    "plt.show()"
   ]
  },
  {
   "cell_type": "code",
   "execution_count": 14,
   "metadata": {},
   "outputs": [
    {
     "name": "stdout",
     "output_type": "stream",
     "text": [
      "Right ascension: 3.93196718701699\n",
      "Frequency interval 1000000.0\n",
      "Declination: -0.5361719336041936\n",
      "Reference point: -0.536165146212658\n",
      "[ 9.99999925e-01+0.j -7.10998234e-08+0.j -9.66449132e-11+0.j\n",
      " -1.77882937e-05+0.j]\n"
     ]
    },
    {
     "data": {
      "image/png": "[encoded data removed]",
      "text/plain": [
       "<Figure size 432x288 with 1 Axes>"
      ]
     },
     "metadata": {
      "needs_background": "light"
     },
     "output_type": "display_data"
    }
   ],
   "source": [
    "nu_list = [1e6 * i for i in range(76, 100)]\n",
    "\n",
    "ra = np.radians(best_source.ra_angle)\n",
    "dec = np.radians(best_source.dec_angle)\n",
    "\n",
    "# constants for the LST plot\n",
    "print(\"Right ascension:\", ra)\n",
    "print(\"Frequency interval\", 1e6)\n",
    "print(\"Declination:\", dec)\n",
    "print(\"Reference point:\", np.radians(-30.72))\n",
    "\n",
    "list_A = []\n",
    "list_J = []\n",
    "\n",
    "for nu in nu_list:\n",
    "    J = sf.stokes.create_J(ra=ra, dec=dec,\n",
    "                           lst=this_time, nu=nu, radians=True)\n",
    "    list_J.append(J)\n",
    "    A = sf.stokes.create_A(J=J)\n",
    "    list_A.append(A)\n",
    "\n",
    "list_A = np.array(list_A)\n",
    "list_J = np.array(list_J)\n",
    "    \n",
    "print(list_A[0][0][0])\n",
    "\n",
    "plt.plot(nu_list, np.real(list_A[:, 0, 0, 0]), label=\"I' <- I, real\")\n",
    "plt.plot(nu_list, np.abs(list_J[:, 0, 0, 0]), label=\"J: ||xx||\")\n",
    "plt.plot(nu_list, np.imag(list_A[:, 0, 0, 0]), label=\"I' <- I, imag\")\n",
    "\n",
    "plt.xlabel(\"LST [rad]\")\n",
    "plt.ylabel(\"Visibility [Jy?]\")\n",
    "\n",
    "plt.legend()\n",
    "plt.show()"
   ]
  },
  {
   "cell_type": "code",
   "execution_count": 15,
   "metadata": {},
   "outputs": [
    {
     "name": "stdout",
     "output_type": "stream",
     "text": [
      "The following is the universal baseline\n",
      "[-43.92014994  25.13624112  -0.34038648]\n"
     ]
    }
   ],
   "source": [
    "print(\"The following is the universal baseline\")\n",
    "print(sf.ant.baseline(88, 121))"
   ]
  },
  {
   "cell_type": "code",
   "execution_count": 16,
   "metadata": {},
   "outputs": [
    {
     "data": {
      "text/plain": [
       "3872"
      ]
     },
     "execution_count": 16,
     "metadata": {},
     "output_type": "execute_result"
    }
   ],
   "source": [
    "len(sf.catalog.obj_catalog)"
   ]
  },
  {
   "cell_type": "code",
   "execution_count": 17,
   "metadata": {},
   "outputs": [],
   "source": [
    "# Is the frequency making a difference for J and A?\n",
    "az, alt = sf.rot.eq_to_topo(\n",
    "    best_source.ra_angle, best_source.dec_angle,\n",
    "    lst=best_source.ra_angle, radians=False)\n",
    "\n",
    "az = np.array([np.radians(az)])\n",
    "alt = np.array([np.radians(alt)])\n",
    "\n",
    "# format_J has nothing to do with frequency, so theoretically this should directly\n",
    "# inform us about the influence of the RIMEz code on the Jones matrix\n",
    "def direct_J(nu):\n",
    "    return sf.stokes.format_J(sf.stokes.spline_beam_func(nu, alt, az))"
   ]
  },
  {
   "cell_type": "code",
   "execution_count": 18,
   "metadata": {},
   "outputs": [
    {
     "data": {
      "text/plain": [
       "array([[[ 7.95616266e-02+9.96829844e-01j,\n",
       "         -1.10525622e-05-2.50265870e-04j],\n",
       "        [ 1.10523216e-05+2.50265775e-04j,\n",
       "          7.95617013e-02+9.96829910e-01j]]])"
      ]
     },
     "execution_count": 18,
     "metadata": {},
     "output_type": "execute_result"
    }
   ],
   "source": [
    "direct_J(np.array([151e6]))"
   ]
  },
  {
   "cell_type": "code",
   "execution_count": 19,
   "metadata": {},
   "outputs": [
    {
     "name": "stdout",
     "output_type": "stream",
     "text": [
      "[[[ 7.95616199e-02+9.96829845e-01j -1.10525763e-05-2.50265825e-04j]\n",
      "  [ 1.10523357e-05+2.50265730e-04j  7.95616946e-02+9.96829910e-01j]]]\n",
      "[[[ 7.95616236e-02+9.96829845e-01j -1.10525761e-05-2.50265825e-04j]\n",
      "  [ 1.10523355e-05+2.50265730e-04j  7.95616983e-02+9.96829910e-01j]]]\n",
      "[[[ 7.95616212e-02+9.96829845e-01j -1.10525762e-05-2.50265826e-04j]\n",
      "  [ 1.10523356e-05+2.50265731e-04j  7.95616959e-02+9.96829910e-01j]]]\n",
      "[[[ 7.95616199e-02+9.96829845e-01j -1.10525763e-05-2.50265825e-04j]\n",
      "  [ 1.10523357e-05+2.50265730e-04j  7.95616946e-02+9.96829910e-01j]]]\n"
     ]
    }
   ],
   "source": [
    "print(direct_J(np.array([50e6])))\n",
    "print(direct_J(np.array([51e6])))\n",
    "print(direct_J(np.array([52e6])))\n",
    "\n",
    "print(direct_J(50e6))"
   ]
  },
  {
   "cell_type": "code",
   "execution_count": 20,
   "metadata": {},
   "outputs": [
    {
     "data": {
      "text/plain": [
       "array([5.00e+07, 5.10e+07, 5.20e+07, 5.30e+07, 5.40e+07, 5.50e+07,\n",
       "       5.60e+07, 5.70e+07, 5.80e+07, 5.90e+07, 6.00e+07, 6.10e+07,\n",
       "       6.20e+07, 6.30e+07, 6.40e+07, 6.50e+07, 6.60e+07, 6.70e+07,\n",
       "       6.80e+07, 6.90e+07, 7.00e+07, 7.10e+07, 7.20e+07, 7.30e+07,\n",
       "       7.40e+07, 7.50e+07, 7.60e+07, 7.70e+07, 7.80e+07, 7.90e+07,\n",
       "       8.00e+07, 8.10e+07, 8.20e+07, 8.30e+07, 8.40e+07, 8.50e+07,\n",
       "       8.60e+07, 8.70e+07, 8.80e+07, 8.90e+07, 9.00e+07, 9.10e+07,\n",
       "       9.20e+07, 9.30e+07, 9.40e+07, 9.50e+07, 9.60e+07, 9.70e+07,\n",
       "       9.80e+07, 9.90e+07, 1.00e+08, 1.01e+08, 1.02e+08, 1.03e+08,\n",
       "       1.04e+08, 1.05e+08, 1.06e+08, 1.07e+08, 1.08e+08, 1.09e+08,\n",
       "       1.10e+08, 1.11e+08, 1.12e+08, 1.13e+08, 1.14e+08, 1.15e+08,\n",
       "       1.16e+08, 1.17e+08, 1.18e+08, 1.19e+08, 1.20e+08, 1.21e+08,\n",
       "       1.22e+08, 1.23e+08, 1.24e+08, 1.25e+08, 1.26e+08, 1.27e+08,\n",
       "       1.28e+08, 1.29e+08, 1.30e+08, 1.31e+08, 1.32e+08, 1.33e+08,\n",
       "       1.34e+08, 1.35e+08, 1.36e+08, 1.37e+08, 1.38e+08, 1.39e+08,\n",
       "       1.40e+08, 1.41e+08, 1.42e+08, 1.43e+08, 1.44e+08, 1.45e+08,\n",
       "       1.46e+08, 1.47e+08, 1.48e+08, 1.49e+08, 1.50e+08, 1.51e+08,\n",
       "       1.52e+08, 1.53e+08, 1.54e+08, 1.55e+08, 1.56e+08, 1.57e+08,\n",
       "       1.58e+08, 1.59e+08, 1.60e+08, 1.61e+08, 1.62e+08, 1.63e+08,\n",
       "       1.64e+08, 1.65e+08, 1.66e+08, 1.67e+08, 1.68e+08, 1.69e+08,\n",
       "       1.70e+08, 1.71e+08, 1.72e+08, 1.73e+08, 1.74e+08, 1.75e+08,\n",
       "       1.76e+08, 1.77e+08, 1.78e+08, 1.79e+08, 1.80e+08, 1.81e+08,\n",
       "       1.82e+08, 1.83e+08, 1.84e+08, 1.85e+08, 1.86e+08, 1.87e+08,\n",
       "       1.88e+08, 1.89e+08, 1.90e+08, 1.91e+08, 1.92e+08, 1.93e+08,\n",
       "       1.94e+08, 1.95e+08, 1.96e+08, 1.97e+08, 1.98e+08, 1.99e+08,\n",
       "       2.00e+08, 2.01e+08, 2.02e+08, 2.03e+08, 2.04e+08, 2.05e+08,\n",
       "       2.06e+08, 2.07e+08, 2.08e+08, 2.09e+08, 2.10e+08, 2.11e+08,\n",
       "       2.12e+08, 2.13e+08, 2.14e+08, 2.15e+08, 2.16e+08, 2.17e+08,\n",
       "       2.18e+08, 2.19e+08, 2.20e+08, 2.21e+08, 2.22e+08, 2.23e+08,\n",
       "       2.24e+08, 2.25e+08, 2.26e+08, 2.27e+08, 2.28e+08, 2.29e+08,\n",
       "       2.30e+08, 2.31e+08, 2.32e+08, 2.33e+08, 2.34e+08, 2.35e+08,\n",
       "       2.36e+08, 2.37e+08, 2.38e+08, 2.39e+08, 2.40e+08, 2.41e+08,\n",
       "       2.42e+08, 2.43e+08, 2.44e+08, 2.45e+08, 2.46e+08, 2.47e+08,\n",
       "       2.48e+08, 2.49e+08, 1.51e+08])"
      ]
     },
     "execution_count": 20,
     "metadata": {},
     "output_type": "execute_result"
    }
   ],
   "source": [
    "sf.stokes.beam_frqs"
   ]
  },
  {
   "cell_type": "code",
   "execution_count": 21,
   "metadata": {},
   "outputs": [],
   "source": [
    "#sf.stokes.spline_beam_func(np.array([0]), np.array([0]), np.array([0]))"
   ]
  },
  {
   "cell_type": "code",
   "execution_count": null,
   "metadata": {},
   "outputs": [],
   "source": []
  }
 ],
 "metadata": {
  "kernelspec": {
   "display_name": "Python 3",
   "language": "python",
   "name": "python3"
  },
  "language_info": {
   "codemirror_mode": {
    "name": "ipython",
    "version": 3
   },
   "file_extension": ".py",
   "mimetype": "text/x-python",
   "name": "python",
   "nbconvert_exporter": "python",
   "pygments_lexer": "ipython3",
   "version": "3.8.6"
  }
 },
 "nbformat": 4,
 "nbformat_minor": 4
}
