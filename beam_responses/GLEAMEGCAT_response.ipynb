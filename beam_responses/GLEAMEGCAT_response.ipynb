{
 "cells": [
  {
   "cell_type": "code",
   "execution_count": 1,
   "metadata": {},
   "outputs": [],
   "source": [
    "file_path = '/Users/lfinkbeiner/Documents/GitHub/HERA/beam/'\n",
    "beam_origin = 'HERA_4.9m_E-pattern_151MHz.txt'\n",
    "beam_destination = 'ant1_s2'"
   ]
  },
  {
   "cell_type": "code",
   "execution_count": 2,
   "metadata": {},
   "outputs": [],
   "source": [
    "%matplotlib notebook\n",
    "import matplotlib.pyplot as plt\n",
    "from RIMEz import beam_models\n",
    "import numpy as np\n",
    "import healpy as hp\n",
    "from spin1_beam_model import cst_processing, jones_matrix_field\n",
    "import rotations"
   ]
  },
  {
   "cell_type": "code",
   "execution_count": 3,
   "metadata": {},
   "outputs": [],
   "source": [
    "processor = cst_processing.CSTDataProcessor(\n",
    "    [file_path + beam_origin,\n",
    "    file_path + beam_origin,\n",
    "    file_path + beam_origin],\n",
    "    np.array([150e6, 151e6, 152e6]),\n",
    "    1, 1e-4\n",
    ")"
   ]
  },
  {
   "cell_type": "code",
   "execution_count": 4,
   "metadata": {},
   "outputs": [
    {
     "name": "stderr",
     "output_type": "stream",
     "text": [
      "//anaconda3/envs/hera/lib/python3.7/site-packages/spin1_beam_model/jones_matrix_field.py:18: H5pyDeprecationWarning: dataset.value has been deprecated. Use dataset[()] instead.\n",
      "  self.pos1_Elm_samples = h5f[\"pos1_Elm\"].value\n",
      "//anaconda3/envs/hera/lib/python3.7/site-packages/spin1_beam_model/jones_matrix_field.py:19: H5pyDeprecationWarning: dataset.value has been deprecated. Use dataset[()] instead.\n",
      "  self.neg1_Elm_samples = h5f[\"neg1_Elm\"].value\n",
      "//anaconda3/envs/hera/lib/python3.7/site-packages/spin1_beam_model/jones_matrix_field.py:20: H5pyDeprecationWarning: dataset.value has been deprecated. Use dataset[()] instead.\n",
      "  self.freq_nodes = h5f[\"frequencies\"].value\n",
      "//anaconda3/envs/hera/lib/python3.7/site-packages/spin1_beam_model/jones_matrix_field.py:21: H5pyDeprecationWarning: dataset.value has been deprecated. Use dataset[()] instead.\n",
      "  self.L_model = h5f[\"spatial_bandlimit\"].value\n",
      "//anaconda3/envs/hera/lib/python3.7/site-packages/spin1_beam_model/jones_matrix_field.py:22: H5pyDeprecationWarning: dataset.value has been deprecated. Use dataset[()] instead.\n",
      "  self.zenith_theta = h5f[\"zenith_theta\"].value\n",
      "//anaconda3/envs/hera/lib/python3.7/site-packages/spin1_beam_model/jones_matrix_field.py:23: H5pyDeprecationWarning: dataset.value has been deprecated. Use dataset[()] instead.\n",
      "  self.zenith_phi = h5f[\"zenith_phi\"].value\n"
     ]
    },
    {
     "name": "stdout",
     "output_type": "stream",
     "text": [
      "delta_nu_in is 1000000.0\n"
     ]
    }
   ],
   "source": [
    "processor.compute_spin1_harmonics()\n",
    "processor.write_model_data(file_path, beam_destination)\n",
    "spline_beam_func = beam_models.model_data_to_spline_beam_func(file_path + beam_destination + '.h5', np.array([150e6, 151e6, 152e6]))"
   ]
  },
  {
   "cell_type": "code",
   "execution_count": 5,
   "metadata": {},
   "outputs": [],
   "source": [
    "nside = 128\n",
    "\n",
    "theta, phi = hp.pix2ang(nside,np.arange(12 * nside * nside))\n",
    "az = phi\n",
    "alt = np.pi / 2 - theta\n",
    "J = spline_beam_func(150e6, alt, az)\n",
    "J_abs = np.abs(J)"
   ]
  },
  {
   "cell_type": "code",
   "execution_count": 7,
   "metadata": {},
   "outputs": [],
   "source": [
    "def rad_interp(J_section, ra, dec):\n",
    "    '''\n",
    "    Abbreviation and conversion function. We get the interpolation value\n",
    "    assuming @az and @alt are in degrees.\n",
    "    '''\n",
    "    lst_now_deg = np.degrees(rotations.get_lst())\n",
    "    az, alt = rotations.eq_to_topo(ra, dec, rotations.hera_lat, lst_now_deg)\n",
    "    colatitude = np.radians(90 - alt)\n",
    "    longitude = np.radians(az)\n",
    "    return hp.get_interp_val(J_section, colatitude, longitude)"
   ]
  },
  {
   "cell_type": "code",
   "execution_count": 8,
   "metadata": {},
   "outputs": [],
   "source": [
    "# right row this represents the top ten\n",
    "eq_list = []\n",
    "def append_coordinate(raw_ra, raw_dec):\n",
    "    angle_ra = rotations.collapse_hour(\n",
    "        raw_ra[0], raw_ra[1], raw_ra[2]\n",
    "    )\n",
    "    angle_dec = rotations.collapse_angle(\n",
    "        raw_dec[0], raw_dec[1], raw_dec[2]\n",
    "    )\n",
    "    eq_list.append(angle_ra, angle_dec)"
   ]
  },
  {
   "cell_type": "code",
   "execution_count": null,
   "metadata": {},
   "outputs": [],
   "source": [
    "# Name, ra, dec, (Int_Flux_Wide [mJy])\n",
    "\n",
    "# GLEAM J052257-362727, 05 22 57.86, -36 27 27.3 (47613.247)\n",
    "append_coordinate((5, 22, 57.86), (-36, 27, 27.3))\n",
    "\n",
    "# GLEAM J131139-221640, 13 11 39.51, -22 16 40.7 (34334.873)\n",
    "append_coordinate((, , ), (, , ))\n",
    "\n",
    "# GLEAM J044437-280948, 04 44 37.31, -28 09 48.9 (30928.867)\n",
    "append_coordinate((, , ), (, , ))\n",
    "\n",
    "# GLEAM J183059-360229, 18 30 59.30, -36 02 29.2 (30436.060)\n",
    "append_coordinate((, , ), (, , ))\n",
    "\n",
    "# GLEAM J210722-252556, 21 07 22.33, -25 25 56.1 (25925.882)\n",
    "append_coordinate((, , ), (, , ))\n",
    "\n",
    "# GLEAM J090147-255516, 09 01 47.39, -25 55 16.1 (25610.060)\n",
    "append_coordinate((, , ), (, , ))\n",
    "\n",
    "# GLEAM J203547-345403, 20 35 47.63, -34 54 03.8 (22333.044)\n",
    "append_coordinate((, , ), (, , ))\n",
    "\n",
    "# GLEAM J190249-232949, 19 02 49.38, -23 29 49.7 (18277.397)\n",
    "append_coordinate((, , ), (, , ))\n",
    "\n",
    "# GLEAM J002549-260211, 00 25 49.15, -26 02 11.4 (17666.073)\n",
    "append_coordinate((, , ), (, , ))\n",
    "\n",
    "# GLEAM J235701-344532, 23 57 01.20, -34 45 32.3 (16732.759)\n",
    "append_coordinate((, , ), (, , ))"
   ]
  }
 ],
 "metadata": {
  "kernelspec": {
   "display_name": "Python 3",
   "language": "python",
   "name": "python3"
  },
  "language_info": {
   "codemirror_mode": {
    "name": "ipython",
    "version": 3
   },
   "file_extension": ".py",
   "mimetype": "text/x-python",
   "name": "python",
   "nbconvert_exporter": "python",
   "pygments_lexer": "ipython3",
   "version": "3.7.6"
  }
 },
 "nbformat": 4,
 "nbformat_minor": 4
}
