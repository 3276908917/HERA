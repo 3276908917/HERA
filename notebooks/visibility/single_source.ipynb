{
 "cells": [
  {
   "cell_type": "code",
   "execution_count": 1,
   "metadata": {},
   "outputs": [
    {
     "name": "stdout",
     "output_type": "stream",
     "text": [
      "Missing flux value for: GLEAM J202818-254302 at frequency: 204 MHz.\n",
      "Missing flux value for: GLEAM J202818-254302 at frequency: 212 MHz.\n",
      "Missing flux value for: GLEAM J202818-254302 at frequency: 220 MHz.\n",
      "Missing flux value for: GLEAM J202818-254302 at frequency: 227 MHz.\n",
      "Missing spectral index for: GLEAM J202818-254302\n"
     ]
    },
    {
     "name": "stderr",
     "output_type": "stream",
     "text": [
      "//anaconda3/envs/hera/lib/python3.7/site-packages/spin1_beam_model/jones_matrix_field.py:18: H5pyDeprecationWarning: dataset.value has been deprecated. Use dataset[()] instead.\n",
      "  self.pos1_Elm_samples = h5f[\"pos1_Elm\"].value\n",
      "//anaconda3/envs/hera/lib/python3.7/site-packages/spin1_beam_model/jones_matrix_field.py:19: H5pyDeprecationWarning: dataset.value has been deprecated. Use dataset[()] instead.\n",
      "  self.neg1_Elm_samples = h5f[\"neg1_Elm\"].value\n",
      "//anaconda3/envs/hera/lib/python3.7/site-packages/spin1_beam_model/jones_matrix_field.py:20: H5pyDeprecationWarning: dataset.value has been deprecated. Use dataset[()] instead.\n",
      "  self.freq_nodes = h5f[\"frequencies\"].value\n",
      "//anaconda3/envs/hera/lib/python3.7/site-packages/spin1_beam_model/jones_matrix_field.py:21: H5pyDeprecationWarning: dataset.value has been deprecated. Use dataset[()] instead.\n",
      "  self.L_model = h5f[\"spatial_bandlimit\"].value\n",
      "//anaconda3/envs/hera/lib/python3.7/site-packages/spin1_beam_model/jones_matrix_field.py:22: H5pyDeprecationWarning: dataset.value has been deprecated. Use dataset[()] instead.\n",
      "  self.zenith_theta = h5f[\"zenith_theta\"].value\n",
      "//anaconda3/envs/hera/lib/python3.7/site-packages/spin1_beam_model/jones_matrix_field.py:23: H5pyDeprecationWarning: dataset.value has been deprecated. Use dataset[()] instead.\n",
      "  self.zenith_phi = h5f[\"zenith_phi\"].value\n"
     ]
    },
    {
     "name": "stdout",
     "output_type": "stream",
     "text": [
      "delta_nu_in is 1000000.0\n"
     ]
    }
   ],
   "source": [
    "%matplotlib notebook\n",
    "import flux"
   ]
  },
  {
   "cell_type": "code",
   "execution_count": 2,
   "metadata": {},
   "outputs": [],
   "source": [
    "import matplotlib.pyplot as plt\n",
    "import numpy as np\n",
    "import healpy as hp"
   ]
  },
  {
   "cell_type": "code",
   "execution_count": 3,
   "metadata": {},
   "outputs": [
    {
     "ename": "TypeError",
     "evalue": "get_lst() missing 1 required positional argument: 'lon'",
     "output_type": "error",
     "traceback": [
      "\u001b[0;31m---------------------------------------------------------------------------\u001b[0m",
      "\u001b[0;31mTypeError\u001b[0m                                 Traceback (most recent call last)",
      "\u001b[0;32m<ipython-input-3-0b143dc4e28b>\u001b[0m in \u001b[0;36m<module>\u001b[0;34m\u001b[0m\n\u001b[1;32m      2\u001b[0m \u001b[0marb_ra\u001b[0m \u001b[0;34m=\u001b[0m \u001b[0marbitrary_source\u001b[0m\u001b[0;34m.\u001b[0m\u001b[0mra_angle\u001b[0m\u001b[0;34m\u001b[0m\u001b[0;34m\u001b[0m\u001b[0m\n\u001b[1;32m      3\u001b[0m \u001b[0marb_dec\u001b[0m \u001b[0;34m=\u001b[0m \u001b[0marbitrary_source\u001b[0m\u001b[0;34m.\u001b[0m\u001b[0mdec_angle\u001b[0m\u001b[0;34m\u001b[0m\u001b[0;34m\u001b[0m\u001b[0m\n\u001b[0;32m----> 4\u001b[0;31m \u001b[0mJ\u001b[0m \u001b[0;34m=\u001b[0m \u001b[0mflux\u001b[0m\u001b[0;34m.\u001b[0m\u001b[0mstokes\u001b[0m\u001b[0;34m.\u001b[0m\u001b[0mJ_matrix\u001b[0m\u001b[0;34m(\u001b[0m\u001b[0marb_ra\u001b[0m\u001b[0;34m,\u001b[0m \u001b[0marb_dec\u001b[0m\u001b[0;34m)\u001b[0m\u001b[0;34m\u001b[0m\u001b[0;34m\u001b[0m\u001b[0m\n\u001b[0m\u001b[1;32m      5\u001b[0m \u001b[0mJ\u001b[0m\u001b[0;34m.\u001b[0m\u001b[0mshape\u001b[0m\u001b[0;34m\u001b[0m\u001b[0;34m\u001b[0m\u001b[0m\n",
      "\u001b[0;32m//anaconda3/envs/hera/lib/python3.7/site-packages/flux-1!1.1b1-py3.7.egg/flux/stokes.py\u001b[0m in \u001b[0;36mJ_matrix\u001b[0;34m(ra, dec, lst, nu)\u001b[0m\n\u001b[1;32m     46\u001b[0m     \"\"\"\n\u001b[1;32m     47\u001b[0m     \u001b[0;32mif\u001b[0m \u001b[0mlst\u001b[0m \u001b[0;32mis\u001b[0m \u001b[0;32mNone\u001b[0m\u001b[0;34m:\u001b[0m\u001b[0;34m\u001b[0m\u001b[0;34m\u001b[0m\u001b[0m\n\u001b[0;32m---> 48\u001b[0;31m         \u001b[0mlst\u001b[0m \u001b[0;34m=\u001b[0m \u001b[0mrot\u001b[0m\u001b[0;34m.\u001b[0m\u001b[0mget_lst\u001b[0m\u001b[0;34m(\u001b[0m\u001b[0;34m)\u001b[0m\u001b[0;34m\u001b[0m\u001b[0;34m\u001b[0m\u001b[0m\n\u001b[0m\u001b[1;32m     49\u001b[0m     \u001b[0mlatitude\u001b[0m \u001b[0;34m=\u001b[0m \u001b[0mnp\u001b[0m\u001b[0;34m.\u001b[0m\u001b[0mradians\u001b[0m\u001b[0;34m(\u001b[0m\u001b[0mrot\u001b[0m\u001b[0;34m.\u001b[0m\u001b[0mhera_lat\u001b[0m\u001b[0;34m)\u001b[0m\u001b[0;34m\u001b[0m\u001b[0;34m\u001b[0m\u001b[0m\n\u001b[1;32m     50\u001b[0m     \u001b[0maz\u001b[0m\u001b[0;34m,\u001b[0m \u001b[0malt\u001b[0m \u001b[0;34m=\u001b[0m \u001b[0mrot\u001b[0m\u001b[0;34m.\u001b[0m\u001b[0meq_to_topo\u001b[0m\u001b[0;34m(\u001b[0m\u001b[0mra\u001b[0m\u001b[0;34m,\u001b[0m \u001b[0mdec\u001b[0m\u001b[0;34m,\u001b[0m \u001b[0mlatitude\u001b[0m\u001b[0;34m,\u001b[0m \u001b[0mlst\u001b[0m\u001b[0;34m,\u001b[0m \u001b[0mradians\u001b[0m\u001b[0;34m=\u001b[0m\u001b[0;32mTrue\u001b[0m\u001b[0;34m)\u001b[0m\u001b[0;34m\u001b[0m\u001b[0;34m\u001b[0m\u001b[0m\n",
      "\u001b[0;31mTypeError\u001b[0m: get_lst() missing 1 required positional argument: 'lon'"
     ]
    }
   ],
   "source": [
    "arbitrary_source = flux.catalog.obj_catalog[999]\n",
    "arb_ra = arbitrary_source.ra_angle\n",
    "arb_dec = arbitrary_source.dec_angle\n",
    "J = flux.stokes.J_matrix(arb_ra, arb_dec)\n",
    "J.shape"
   ]
  },
  {
   "cell_type": "code",
   "execution_count": null,
   "metadata": {},
   "outputs": [],
   "source": [
    "arb_ra = flux.rot.get_lst()\n",
    "arb_dec = np.radians(flux.rot.hera_lat)\n",
    "J = flux.stokes.J_matrix(arb_ra, arb_dec)\n",
    "J"
   ]
  },
  {
   "cell_type": "code",
   "execution_count": null,
   "metadata": {},
   "outputs": [],
   "source": [
    "Am = flux.stokes.A_matrix(arb_ra, arb_dec)\n",
    "print(Am)\n",
    "Am.shape"
   ]
  },
  {
   "cell_type": "code",
   "execution_count": null,
   "metadata": {},
   "outputs": [],
   "source": [
    "Am[0][0][0]"
   ]
  },
  {
   "cell_type": "code",
   "execution_count": null,
   "metadata": {},
   "outputs": [],
   "source": [
    "# Display available antennae\n",
    "print(flux.demo.active_ants)"
   ]
  },
  {
   "cell_type": "code",
   "execution_count": null,
   "metadata": {},
   "outputs": [],
   "source": [
    "# we sample three sources almost at random, and 2/3 are zero\n",
    "\n",
    "print(arbitrary_source)\n",
    "print(flux.vis.visibility(2, 11, arbitrary_source))\n",
    "\n",
    "print(flux.vis.visibility(36, 37, flux.catalog.obj_catalog[981]))\n",
    "print(flux.vis.visibility(88, 121, flux.catalog.obj_catalog[134]))\n",
    "# also, would we not expect the first term to dominate? And yet it is not even the largest\n",
    "    # of numbers all with magnitudes less than one"
   ]
  },
  {
   "cell_type": "code",
   "execution_count": null,
   "metadata": {},
   "outputs": [],
   "source": [
    "\"\"\"\n",
    "This section kills the kernel! Do NOT run it!!\n",
    "I am leaving it here as a to-do of sorts. I think, that my inability\n",
    "to run it in this environment may be a bad sign.\n",
    "(It does work fine in the shell, so far as I can tell.)\n",
    "\n",
    "t = 0\n",
    "arg = 134\n",
    "\n",
    "obj = flux.catalog.obj_catalog[arg]\n",
    "ra = np.radians(obj.ra_angle)\n",
    "dec = np.radians(obj.dec_angle)\n",
    "while t < 2 * np.pi:\n",
    "    print(t)\n",
    "    t += np.pi / 72\n",
    "    \n",
    "    print(flux.stokes.J_matrix(ra, dec, t))\n",
    "    print(\"\\n\")\n",
    "\n",
    "\"\"\""
   ]
  },
  {
   "cell_type": "code",
   "execution_count": null,
   "metadata": {},
   "outputs": [],
   "source": [
    "vist = flux.vis.source_over_time(\n",
    "    88, 121, arbitrary_source, 0, 2/3 * np.pi, np.pi / 72\n",
    ")\n",
    "vist"
   ]
  },
  {
   "cell_type": "code",
   "execution_count": null,
   "metadata": {},
   "outputs": [],
   "source": [
    "plt.plot(np.real(vist[:, 0]), label=\"I, real\")\n",
    "plt.plot(np.imag(vist[:, 0]), label=\"I, imaginary\")\n",
    "plt.plot(np.abs(vist[:, 0]), label=\"something is wrong with the magnitude\")\n",
    "\n",
    "plt.xlabel(\"Index\")\n",
    "plt.ylabel(\"Jy?\")\n",
    "\n",
    "plt.legend()\n",
    "\n",
    "plt.show()"
   ]
  },
  {
   "cell_type": "code",
   "execution_count": null,
   "metadata": {},
   "outputs": [],
   "source": [
    "plt.plot(np.real(vist[:, 0]), label=\"I\")\n",
    "plt.plot(np.real(vist[:, 1]), label=\"Q\")\n",
    "plt.plot(np.real(vist[:, 2]), label=\"U\")\n",
    "plt.plot(np.real(vist[:, 3]), label=\"V\")\n",
    "\n",
    "plt.xlabel(\"Index\")\n",
    "plt.ylabel(\"Jy?\")\n",
    "plt.title(\"Real components\")\n",
    "\n",
    "plt.legend()\n",
    "\n",
    "plt.show()"
   ]
  },
  {
   "cell_type": "code",
   "execution_count": null,
   "metadata": {},
   "outputs": [],
   "source": [
    "plt.plot(np.imag(vist[:, 0]), label=\"I\")\n",
    "plt.plot(np.imag(vist[:, 1]), label=\"Q\")\n",
    "plt.plot(np.imag(vist[:, 2]), label=\"U\")\n",
    "plt.plot(np.imag(vist[:, 3]), label=\"V\")\n",
    "\n",
    "plt.xlabel(\"Index\")\n",
    "plt.ylabel(\"Jy?\")\n",
    "plt.title(\"Imaginary components\")\n",
    "\n",
    "plt.legend()\n",
    "\n",
    "plt.show()"
   ]
  },
  {
   "cell_type": "code",
   "execution_count": null,
   "metadata": {},
   "outputs": [],
   "source": [
    "vist = flux.vis.source_over_time(\n",
    "    88, 121, arbitrary_source, 0, 2/3 * np.pi, np.pi / 72\n",
    ")\n",
    "plt.plot(np.real(vist[:, 0]), label=\"I, real\")\n",
    "plt.plot(np.imag(vist[:, 0]), label=\"I, imaginary\")\n",
    "plt.plot(np.abs(vist[:, 0]), label=\"something is wrong with the magnitude\")\n",
    "\n",
    "plt.xlabel(\"Index\")\n",
    "plt.ylabel(\"Jy?\")\n",
    "\n",
    "plt.legend()\n",
    "\n",
    "plt.show()"
   ]
  }
 ],
 "metadata": {
  "kernelspec": {
   "display_name": "Python 3",
   "language": "python",
   "name": "python3"
  },
  "language_info": {
   "codemirror_mode": {
    "name": "ipython",
    "version": 3
   },
   "file_extension": ".py",
   "mimetype": "text/x-python",
   "name": "python",
   "nbconvert_exporter": "python",
   "pygments_lexer": "ipython3",
   "version": "3.7.6"
  }
 },
 "nbformat": 4,
 "nbformat_minor": 4
}
