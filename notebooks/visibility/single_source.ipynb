{
 "cells": [
  {
   "cell_type": "code",
   "execution_count": 1,
   "metadata": {},
   "outputs": [
    {
     "name": "stdout",
     "output_type": "stream",
     "text": [
      "Missing flux value for: GLEAM J202818-254302 at frequency: 204 MHz.\n",
      "Missing flux value for: GLEAM J202818-254302 at frequency: 212 MHz.\n",
      "Missing flux value for: GLEAM J202818-254302 at frequency: 220 MHz.\n",
      "Missing flux value for: GLEAM J202818-254302 at frequency: 227 MHz.\n",
      "Missing spectral index for: GLEAM J202818-254302\n"
     ]
    },
    {
     "name": "stderr",
     "output_type": "stream",
     "text": [
      "//anaconda3/envs/hera/lib/python3.7/site-packages/spin1_beam_model/jones_matrix_field.py:18: H5pyDeprecationWarning: dataset.value has been deprecated. Use dataset[()] instead.\n",
      "  self.pos1_Elm_samples = h5f[\"pos1_Elm\"].value\n",
      "//anaconda3/envs/hera/lib/python3.7/site-packages/spin1_beam_model/jones_matrix_field.py:19: H5pyDeprecationWarning: dataset.value has been deprecated. Use dataset[()] instead.\n",
      "  self.neg1_Elm_samples = h5f[\"neg1_Elm\"].value\n",
      "//anaconda3/envs/hera/lib/python3.7/site-packages/spin1_beam_model/jones_matrix_field.py:20: H5pyDeprecationWarning: dataset.value has been deprecated. Use dataset[()] instead.\n",
      "  self.freq_nodes = h5f[\"frequencies\"].value\n",
      "//anaconda3/envs/hera/lib/python3.7/site-packages/spin1_beam_model/jones_matrix_field.py:21: H5pyDeprecationWarning: dataset.value has been deprecated. Use dataset[()] instead.\n",
      "  self.L_model = h5f[\"spatial_bandlimit\"].value\n",
      "//anaconda3/envs/hera/lib/python3.7/site-packages/spin1_beam_model/jones_matrix_field.py:22: H5pyDeprecationWarning: dataset.value has been deprecated. Use dataset[()] instead.\n",
      "  self.zenith_theta = h5f[\"zenith_theta\"].value\n",
      "//anaconda3/envs/hera/lib/python3.7/site-packages/spin1_beam_model/jones_matrix_field.py:23: H5pyDeprecationWarning: dataset.value has been deprecated. Use dataset[()] instead.\n",
      "  self.zenith_phi = h5f[\"zenith_phi\"].value\n"
     ]
    },
    {
     "name": "stdout",
     "output_type": "stream",
     "text": [
      "delta_nu_in is 1000000.0\n"
     ]
    }
   ],
   "source": [
    "%matplotlib notebook\n",
    "import flux"
   ]
  },
  {
   "cell_type": "code",
   "execution_count": 2,
   "metadata": {},
   "outputs": [],
   "source": [
    "import matplotlib.pyplot as plt\n",
    "import numpy as np\n",
    "import healpy as hp"
   ]
  },
  {
   "cell_type": "code",
   "execution_count": 3,
   "metadata": {},
   "outputs": [
    {
     "data": {
      "text/plain": [
       "(1, 2, 2)"
      ]
     },
     "execution_count": 3,
     "metadata": {},
     "output_type": "execute_result"
    }
   ],
   "source": [
    "arbitrary_source = flux.catalog.obj_catalog[999]\n",
    "arb_ra = arbitrary_source.ra_angle\n",
    "arb_dec = arbitrary_source.dec_angle\n",
    "J = flux.stokes.J_matrix(arb_ra, arb_dec)\n",
    "J.shape"
   ]
  },
  {
   "cell_type": "code",
   "execution_count": 4,
   "metadata": {},
   "outputs": [
    {
     "data": {
      "text/plain": [
       "array([[[ 2.78987105e-05+3.18228335e-05j,\n",
       "          8.12625503e-01-5.82786230e-01j],\n",
       "        [ 8.12625503e-01-5.82786230e-01j,\n",
       "         -2.78987097e-05-3.18228323e-05j]]])"
      ]
     },
     "execution_count": 4,
     "metadata": {},
     "output_type": "execute_result"
    }
   ],
   "source": [
    "arb_ra = flux.rot.get_lst()\n",
    "arb_dec = np.radians(flux.rot.hera_lat)\n",
    "J = flux.stokes.J_matrix(arb_ra, arb_dec)\n",
    "J"
   ]
  },
  {
   "cell_type": "code",
   "execution_count": 5,
   "metadata": {},
   "outputs": [
    {
     "name": "stdout",
     "output_type": "stream",
     "text": [
      "[[[ 2.61301507e-06+4.21190303e-05j  5.00022365e-01-5.00019752e-01j\n",
      "    4.99980246e-01+4.99977633e-01j  1.78084049e-09-2.15430972e-15j]]\n",
      "\n",
      " [[ 4.99980246e-01+4.99977633e-01j -2.71477787e-15-4.29739836e-16j\n",
      "    4.21172241e-05-2.61301468e-06j -4.99977633e-01+4.99980246e-01j]]\n",
      "\n",
      " [[ 5.00022365e-01-5.00019752e-01j -4.21207858e-05+2.61301468e-06j\n",
      "    1.64362000e-15+4.79526316e-16j -5.00019752e-01-5.00022365e-01j]]\n",
      "\n",
      " [[ 1.78083958e-09+2.20409493e-15j -5.00019752e-01-5.00022365e-01j\n",
      "   -4.99977633e-01+4.99980246e-01j -2.61301507e-06-4.21190303e-05j]]]\n"
     ]
    },
    {
     "data": {
      "text/plain": [
       "(4, 1, 4)"
      ]
     },
     "execution_count": 5,
     "metadata": {},
     "output_type": "execute_result"
    }
   ],
   "source": [
    "Am = flux.stokes.A_matrix(arb_ra, arb_dec)\n",
    "print(Am)\n",
    "Am.shape"
   ]
  },
  {
   "cell_type": "code",
   "execution_count": 6,
   "metadata": {},
   "outputs": [
    {
     "data": {
      "text/plain": [
       "(2.613015073556849e-06+4.211903033997534e-05j)"
      ]
     },
     "execution_count": 6,
     "metadata": {},
     "output_type": "execute_result"
    }
   ],
   "source": [
    "Am[0][0][0]"
   ]
  },
  {
   "cell_type": "code",
   "execution_count": 7,
   "metadata": {},
   "outputs": [
    {
     "name": "stdout",
     "output_type": "stream",
     "text": [
      "[0, 1, 2, 11, 12, 13, 14, 23, 24, 25, 26, 27, 36, 37, 38, 39, 40, 41, 50, 51, 52, 53, 54, 55, 65, 66, 67, 68, 69, 70, 71, 82, 83, 84, 85, 86, 87, 88, 98, 120, 121, 122, 123, 124, 136, 137, 138, 139, 140, 141, 142, 143]\n"
     ]
    }
   ],
   "source": [
    "# Display available antennae\n",
    "print(flux.demo.active_ants)"
   ]
  },
  {
   "cell_type": "code",
   "execution_count": 8,
   "metadata": {},
   "outputs": [
    {
     "name": "stdout",
     "output_type": "stream",
     "text": [
      "Name: GLEAM J185915-381842\n",
      "Right ascension: 284.8155\n",
      "Declination: -37.688250000000004\n",
      "151 MHz flux: 1.2316479999999999\n",
      "\n",
      "[[ 0.00063282-0.00072198j]\n",
      " [-0.00145051-0.00068995j]\n",
      " [ 0.00111174+0.00216667j]\n",
      " [-0.00047896+0.00017847j]]\n",
      "[[0.+0.j]\n",
      " [0.+0.j]\n",
      " [0.+0.j]\n",
      " [0.+0.j]]\n",
      "[[-1.17602892e-04-1.25923179e-04j]\n",
      " [ 1.38992869e-04-9.66918699e-05j]\n",
      " [-4.86015962e-04+2.73582609e-04j]\n",
      " [-3.76018340e-05+1.59046487e-04j]]\n"
     ]
    }
   ],
   "source": [
    "# we sample three sources almost at random, and 2/3 are zero\n",
    "\n",
    "print(arbitrary_source)\n",
    "print(flux.vis.visibility(2, 11, arbitrary_source))\n",
    "\n",
    "print(flux.vis.visibility(36, 37, flux.catalog.obj_catalog[981]))\n",
    "print(flux.vis.visibility(88, 121, flux.catalog.obj_catalog[134]))\n",
    "# also, would we not expect the first term to dominate? And yet it is not even the largest\n",
    "    # of numbers all with magnitudes less than one"
   ]
  },
  {
   "cell_type": "code",
   "execution_count": null,
   "metadata": {},
   "outputs": [],
   "source": [
    "def visibility_7(ant1, ant2, source, nu=151e6):\n",
    "    \"\"\"\n",
    "    Visibility integrand evaluated for a single source.\n",
    "\n",
    "    The most glaring waste of compute is separately calculating\n",
    "    the values for RA and DEC, although it is not clear to me\n",
    "    how many clock cycles are actually spent thereon.\n",
    "    \"\"\"\n",
    "    I = source.flux_by_frq[nu / 1e6]\n",
    "    s = np.array([complex(I), 0, 0, 0])\n",
    "\n",
    "    ra = np.radians(source.ra_angle)\n",
    "    dec = np.radians(source.dec_angle)\n",
    "    r = flux.rot.raddec2lm(ra, dec)\n",
    "\n",
    "    phi = flux.ant.phase_factor(ant1, ant2, r, nu)\n",
    "    return np.dot(np.dot(A_matrix_7(ra, dec, nu), s), phi)"
   ]
  },
  {
   "cell_type": "code",
   "execution_count": null,
   "metadata": {},
   "outputs": [],
   "source": [
    "t = 0\n",
    "while t < 2 * np.pi:\n",
    "    print(t)\n",
    "    t += np.pi / 72\n",
    "    print(J_matrix_7(88, 121, t, flux.catalog.obj_catalog[134]))\n",
    "    print(\"\\n\")\n"
   ]
  },
  {
   "cell_type": "code",
   "execution_count": null,
   "metadata": {},
   "outputs": [],
   "source": []
  }
 ],
 "metadata": {
  "kernelspec": {
   "display_name": "Python 3",
   "language": "python",
   "name": "python3"
  },
  "language_info": {
   "codemirror_mode": {
    "name": "ipython",
    "version": 3
   },
   "file_extension": ".py",
   "mimetype": "text/x-python",
   "name": "python",
   "nbconvert_exporter": "python",
   "pygments_lexer": "ipython3",
   "version": "3.7.6"
  }
 },
 "nbformat": 4,
 "nbformat_minor": 4
}
