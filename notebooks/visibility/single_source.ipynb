{
 "cells": [
  {
   "cell_type": "code",
   "execution_count": 1,
   "metadata": {},
   "outputs": [
    {
     "name": "stdout",
     "output_type": "stream",
     "text": [
      "Missing flux value for: GLEAM J202818-254302 at frequency: 204 MHz.\n",
      "Missing flux value for: GLEAM J202818-254302 at frequency: 212 MHz.\n",
      "Missing flux value for: GLEAM J202818-254302 at frequency: 220 MHz.\n",
      "Missing flux value for: GLEAM J202818-254302 at frequency: 227 MHz.\n",
      "Missing spectral index for: GLEAM J202818-254302\n"
     ]
    },
    {
     "name": "stderr",
     "output_type": "stream",
     "text": [
      "//anaconda3/envs/hera/lib/python3.8/site-packages/spin1_beam_model/jones_matrix_field.py:18: H5pyDeprecationWarning: dataset.value has been deprecated. Use dataset[()] instead.\n",
      "  self.pos1_Elm_samples = h5f[\"pos1_Elm\"].value\n",
      "//anaconda3/envs/hera/lib/python3.8/site-packages/spin1_beam_model/jones_matrix_field.py:19: H5pyDeprecationWarning: dataset.value has been deprecated. Use dataset[()] instead.\n",
      "  self.neg1_Elm_samples = h5f[\"neg1_Elm\"].value\n",
      "//anaconda3/envs/hera/lib/python3.8/site-packages/spin1_beam_model/jones_matrix_field.py:20: H5pyDeprecationWarning: dataset.value has been deprecated. Use dataset[()] instead.\n",
      "  self.freq_nodes = h5f[\"frequencies\"].value\n",
      "//anaconda3/envs/hera/lib/python3.8/site-packages/spin1_beam_model/jones_matrix_field.py:21: H5pyDeprecationWarning: dataset.value has been deprecated. Use dataset[()] instead.\n",
      "  self.L_model = h5f[\"spatial_bandlimit\"].value\n",
      "//anaconda3/envs/hera/lib/python3.8/site-packages/spin1_beam_model/jones_matrix_field.py:22: H5pyDeprecationWarning: dataset.value has been deprecated. Use dataset[()] instead.\n",
      "  self.zenith_theta = h5f[\"zenith_theta\"].value\n",
      "//anaconda3/envs/hera/lib/python3.8/site-packages/spin1_beam_model/jones_matrix_field.py:23: H5pyDeprecationWarning: dataset.value has been deprecated. Use dataset[()] instead.\n",
      "  self.zenith_phi = h5f[\"zenith_phi\"].value\n"
     ]
    },
    {
     "name": "stdout",
     "output_type": "stream",
     "text": [
      "delta_nu_in is 1000000.0\n"
     ]
    }
   ],
   "source": [
    "%matplotlib inline\n",
    "import skyflux as sf"
   ]
  },
  {
   "cell_type": "code",
   "execution_count": 2,
   "metadata": {},
   "outputs": [
    {
     "name": "stderr",
     "output_type": "stream",
     "text": [
      "WARNING: leap-second auto-update failed due to the following exception: RuntimeError('attempted to use clear_download_cache on the path //anaconda3/envs/hera/lib/python3.8/site-packages/astropy/utils/iers/data/Leap_Second.dat outside the data cache directory /Users/lfinkbeiner/.astropy/cache/download/py3') [astropy.time.core]\n"
     ]
    }
   ],
   "source": [
    "import matplotlib.pyplot as plt\n",
    "import numpy as np\n",
    "import healpy as hp"
   ]
  },
  {
   "cell_type": "code",
   "execution_count": 3,
   "metadata": {},
   "outputs": [
    {
     "data": {
      "text/plain": [
       "array([[[0.+0.j, 0.-0.j],\n",
       "        [0.+0.j, 0.-0.j]]])"
      ]
     },
     "execution_count": 3,
     "metadata": {},
     "output_type": "execute_result"
    }
   ],
   "source": [
    "arbitrary_source = sf.catalog.obj_catalog[999]\n",
    "arb_ra = arbitrary_source.ra_angle\n",
    "arb_dec = arbitrary_source.dec_angle\n",
    "J = sf.stokes.create_J(ra=arb_ra, dec=arb_dec)\n",
    "J.shape\n",
    "J"
   ]
  },
  {
   "cell_type": "code",
   "execution_count": 4,
   "metadata": {},
   "outputs": [
    {
     "name": "stdout",
     "output_type": "stream",
     "text": [
      "-30.72138888888889\n"
     ]
    }
   ],
   "source": [
    "arb_ra = sf.rot.get_lst(radians=False)\n",
    "arb_dec = sf.rot.hera_lat\n",
    "print(sf.rot.hera_lat)\n",
    "J = sf.stokes.create_J(ra=arb_ra, dec=arb_dec, lst=sf.rot.get_lst(radians=False), radians=False)"
   ]
  },
  {
   "cell_type": "code",
   "execution_count": 5,
   "metadata": {},
   "outputs": [
    {
     "data": {
      "text/plain": [
       "array([[[ 8.12625503e-01-5.82786230e-01j,\n",
       "         -2.79861484e-05-3.17601251e-05j],\n",
       "        [ 2.79861489e-05+3.17601257e-05j,\n",
       "          8.12625503e-01-5.82786230e-01j]]])"
      ]
     },
     "execution_count": 5,
     "metadata": {},
     "output_type": "execute_result"
    }
   ],
   "source": [
    "J"
   ]
  },
  {
   "cell_type": "code",
   "execution_count": 6,
   "metadata": {},
   "outputs": [
    {
     "name": "stdout",
     "output_type": "stream",
     "text": [
      "[[[ 9.99999998e-01-1.96278790e-11j -2.25071951e-05-1.96135989e-05j\n",
      "    1.96118165e-05-2.25054127e-05j  2.89363378e-06-4.21190107e-05j]]\n",
      "\n",
      " [[-1.96136081e-05+2.25072046e-05j  1.00004212e+00+2.89360659e-06j\n",
      "    4.68181605e-11+1.04180699e-11j  2.25072046e-05+1.96136081e-05j]]\n",
      "\n",
      " [[ 2.25054222e-05+1.96118258e-05j  2.81082935e-11+1.01277729e-11j\n",
      "    9.99957878e-01-2.89358604e-06j -1.96118258e-05+2.25054222e-05j]]\n",
      "\n",
      " [[-2.89355885e-06+4.21190313e-05j  1.96135989e-05-2.25071951e-05j\n",
      "   -2.25054127e-05-1.96118165e-05j  9.99999998e-01-9.17963852e-13j]]]\n"
     ]
    },
    {
     "data": {
      "text/plain": [
       "(4, 1, 4)"
      ]
     },
     "execution_count": 6,
     "metadata": {},
     "output_type": "execute_result"
    }
   ],
   "source": [
    "Am = sf.stokes.create_A(ra=arb_ra, dec=arb_dec, radians=False)\n",
    "print(Am)\n",
    "Am.shape"
   ]
  },
  {
   "cell_type": "code",
   "execution_count": 7,
   "metadata": {},
   "outputs": [
    {
     "data": {
      "text/plain": [
       "(0.9999999975200069-1.962787895268877e-11j)"
      ]
     },
     "execution_count": 7,
     "metadata": {},
     "output_type": "execute_result"
    }
   ],
   "source": [
    "Am[0][0][0]"
   ]
  },
  {
   "cell_type": "code",
   "execution_count": 8,
   "metadata": {},
   "outputs": [
    {
     "name": "stdout",
     "output_type": "stream",
     "text": [
      "[0, 1, 2, 11, 12, 13, 14, 23, 24, 25, 26, 27, 36, 37, 38, 39, 40, 41, 50, 51, 52, 53, 54, 55, 65, 66, 67, 68, 69, 70, 71, 82, 83, 84, 85, 86, 87, 88, 98, 120, 121, 122, 123, 124, 136, 137, 138, 139, 140, 141, 142, 143]\n"
     ]
    }
   ],
   "source": [
    "# Display available antennae\n",
    "print(sf.demo.active_ants)"
   ]
  },
  {
   "cell_type": "code",
   "execution_count": 9,
   "metadata": {},
   "outputs": [
    {
     "name": "stdout",
     "output_type": "stream",
     "text": [
      "Name: GLEAM J185915-381842\n",
      "Right ascension: 284.8155\n",
      "Declination: -37.688250000000004\n",
      "151 MHz flux: 1.2316479999999999\n",
      "\n",
      "[0.+0.j 0.+0.j 0.+0.j 0.+0.j]\n",
      "[0.+0.j 0.+0.j 0.+0.j 0.+0.j]\n",
      "[ 0.13831098+0.91971519j  0.00307072-0.00612719j -0.00603361-0.00324952j\n",
      "  0.00199807+0.01354837j]\n"
     ]
    }
   ],
   "source": [
    "# we sample three arbitrary sources, and 2/3 are zero\n",
    "print(arbitrary_source)\n",
    "print(sf.vis.visibility(2, 11, arbitrary_source))\n",
    "\n",
    "print(sf.vis.visibility(36, 37, sf.catalog.obj_catalog[981]))\n",
    "print(sf.vis.visibility(88, 121, sf.catalog.obj_catalog[134]))\n",
    "# also, would we not expect the first term to dominate? And yet it is not even the largest\n",
    "    # of numbers all with magnitudes less than one"
   ]
  },
  {
   "cell_type": "code",
   "execution_count": 10,
   "metadata": {},
   "outputs": [
    {
     "data": {
      "text/plain": [
       "'\\nThis section kills the kernel! Do NOT run it!!\\nI am leaving it here as a to-do of sorts. I think, that my inability\\nto run it in this environment may be a bad sign.\\n(It does work fine in the shell, so far as I can tell.)\\n\\nt = 0\\narg = 134\\n\\nobj = flux.catalog.obj_catalog[arg]\\nra = np.radians(obj.ra_angle)\\ndec = np.radians(obj.dec_angle)\\nwhile t < 2 * np.pi:\\n    print(t)\\n    t += np.pi / 72\\n    \\n    print(flux.stokes.J_matrix(ra, dec, t))\\n    print(\"\\n\")\\n\\n'"
      ]
     },
     "execution_count": 10,
     "metadata": {},
     "output_type": "execute_result"
    }
   ],
   "source": [
    "\"\"\"\n",
    "This section kills the kernel! Do NOT run it!!\n",
    "I am leaving it here as a to-do of sorts. I think, that my inability\n",
    "to run it in this environment may be a bad sign.\n",
    "(It does work fine in the shell, so far as I can tell.)\n",
    "\n",
    "t = 0\n",
    "arg = 134\n",
    "\n",
    "obj = flux.catalog.obj_catalog[arg]\n",
    "ra = np.radians(obj.ra_angle)\n",
    "dec = np.radians(obj.dec_angle)\n",
    "while t < 2 * np.pi:\n",
    "    print(t)\n",
    "    t += np.pi / 72\n",
    "    \n",
    "    print(flux.stokes.J_matrix(ra, dec, t))\n",
    "    print(\"\\n\")\n",
    "\n",
    "\"\"\""
   ]
  },
  {
   "cell_type": "code",
   "execution_count": 18,
   "metadata": {},
   "outputs": [
    {
     "name": "stderr",
     "output_type": "stream",
     "text": [
      "//anaconda3/envs/hera/lib/python3.8/site-packages/skyflux/vis.py:101: VisibleDeprecationWarning: Creating an ndarray from ragged nested sequences (which is a list-or-tuple of lists-or-tuples-or ndarrays with different lengths or shapes) is deprecated. If you meant to do this, you must specify 'dtype=object' when creating the ndarray\n",
      "  np.array([lst, visibility(ant1, ant2, source, nu, time=lst)])\n"
     ]
    },
    {
     "data": {
      "text/plain": [
       "array([[3.141592653589793,\n",
       "        array([-0.00021457-6.59739467e-05j, -0.00046671-8.84216134e-05j,\n",
       "        0.00023544-4.41288573e-04j,  0.0012934 +6.56515482e-04j])],\n",
       "       [3.1852258848896513,\n",
       "        array([-0.0002092 -0.00012301j, -0.00046755-0.00018351j,\n",
       "        0.00034701-0.00040303j,  0.0010739 +0.00091002j])],\n",
       "       [3.2288591161895095,\n",
       "        array([-0.00014303-0.00021178j, -0.0003818 -0.00037107j,\n",
       "        0.000517  -0.0002321j ,  0.00054557+0.00120163j])],\n",
       "       [3.2724923474893677,\n",
       "        array([ 1.39514543e-05-0.00026076j, -1.05175893e-04-0.00055254j,\n",
       "        5.85277189e-04+0.00014212j, -2.57202724e-04+0.00116363j])],\n",
       "       [3.316125578789226,\n",
       "        array([ 0.00020015-0.00016063j,  0.00034951-0.00046993j,\n",
       "        0.00027401+0.00056933j, -0.00089721+0.00050664j])],\n",
       "       [3.359758810089084,\n",
       "        array([ 0.00022481+8.22354580e-05j,  0.00058924+6.55983721e-05j,\n",
       "       -0.00039444+5.10905519e-04j, -0.00073577-4.14343399e-04j])],\n",
       "       [3.4033920413889422,\n",
       "        array([ 3.81486835e-06+0.00020816j,  1.18145176e-04+0.00056324j,\n",
       "       -5.80191504e-04-0.00025269j,  9.29719556e-05-0.00063897j])],\n",
       "       [3.4470252726888004,\n",
       "        array([-0.0001605 +3.90925060e-05j, -0.00050228+1.65401057e-04j,\n",
       "        0.00021673-5.46014169e-04j,  0.00044947-3.42409846e-05j])],\n",
       "       [3.4906585039886586,\n",
       "        array([-4.47161406e-05-0.00011003j, -1.02835122e-04-0.00044332j,\n",
       "        4.33851590e-04+0.00026967j,  6.30730388e-05+0.00027753j])],\n",
       "       [3.534291735288517,\n",
       "        array([ 7.44844719e-05-5.05410258e-05j,  3.63933357e-04+2.20948906e-05j,\n",
       "       -3.36769151e-04+2.42371257e-04j, -1.70851327e-04+7.84382700e-05j])],\n",
       "       [3.577924966588375,\n",
       "        array([ 6.08540024e-05+8.31041827e-05j, -1.43380499e-04+2.33371876e-04j,\n",
       "       -3.53197546e-06-3.21056497e-04j, -7.96814224e-05-1.66801263e-04j])],\n",
       "       [3.621558197888233,\n",
       "        array([-1.42472077e-04+1.33301806e-05j, -6.06201150e-05-1.91922040e-04j,\n",
       "        1.70373458e-04+1.89501417e-04j,  2.16292153e-04+3.54696896e-05j])],\n",
       "       [3.6651914291880914,\n",
       "        array([ 0.00015351-1.23466560e-04j,  0.00012606+1.00905176e-04j,\n",
       "       -0.0002235 -7.83074752e-05j, -0.00026026+7.57361975e-05j])],\n",
       "       [3.7088246604879496,\n",
       "        array([-0.00015101+2.27259697e-04j, -0.0001522 -5.39579303e-05j,\n",
       "        0.00027182-3.48903504e-06j,  0.00033496-1.65228871e-04j])],\n",
       "       [3.7524578917878078,\n",
       "        array([ 0.0001616 -3.42063989e-04j,  0.00019189+3.11161085e-05j,\n",
       "       -0.00033723+8.05355593e-05j, -0.00045518+2.75555677e-04j])],\n",
       "       [3.796091123087666,\n",
       "        array([-0.00020223+4.66388069e-04j, -0.00024045-2.27000799e-05j,\n",
       "        0.00041919-1.30266775e-04j,  0.0006037 -3.78465116e-04j])],\n",
       "       [3.839724354387524,\n",
       "        array([ 0.00030106-5.76062050e-04j,  0.00028235+4.30720666e-05j,\n",
       "       -0.00051698+1.03250922e-04j, -0.0007727 +4.04955804e-04j])],\n",
       "       [3.8833575856873823,\n",
       "        array([-0.00048554+6.22011719e-04j, -0.00030295-1.04731344e-04j,\n",
       "        0.00059694+4.54907647e-05j,  0.00093286-2.93577108e-04j])],\n",
       "       [3.9269908169872405,\n",
       "        array([ 0.00074379-5.19732863e-04j,  0.00028331+2.07524403e-04j,\n",
       "       -0.00056601-3.13219761e-04j, -0.00100882+3.03987470e-05j])],\n",
       "       [3.9706240482870987,\n",
       "        array([-0.00095517+0.00018067j, -0.00018649-0.00033181j,\n",
       "        0.00031302+0.00057971j,  0.00090433+0.00031597j])],\n",
       "       [4.014257279586957,\n",
       "        array([ 8.77653064e-04+0.00033036j, -2.47588311e-05+0.00039147j,\n",
       "        1.24635582e-04-0.00059511j, -5.79797416e-04-0.00058375j])],\n",
       "       [4.057890510886815,\n",
       "        array([-0.00041464-0.00066652j,  0.0002513 -0.00024771j,\n",
       "       -0.00040827+0.00024034j,  0.00015763+0.00059839j])],\n",
       "       [4.101523742186673,\n",
       "        array([-0.00011274+5.70706725e-04j, -0.00025166-2.02306505e-05j,\n",
       "        0.00025691+1.22733930e-04j,  0.00012756-3.80642640e-04j])],\n",
       "       [4.1451569734865314,\n",
       "        array([ 4.53446173e-04-1.75028884e-04j,  8.11172215e-05+1.24653801e-04j,\n",
       "        9.25354747e-06-1.46078450e-04j, -2.25906833e-04+9.23985129e-05j])],\n",
       "       [4.18879020478639,\n",
       "        array([-3.45637708e-04-6.09662870e-04j,  6.65130520e-05-1.34120478e-04j,\n",
       "       -1.83387972e-04+4.74162163e-05j,  4.56400951e-05+2.69648153e-04j])],\n",
       "       [4.232423436086248,\n",
       "        array([-0.0010373 +7.95771709e-04j, -0.00030118-7.35627743e-05j,\n",
       "        0.00025134+3.65005014e-04j,  0.00061537-1.24507484e-04j])],\n",
       "       [4.276056667386106,\n",
       "        array([ 1.44826587e-03+0.00136306j, -5.08844887e-05+0.00054637j,\n",
       "        5.21278261e-04-0.00055377j, -4.13039601e-04-0.00093246j])],\n",
       "       [4.319689898685964,\n",
       "        array([ 0.00136503-1.82039546e-03j,  0.00067744-2.66335292e-06j,\n",
       "       -0.00070994-5.49490845e-04j, -0.00096402+6.31838561e-04j])],\n",
       "       [4.363323129985822,\n",
       "        array([-1.63966346e-03-0.00110315j, -2.77649576e-05-0.0005858j ,\n",
       "       -4.57752535e-04+0.0005876j ,  5.82203440e-04+0.00073393j])],\n",
       "       [4.406956361285681,\n",
       "        array([-0.00074796+1.16304441e-03j, -0.00037279+1.54205322e-05j,\n",
       "        0.00031938+3.08889569e-04j,  0.00041381-3.85466014e-04j])],\n",
       "       [4.450589592585539,\n",
       "        array([ 8.12249940e-04+0.00045848j, -1.44055154e-05+0.00021518j,\n",
       "        1.86527384e-04-0.0001152j , -2.56066572e-04-0.00015424j])],\n",
       "       [4.494222823885397,\n",
       "        array([ 3.25608699e-04-6.79062154e-04j,  1.37406515e-04+5.29418667e-05j,\n",
       "       -1.51449641e-05-1.17237991e-04j, -2.44584624e-06+2.07719708e-04j])],\n",
       "       [4.537856055185255,\n",
       "        array([-6.38693549e-04-5.13547350e-04j,  4.95411125e-05-6.84861597e-05j,\n",
       "       -6.14148369e-05-2.76814171e-05j,  1.22757828e-04-2.13246221e-05j])],\n",
       "       [4.581489286485113,\n",
       "        array([-1.60926114e-03+5.08778181e-04j, -1.35925501e-04-3.36883905e-05j,\n",
       "        2.18741781e-06+1.70242957e-04j,  2.55317210e-04+9.44910493e-05j])],\n",
       "       [4.6251225177849715,\n",
       "        array([-0.00043611+3.78421304e-03j, -0.00033676+5.03241028e-04j,\n",
       "        0.00077911+7.98569470e-05j,  0.00062017-8.65784740e-04j])],\n",
       "       [4.66875574908483,\n",
       "        array([ 0.004751  +0.0025356j ,  0.00082996+0.00111885j,\n",
       "        0.0006228 -0.00166976j, -0.00104589-0.0013706j ])],\n",
       "       [4.712388980384688,\n",
       "        array([ 0.0034303 -1.86727962e-03j,  0.00154975-6.80948389e-04j,\n",
       "       -0.00195246-1.17792230e-03j, -0.0013645 +2.07064087e-05j])],\n",
       "       [4.756022211684546,\n",
       "        array([ 0.00077645-0.0025802j , -0.00064462-0.00050732j,\n",
       "       -0.00042786+0.00152667j, -0.00098841+0.00020471j])],\n",
       "       [4.799655442984404,\n",
       "        array([-0.01293291+0.00554183j,  0.00160649+0.00180781j,\n",
       "        0.00164155-0.00185008j,  0.00082979-0.00018321j])],\n",
       "       [4.8432886742842625,\n",
       "        array([ 0.0177463 +0.0572141j ,  0.00379164-0.00301617j,\n",
       "       -0.00385402-0.00286985j, -0.00254897-0.00736928j])],\n",
       "       [4.886921905584121,\n",
       "        array([ 0.13869837-0.01695186j, -0.00280937-0.00463239j,\n",
       "       -0.0037365 +0.00391293j, -0.01835427+0.00233998j])],\n",
       "       [4.930555136883979,\n",
       "        array([ 0.00663502-0.22241917j, -0.00293467+0.00176603j,\n",
       "        0.00239771+0.00246049j, -0.00111308+0.02576535j])],\n",
       "       [4.974188368183837,\n",
       "        array([-0.25981909-0.03455509j,  0.00083446-0.00078395j,\n",
       "       -0.00092543-0.00068484j,  0.02328657+0.00383094j])],\n",
       "       [5.017821599483695,\n",
       "        array([-0.04030024+2.30541866e-01j, -0.00472085+6.37778110e-05j,\n",
       "        0.00060027+4.71417552e-03j,  0.00303811-1.29235896e-02j])],\n",
       "       [5.061454830783553,\n",
       "        array([ 0.15522786+0.02194058j,  0.00136849+0.00692579j,\n",
       "        0.0069228 -0.00157696j, -0.0021797 -0.0007603j ])],\n",
       "       [5.105088062083412,\n",
       "        array([ 1.41109922e-03-0.07481213j,  6.31146577e-03-0.00263034j,\n",
       "       -2.09192371e-03-0.00652525j, -2.09247912e-05-0.00316909j])],\n",
       "       [5.14872129338327,\n",
       "        array([-0.02181771+0.00498326j, -0.00262985-0.00364946j,\n",
       "       -0.00422213+0.00158168j, -0.00291306+0.00069226j])],\n",
       "       [5.192354524683128,\n",
       "        array([ 0.00232783+0.00279885j, -0.00129434+0.00112979j,\n",
       "        0.00015083+0.00202337j,  0.00102747+0.00071094j])],\n",
       "       [5.235987755982986,\n",
       "        array([ 0.00165526-0.00197696j, -0.00025709+0.00072512j,\n",
       "        0.00124107+0.00091344j, -0.00045606-0.00082279j])],\n",
       "       [5.279620987282844,\n",
       "        array([-0.00405479-0.00126253j,  0.00088897+0.00024935j,\n",
       "        0.00069976-0.00115172j, -0.00077635+0.0006045j ])],\n",
       "       [5.3232542185827025,\n",
       "        array([ 0.0011005 +3.34924291e-03j, -0.00020259-4.83145662e-04j,\n",
       "       -0.00066222-5.65008664e-05j,  0.00068673+6.73165242e-04j])],\n",
       "       [5.366887449882561,\n",
       "        array([ 8.61102598e-04-0.00168756j, -8.55238139e-05+0.00012663j,\n",
       "        4.27304530e-05+0.00015614j,  2.63402581e-04-0.00065289j])],\n",
       "       [5.410520681182419,\n",
       "        array([-8.75183116e-04+4.62328215e-04j,  9.51818121e-05+7.68602061e-05j,\n",
       "        9.89822495e-05-1.19664496e-05j, -4.05758478e-04+8.16488441e-05j])],\n",
       "       [5.454153912482277,\n",
       "        array([ 8.05662525e-04+2.70184645e-05j, -9.31382302e-05-1.40779132e-04j,\n",
       "       -1.38022002e-04-2.26842410e-06j,  2.43911901e-04+9.67115320e-05j])],\n",
       "       [5.497787143782135,\n",
       "        array([-0.00084535-4.45118457e-04j,  0.0001221 +1.86896863e-04j,\n",
       "        0.00023637-1.47108301e-05j, -0.00023717-9.07915595e-05j])],\n",
       "       [5.5414203750819935,\n",
       "        array([ 0.00097188+9.60880675e-04j, -0.00017804-2.98236167e-04j,\n",
       "       -0.00044945+1.90698883e-05j,  0.00037301+1.06073641e-04j])],\n",
       "       [5.585053606381852,\n",
       "        array([-0.00121384-1.46412530e-03j,  0.00027218+4.25739446e-04j,\n",
       "        0.00071654-2.02116089e-05j, -0.00059775-1.66951169e-04j])],\n",
       "       [5.62868683768171,\n",
       "        array([ 0.00153969+0.00154079j, -0.00040764-0.00040996j,\n",
       "       -0.0008447 +0.00010992j,  0.00082765+0.00017353j])],\n",
       "       [5.672320068981568,\n",
       "        array([-0.00170436-9.31218278e-04j,  0.00046414+1.83423986e-04j,\n",
       "        0.00068282-2.73185230e-04j, -0.00091283+3.20920341e-07j])],\n",
       "       [5.715953300281426,\n",
       "        array([ 0.00135653+4.93170840e-06j, -0.00032424+6.18618655e-05j,\n",
       "       -0.00032923+3.15731555e-04j,  0.00071323-2.76927292e-04j])],\n",
       "       [5.759586531581284,\n",
       "        array([-6.14426318e-04+0.00054914j,  1.48546813e-04-0.000128j  ,\n",
       "        8.85384384e-05-0.00021272j, -3.14832551e-04+0.0004039j ])],\n",
       "       [5.803219762881143,\n",
       "        array([-3.50653190e-05-0.00061124j, -6.80994971e-05+0.0001814j ,\n",
       "        4.30075589e-05+0.000198j  , -3.67984062e-05-0.00033181j])],\n",
       "       [5.846852994181001,\n",
       "        array([ 0.00058676+3.81647641e-04j, -0.00017451-2.07515593e-04j,\n",
       "       -0.00032769-6.16061232e-05j,  0.00032248+1.04652831e-04j])],\n",
       "       [5.890486225480859,\n",
       "        array([-0.00079335+0.0004636j ,  0.00028565-0.00018512j,\n",
       "        0.00019796-0.00048624j, -0.00026592+0.00044066j])],\n",
       "       [5.934119456780717,\n",
       "        array([-0.00032587-0.00104693j,  0.00023716+0.00028449j,\n",
       "        0.00061503+0.00028018j, -0.00059382-0.00045398j])],\n",
       "       [5.977752688080575,\n",
       "        array([ 0.00109754-0.00034742j, -0.00018932+0.00031077j,\n",
       "       -0.00020071+0.00071423j,  0.00051348-0.00077174j])],\n",
       "       [6.0213859193804335,\n",
       "        array([ 0.00055953+9.35630758e-04j, -0.00033761-9.52895140e-06j,\n",
       "       -0.00073034+6.23512983e-05j,  0.0009489 +3.15943788e-04j])],\n",
       "       [6.065019150680292,\n",
       "        array([-0.00051477+0.00080625j, -0.00018733-0.00024179j,\n",
       "       -0.0004052 -0.00054029j,  0.00014666+0.00095674j])],\n",
       "       [6.10865238198015,\n",
       "        array([-7.84201925e-04+0.00010526j,  2.08328895e-05-0.00027275j,\n",
       "        1.07077023e-04-0.00057855j, -5.75184306e-04+0.00063741j])],\n",
       "       [6.152285613280008,\n",
       "        array([-0.0005481 -0.00029354j,  0.0001508 -0.00018777j,\n",
       "        0.0003596 -0.00032627j, -0.00069532+0.00011524j])],\n",
       "       [6.195918844579866,\n",
       "        array([-0.00029982-3.56333633e-04j,  0.00018988-8.52065464e-05j,\n",
       "        0.0003699 -9.75378617e-05j, -0.0005121 -1.53308894e-04j])],\n",
       "       [6.2395520758797245,\n",
       "        array([-0.00017626-2.83417979e-04j,  0.00017855-1.41427273e-05j,\n",
       "        0.00029711+1.14224691e-05j, -0.00032043-1.85654022e-04j])],\n",
       "       [6.283185307179583,\n",
       "        array([-0.00013313-1.87204684e-04j,  0.00015712+1.64413890e-05j,\n",
       "        0.00024084+2.57254222e-05j, -0.00019768-1.17886946e-04j])]],\n",
       "      dtype=object)"
      ]
     },
     "execution_count": 18,
     "metadata": {},
     "output_type": "execute_result"
    }
   ],
   "source": [
    "vist = sf.vis.source_over_time(\n",
    "    88, 121, arbitrary_source, np.pi, 2 * np.pi, np.pi / 72\n",
    ")\n",
    "vist"
   ]
  },
  {
   "cell_type": "code",
   "execution_count": 19,
   "metadata": {},
   "outputs": [
    {
     "data": {
      "image/png": "[encoded data removed]",
      "text/plain": [
       "<Figure size 432x288 with 1 Axes>"
      ]
     },
     "metadata": {
      "needs_background": "light"
     },
     "output_type": "display_data"
    }
   ],
   "source": [
    "I = np.array([v[1][0] for v in vist])\n",
    "\n",
    "plt.plot(vist[:, 0], np.real(I), label=\"I, real\")\n",
    "plt.plot(vist[:, 0], np.imag(I), label=\"I, imaginary\")\n",
    "plt.plot(vist[:, 0], np.abs(I), label=\"I, magnitude\")\n",
    "\n",
    "plt.xlabel(\"LST [rad]\")\n",
    "plt.ylabel(\"Visibility [Jy?]\")\n",
    "\n",
    "plt.legend()\n",
    "plt.show()"
   ]
  },
  {
   "cell_type": "code",
   "execution_count": 13,
   "metadata": {},
   "outputs": [
    {
     "data": {
      "image/png": "[encoded data removed]",
      "text/plain": [
       "<Figure size 432x288 with 1 Axes>"
      ]
     },
     "metadata": {
      "needs_background": "light"
     },
     "output_type": "display_data"
    }
   ],
   "source": [
    "Q = np.array([v[1][1] for v in vist])\n",
    "U = np.array([v[1][2] for v in vist])\n",
    "V = np.array([v[1][3] for v in vist])\n",
    "\n",
    "plt.plot(vist[:, 0], np.real(I), label=\"I\")\n",
    "plt.plot(vist[:, 0], np.real(Q), label=\"Q\")\n",
    "plt.plot(vist[:, 0], np.real(U), label=\"U\")\n",
    "plt.plot(vist[:, 0], np.real(V), label=\"V\")\n",
    "\n",
    "plt.xlabel(\"LST [rad]\")\n",
    "plt.ylabel(\"Visibility [Jy?]\")\n",
    "plt.title(\"Real components\")\n",
    "\n",
    "plt.legend()\n",
    "plt.show()"
   ]
  },
  {
   "cell_type": "code",
   "execution_count": 14,
   "metadata": {},
   "outputs": [
    {
     "data": {
      "image/png": "[encoded data removed]",
      "text/plain": [
       "<Figure size 432x288 with 1 Axes>"
      ]
     },
     "metadata": {
      "needs_background": "light"
     },
     "output_type": "display_data"
    }
   ],
   "source": [
    "plt.plot(vist[:, 0], np.imag(I), label=\"I\")\n",
    "plt.plot(vist[:, 0], np.imag(Q), label=\"Q\")\n",
    "plt.plot(vist[:, 0], np.imag(U), label=\"U\")\n",
    "plt.plot(vist[:, 0], np.imag(V), label=\"V\")\n",
    "\n",
    "plt.xlabel(\"LST [rad]\")\n",
    "plt.ylabel(\"Visibility [Jy?]\")\n",
    "plt.title(\"Imaginary components\")\n",
    "\n",
    "plt.legend()\n",
    "plt.show()"
   ]
  },
  {
   "cell_type": "code",
   "execution_count": 15,
   "metadata": {},
   "outputs": [
    {
     "data": {
      "text/plain": [
       "3872"
      ]
     },
     "execution_count": 15,
     "metadata": {},
     "output_type": "execute_result"
    }
   ],
   "source": [
    "len(sf.catalog.obj_catalog)"
   ]
  },
  {
   "cell_type": "code",
   "execution_count": null,
   "metadata": {},
   "outputs": [],
   "source": []
  }
 ],
 "metadata": {
  "kernelspec": {
   "display_name": "Python 3",
   "language": "python",
   "name": "python3"
  },
  "language_info": {
   "codemirror_mode": {
    "name": "ipython",
    "version": 3
   },
   "file_extension": ".py",
   "mimetype": "text/x-python",
   "name": "python",
   "nbconvert_exporter": "python",
   "pygments_lexer": "ipython3",
   "version": "3.8.5"
  }
 },
 "nbformat": 4,
 "nbformat_minor": 4
}
