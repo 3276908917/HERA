{
 "cells": [
  {
   "cell_type": "code",
   "execution_count": null,
   "metadata": {},
   "outputs": [],
   "source": [
    "# %matplotlib notebook\n",
    "# %import astropy"
   ]
  },
  {
   "cell_type": "code",
   "execution_count": 1,
   "metadata": {},
   "outputs": [],
   "source": [
    "lat = -30 - 43/60 - 17/3600\n",
    "lon = 21 + 25/60 + 42/3600"
   ]
  },
  {
   "cell_type": "code",
   "execution_count": 2,
   "metadata": {},
   "outputs": [
    {
     "data": {
      "text/plain": [
       "-30.72138888888889"
      ]
     },
     "execution_count": 2,
     "metadata": {},
     "output_type": "execute_result"
    }
   ],
   "source": [
    "lat"
   ]
  },
  {
   "cell_type": "code",
   "execution_count": 3,
   "metadata": {},
   "outputs": [
    {
     "data": {
      "text/plain": [
       "21.428333333333335"
      ]
     },
     "execution_count": 3,
     "metadata": {},
     "output_type": "execute_result"
    }
   ],
   "source": [
    "lon"
   ]
  },
  {
   "cell_type": "code",
   "execution_count": 1,
   "metadata": {},
   "outputs": [
    {
     "ename": "ModuleNotFoundError",
     "evalue": "No module named 'ugradio'",
     "output_type": "error",
     "traceback": [
      "\u001b[0;31m---------------------------------------------------------------------------\u001b[0m",
      "\u001b[0;31mModuleNotFoundError\u001b[0m                       Traceback (most recent call last)",
      "\u001b[0;32m<ipython-input-1-c48e5370ea08>\u001b[0m in \u001b[0;36m<module>\u001b[0;34m\u001b[0m\n\u001b[0;32m----> 1\u001b[0;31m \u001b[0;32mimport\u001b[0m \u001b[0mugradio\u001b[0m\u001b[0;34m\u001b[0m\u001b[0;34m\u001b[0m\u001b[0m\n\u001b[0m\u001b[1;32m      2\u001b[0m \u001b[0;32mimport\u001b[0m \u001b[0mnumpy\u001b[0m \u001b[0;32mas\u001b[0m \u001b[0mnp\u001b[0m\u001b[0;34m\u001b[0m\u001b[0;34m\u001b[0m\u001b[0m\n\u001b[1;32m      3\u001b[0m \u001b[0;34m\u001b[0m\u001b[0m\n\u001b[1;32m      4\u001b[0m M_eq_to_gal = np.array([\n\u001b[1;32m      5\u001b[0m     \u001b[0;34m[\u001b[0m\u001b[0;34m-\u001b[0m\u001b[0;36m.054876\u001b[0m\u001b[0;34m,\u001b[0m \u001b[0;34m-\u001b[0m\u001b[0;36m.873437\u001b[0m\u001b[0;34m,\u001b[0m \u001b[0;34m-\u001b[0m\u001b[0;36m.483835\u001b[0m\u001b[0;34m]\u001b[0m\u001b[0;34m,\u001b[0m\u001b[0;34m\u001b[0m\u001b[0;34m\u001b[0m\u001b[0m\n",
      "\u001b[0;31mModuleNotFoundError\u001b[0m: No module named 'ugradio'"
     ]
    }
   ],
   "source": [
    "import ugradio\n",
    "import numpy as np\n",
    "\n",
    "def rectangle(a, b):\n",
    "    '''\n",
    "    Given a pair of angles (both angles must be in radians),\n",
    "    return the corresponding 3x1 rectangular vector.\n",
    "    '''\n",
    "    return np.array([np.cos(b) * np.cos(a), np.cos(b) * np.sin(a), np.sin(b)])\n",
    "\n",
    "def M_eq_to_ha(LST):\n",
    "    '''\n",
    "    Return the change-of-basis matrix between the equatorial and\n",
    "    hour angle declination coordinate systems.\n",
    "    The conversion depends on the @LST, Local Siderial Time\n",
    "    '''\n",
    "    s = np.sin(LST)\n",
    "    c = np.cos(LST)\n",
    "    return np.array([[c, s, 0], [s, -c, 0], [0, 0, 1]])\n",
    "\n",
    "def M_ha_to_topo(phi):\n",
    "    '''\n",
    "    Return the change-of-basis matrix between the hour angle declination\n",
    "    and topocentric coordinate systems.\n",
    "    The conversion depends on the user's current latitude @phi,\n",
    "        which must be given in radians.\n",
    "    '''\n",
    "    s = np.sin(phi)\n",
    "    c = np.cos(phi)\n",
    "    return np.array([[-s, 0, c], [0, -1, 0], [c, 0, s]])\n",
    "\n",
    "def new_sphere(out_arr, radians=False):\n",
    "    '''\n",
    "    Given a 3x1 vector,\n",
    "    return the corresponding pair of angles\n",
    "    @radians determines whether the angles are given in radians.\n",
    "    '''\n",
    "    gp = np.arctan2(out_arr[1], out_arr[0])\n",
    "    tp = np.arcsin(out_arr[2])\n",
    "    if not radians:\n",
    "        return np.degrees(gp), np.degrees(tp)   \n",
    "    return gp, tp"
   ]
  },
  {
   "cell_type": "code",
   "execution_count": null,
   "metadata": {},
   "outputs": [],
   "source": [
    "def eq_to_topo(ra, dec, latitude, longitude, lst, radians=False):\n",
    "    '''\n",
    "    @radians determines the format of BOTH input and output!\n",
    "    Given a pair of angles @ra and @dec,\n",
    "    return a pair of angles relating the associated\n",
    "    azimuth and altitude.\n",
    "    '''\n",
    "    eq_vector = rectangle(ra, dec)\n",
    "    ha_vector = np.dot(M_eq_to_ha(lst), eq_vector)\n",
    "    topo_vector = np.dot(M_ha_to_topo(np.radians(latitude)), ha_vector)\n",
    "    return new_sphere(topo_vector, radians)"
   ]
  }
 ],
 "metadata": {
  "kernelspec": {
   "display_name": "Python 3",
   "language": "python",
   "name": "python3"
  },
  "language_info": {
   "codemirror_mode": {
    "name": "ipython",
    "version": 3
   },
   "file_extension": ".py",
   "mimetype": "text/x-python",
   "name": "python",
   "nbconvert_exporter": "python",
   "pygments_lexer": "ipython3",
   "version": "3.7.6"
  }
 },
 "nbformat": 4,
 "nbformat_minor": 4
}
