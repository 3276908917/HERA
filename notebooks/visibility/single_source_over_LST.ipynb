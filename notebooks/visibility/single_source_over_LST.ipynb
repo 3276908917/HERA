{
 "cells": [
  {
   "cell_type": "code",
   "execution_count": 1,
   "metadata": {
    "scrolled": true
   },
   "outputs": [
    {
     "name": "stdout",
     "output_type": "stream",
     "text": [
      "Missing flux value for: GLEAM J202818-254302 at frequency: 204 MHz.\n",
      "Missing flux value for: GLEAM J202818-254302 at frequency: 212 MHz.\n",
      "Missing flux value for: GLEAM J202818-254302 at frequency: 220 MHz.\n",
      "Missing flux value for: GLEAM J202818-254302 at frequency: 227 MHz.\n",
      "Missing spectral index for: GLEAM J202818-254302\n"
     ]
    },
    {
     "name": "stderr",
     "output_type": "stream",
     "text": [
      "WARNING: leap-second auto-update failed due to the following exception: RuntimeError('attempted to use clear_download_cache on the path //anaconda3/envs/hera/lib/python3.8/site-packages/astropy/utils/iers/data/Leap_Second.dat outside the data cache directory /Users/lfinkbeiner/.astropy/cache/download/py3') [astropy.time.core]\n",
      "//anaconda3/envs/hera/lib/python3.8/site-packages/spin1_beam_model/jones_matrix_field.py:18: H5pyDeprecationWarning: dataset.value has been deprecated. Use dataset[()] instead.\n",
      "  self.pos1_Elm_samples = h5f[\"pos1_Elm\"].value\n",
      "//anaconda3/envs/hera/lib/python3.8/site-packages/spin1_beam_model/jones_matrix_field.py:19: H5pyDeprecationWarning: dataset.value has been deprecated. Use dataset[()] instead.\n",
      "  self.neg1_Elm_samples = h5f[\"neg1_Elm\"].value\n",
      "//anaconda3/envs/hera/lib/python3.8/site-packages/spin1_beam_model/jones_matrix_field.py:20: H5pyDeprecationWarning: dataset.value has been deprecated. Use dataset[()] instead.\n",
      "  self.freq_nodes = h5f[\"frequencies\"].value\n",
      "//anaconda3/envs/hera/lib/python3.8/site-packages/spin1_beam_model/jones_matrix_field.py:21: H5pyDeprecationWarning: dataset.value has been deprecated. Use dataset[()] instead.\n",
      "  self.L_model = h5f[\"spatial_bandlimit\"].value\n",
      "//anaconda3/envs/hera/lib/python3.8/site-packages/spin1_beam_model/jones_matrix_field.py:22: H5pyDeprecationWarning: dataset.value has been deprecated. Use dataset[()] instead.\n",
      "  self.zenith_theta = h5f[\"zenith_theta\"].value\n",
      "//anaconda3/envs/hera/lib/python3.8/site-packages/spin1_beam_model/jones_matrix_field.py:23: H5pyDeprecationWarning: dataset.value has been deprecated. Use dataset[()] instead.\n",
      "  self.zenith_phi = h5f[\"zenith_phi\"].value\n"
     ]
    },
    {
     "name": "stdout",
     "output_type": "stream",
     "text": [
      "delta_nu_in is 1000000.0\n"
     ]
    }
   ],
   "source": [
    "%matplotlib inline\n",
    "import skyflux as sf"
   ]
  },
  {
   "cell_type": "code",
   "execution_count": 2,
   "metadata": {},
   "outputs": [],
   "source": [
    "import matplotlib.pyplot as plt\n",
    "import numpy as np\n",
    "import healpy as hp"
   ]
  },
  {
   "cell_type": "code",
   "execution_count": 3,
   "metadata": {},
   "outputs": [
    {
     "name": "stdout",
     "output_type": "stream",
     "text": [
      "[0, 1, 2, 11, 12, 13, 14, 23, 24, 25, 26, 27, 36, 37, 38, 39, 40, 41, 50, 51, 52, 53, 54, 55, 65, 66, 67, 68, 69, 70, 71, 82, 83, 84, 85, 86, 87, 88, 98, 120, 121, 122, 123, 124, 136, 137, 138, 139, 140, 141, 142, 143]\n"
     ]
    }
   ],
   "source": [
    "# Display available antennae\n",
    "print(sf.demo.active_ants)"
   ]
  },
  {
   "cell_type": "code",
   "execution_count": 4,
   "metadata": {},
   "outputs": [
    {
     "name": "stdout",
     "output_type": "stream",
     "text": [
      "2581\n",
      "Name: GLEAM J150108-311646\n",
      "Right ascension: 225.285125\n",
      "Declination: -30.72038888888889\n",
      "151 MHz flux: 2.077937\n",
      "\n",
      "Flux at 151MHz: 2.077937\n"
     ]
    }
   ],
   "source": [
    "min_residual = 100\n",
    "target = sf.rot.hera_lat\n",
    "best_i = -1\n",
    "for i in range(len(sf.catalog.obj_catalog)):\n",
    "    obj = sf.catalog.obj_catalog[i]\n",
    "    residual = (obj.dec_angle - target) ** 2\n",
    "    if residual < min_residual:\n",
    "        min_residual = residual\n",
    "        best_i = i\n",
    "print(best_i)\n",
    "print(sf.catalog.obj_catalog[best_i])\n",
    "best_source = sf.catalog.obj_catalog[best_i]\n",
    "print(\"Flux at 151MHz:\", best_source.flux_by_frq[151])\n",
    "# also, would we not expect the first term to dominate? And yet it is not even the largest\n",
    "    # of numbers all with magnitudes less than one"
   ]
  },
  {
   "cell_type": "code",
   "execution_count": 5,
   "metadata": {},
   "outputs": [
    {
     "name": "stdout",
     "output_type": "stream",
     "text": [
      "(0.6108900225007089, 0.748160993231249)\n",
      "[-43.92014994  25.13624112]\n"
     ]
    }
   ],
   "source": [
    "ra = np.radians(best_source.ra_angle)\n",
    "dec = np.radians(best_source.dec_angle)\n",
    "dec = np.radians(sf.rot.hera_lat)\n",
    "\n",
    "r = sf.rot.radec2lm(ra, dec, ra0=0)\n",
    "\n",
    "print(r)\n",
    "\n",
    "print(sf.ant.baseline(88, 121)[0:2])"
   ]
  },
  {
   "cell_type": "code",
   "execution_count": null,
   "metadata": {},
   "outputs": [],
   "source": [
    "vist = sf.vis.sources_over_time(\n",
    "    88, 121, best_source, np.pi, 2 * np.pi, np.pi / 288, nu=151e6\n",
    ")\n",
    "#vist"
   ]
  },
  {
   "cell_type": "code",
   "execution_count": null,
   "metadata": {},
   "outputs": [],
   "source": [
    "I = np.array([v[1][0] for v in vist])\n",
    "\n",
    "plt.plot(vist[:, 0], np.real(I), label=\"I, real\")\n",
    "plt.plot(vist[:, 0], np.imag(I), label=\"I, imaginary\")\n",
    "plt.plot(vist[:, 0], np.abs(I), label=\"I, magnitude\")\n",
    "\n",
    "plt.xlabel(\"LST [rad]\")\n",
    "plt.ylabel(\"Visibility [Jy?]\")\n",
    "\n",
    "plt.legend()\n",
    "plt.show()"
   ]
  },
  {
   "cell_type": "code",
   "execution_count": null,
   "metadata": {},
   "outputs": [],
   "source": [
    "Q = np.array([v[1][1] for v in vist])\n",
    "U = np.array([v[1][2] for v in vist])\n",
    "V = np.array([v[1][3] for v in vist])\n",
    "\n",
    "plt.plot(vist[:, 0], np.real(I), label=\"I\")\n",
    "plt.plot(vist[:, 0], np.real(Q), label=\"Q\")\n",
    "plt.plot(vist[:, 0], np.real(U), label=\"U\")\n",
    "plt.plot(vist[:, 0], np.real(V), label=\"V\")\n",
    "\n",
    "plt.xlabel(\"LST [rad]\")\n",
    "plt.ylabel(\"Visibility [Jy?]\")\n",
    "plt.title(\"Real components\")\n",
    "\n",
    "plt.legend()\n",
    "plt.show()"
   ]
  },
  {
   "cell_type": "code",
   "execution_count": null,
   "metadata": {},
   "outputs": [],
   "source": [
    "plt.plot(vist[:, 0], np.imag(I), label=\"I\")\n",
    "plt.plot(vist[:, 0], np.imag(Q), label=\"Q\")\n",
    "plt.plot(vist[:, 0], np.imag(U), label=\"U\")\n",
    "plt.plot(vist[:, 0], np.imag(V), label=\"V\")\n",
    "\n",
    "plt.xlabel(\"LST [rad]\")\n",
    "plt.ylabel(\"Visibility [Jy?]\")\n",
    "plt.title(\"Imaginary components\")\n",
    "\n",
    "plt.legend()\n",
    "plt.show()"
   ]
  },
  {
   "cell_type": "code",
   "execution_count": null,
   "metadata": {},
   "outputs": [],
   "source": [
    "# it is like a phase wrapping effect, that is why there is a sort of symmetry about the soft lump\n",
    "\n",
    "plt.plot(vist[:, 0], np.angle(I), label=\"I, angle\")\n",
    "\n",
    "plt.xlabel(\"LST [rad]\")\n",
    "plt.ylabel(\"Angle [rad]\")\n",
    "\n",
    "plt.legend()\n",
    "plt.show()"
   ]
  },
  {
   "cell_type": "code",
   "execution_count": null,
   "metadata": {},
   "outputs": [],
   "source": [
    "lst_list = [np.pi / 288 * i for i in range(288, 576)]\n",
    "\n",
    "#print(lst_list)\n",
    "\n",
    "phases = np.array([sf.ant.phase_factor(88, 121, sf.rot.radec2lm(ra, dec, ra0=lst)) for lst in \n",
    "    lst_list\n",
    "])\n",
    "plt.plot(lst_list, np.real(phases), label=\"real\")\n",
    "plt.plot(lst_list, np.imag(phases), label=\"imag\")\n",
    "\n",
    "plt.xlabel(\"LST [rad]\")\n",
    "plt.ylabel(\"Phase\")\n",
    "\n",
    "plt.legend()\n",
    "plt.show()"
   ]
  },
  {
   "cell_type": "code",
   "execution_count": null,
   "metadata": {},
   "outputs": [],
   "source": [
    "# The source does not pass through zenith\n",
    "# m should reach zero for it to be considered zenith\n",
    "\n",
    "lst_list = [np.pi / 288 * i for i in range(288, 576)]\n",
    "\n",
    "list_r = np.array([sf.rot.radec2lm(ra, dec, ra0=lst) for lst in \n",
    "    lst_list\n",
    "])\n",
    "plt.plot(lst_list, list_r[:, 0], label=\"$\\ell$\")\n",
    "plt.plot(lst_list, list_r[:, 1], label=\"m\")\n",
    "\n",
    "plt.xlabel(\"LST [rad]\")\n",
    "#plt.ylabel(\"?\")\n",
    "\n",
    "plt.legend()\n",
    "plt.show()"
   ]
  },
  {
   "cell_type": "code",
   "execution_count": null,
   "metadata": {},
   "outputs": [],
   "source": [
    "lst_list = [np.pi / 288 * i for i in range(288, 576)]\n",
    "\n",
    "dec = np.radians(-30.72)\n",
    "\n",
    "# constants for the LST plot\n",
    "print(\"Right ascension:\", ra)\n",
    "print(\"LST interval\", 1 / 288)\n",
    "print(\"Declination:\", dec)\n",
    "print(\"Reference point:\", np.radians(-30.72))\n",
    "\n",
    "list_A = []\n",
    "list_J = []\n",
    "\n",
    "for lst in lst_list:\n",
    "    J = sf.stokes.create_J(ra=ra, dec=dec, lst=lst, radians=True)\n",
    "    list_J.append(J)\n",
    "    A = sf.stokes.create_A(J=J)\n",
    "    list_A.append(A)\n",
    "\n",
    "list_A = np.array(list_A)\n",
    "list_J = np.array(list_J)\n",
    "    \n",
    "print(list_A[0][0][0])\n",
    "\n",
    "plt.plot(lst_list, np.real(list_A[:, 0, 0, 0]), label=\"I' <- I, real\")\n",
    "plt.plot(lst_list, np.abs(list_J[:, 0, 0, 0]), label=\"J: ||xx||\")\n",
    "plt.plot(lst_list, np.imag(list_A[:, 0, 0, 0]), label=\"I' <- I, imag\")\n",
    "\n",
    "plt.xlabel(\"LST [rad]\")\n",
    "plt.ylabel(\"Visibility [Jy?]\")\n",
    "\n",
    "plt.legend()\n",
    "plt.show()"
   ]
  },
  {
   "cell_type": "code",
   "execution_count": null,
   "metadata": {},
   "outputs": [],
   "source": [
    "print(\"The following is the universal baseline\")\n",
    "print(sf.ant.baseline(88, 121))"
   ]
  },
  {
   "cell_type": "code",
   "execution_count": null,
   "metadata": {},
   "outputs": [],
   "source": [
    "len(sf.catalog.obj_catalog)"
   ]
  },
  {
   "cell_type": "code",
   "execution_count": null,
   "metadata": {},
   "outputs": [],
   "source": []
  }
 ],
 "metadata": {
  "kernelspec": {
   "display_name": "Python 3",
   "language": "python",
   "name": "python3"
  },
  "language_info": {
   "codemirror_mode": {
    "name": "ipython",
    "version": 3
   },
   "file_extension": ".py",
   "mimetype": "text/x-python",
   "name": "python",
   "nbconvert_exporter": "python",
   "pygments_lexer": "ipython3",
   "version": "3.8.6"
  }
 },
 "nbformat": 4,
 "nbformat_minor": 4
}
