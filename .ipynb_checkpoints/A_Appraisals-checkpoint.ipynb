{
 "cells": [
  {
   "cell_type": "code",
   "execution_count": 89,
   "metadata": {},
   "outputs": [],
   "source": [
    "file_path = '/Users/lfinkbeiner/Documents/GitHub/HERA/'\n",
    "beam_origin = 'HERA_4.9m_E-pattern_151MHz.txt'\n",
    "beam_destination = 'ant1_s2'"
   ]
  },
  {
   "cell_type": "code",
   "execution_count": 90,
   "metadata": {},
   "outputs": [],
   "source": [
    "from RIMEz import beam_models\n",
    "import numpy as np\n",
    "from spin1_beam_model import cst_processing, jones_matrix_field"
   ]
  },
  {
   "cell_type": "code",
   "execution_count": 91,
   "metadata": {},
   "outputs": [],
   "source": [
    "processor = cst_processing.CSTDataProcessor(\n",
    "    [file_path + beam_origin,\n",
    "    file_path + beam_origin,\n",
    "    file_path + beam_origin],\n",
    "    np.array([150e6, 151e6, 152e6]),\n",
    "    1, 1e-4\n",
    ")"
   ]
  },
  {
   "cell_type": "code",
   "execution_count": 92,
   "metadata": {},
   "outputs": [
    {
     "name": "stderr",
     "output_type": "stream",
     "text": [
      "//anaconda3/envs/hera/lib/python3.7/site-packages/spin1_beam_model/jones_matrix_field.py:18: H5pyDeprecationWarning: dataset.value has been deprecated. Use dataset[()] instead.\n",
      "  self.pos1_Elm_samples = h5f[\"pos1_Elm\"].value\n",
      "//anaconda3/envs/hera/lib/python3.7/site-packages/spin1_beam_model/jones_matrix_field.py:19: H5pyDeprecationWarning: dataset.value has been deprecated. Use dataset[()] instead.\n",
      "  self.neg1_Elm_samples = h5f[\"neg1_Elm\"].value\n",
      "//anaconda3/envs/hera/lib/python3.7/site-packages/spin1_beam_model/jones_matrix_field.py:20: H5pyDeprecationWarning: dataset.value has been deprecated. Use dataset[()] instead.\n",
      "  self.freq_nodes = h5f[\"frequencies\"].value\n",
      "//anaconda3/envs/hera/lib/python3.7/site-packages/spin1_beam_model/jones_matrix_field.py:21: H5pyDeprecationWarning: dataset.value has been deprecated. Use dataset[()] instead.\n",
      "  self.L_model = h5f[\"spatial_bandlimit\"].value\n",
      "//anaconda3/envs/hera/lib/python3.7/site-packages/spin1_beam_model/jones_matrix_field.py:22: H5pyDeprecationWarning: dataset.value has been deprecated. Use dataset[()] instead.\n",
      "  self.zenith_theta = h5f[\"zenith_theta\"].value\n",
      "//anaconda3/envs/hera/lib/python3.7/site-packages/spin1_beam_model/jones_matrix_field.py:23: H5pyDeprecationWarning: dataset.value has been deprecated. Use dataset[()] instead.\n",
      "  self.zenith_phi = h5f[\"zenith_phi\"].value\n"
     ]
    },
    {
     "name": "stdout",
     "output_type": "stream",
     "text": [
      "delta_nu_in is 1000000.0\n"
     ]
    }
   ],
   "source": [
    "processor.compute_spin1_harmonics()\n",
    "processor.write_model_data(file_path, beam_destination)\n",
    "spline_beam_func = beam_models.model_data_to_spline_beam_func(file_path + beam_destination + '.h5', np.array([150e6, 151e6, 152e6]))"
   ]
  },
  {
   "cell_type": "code",
   "execution_count": 93,
   "metadata": {},
   "outputs": [],
   "source": [
    "S = .5 * np.array([\n",
    "        [1, 1, 0, 0],\n",
    "        [0, 0, 1, 1j],\n",
    "        [0, 0, 1, -1j],\n",
    "        [1, -1, 0, 0]\n",
    "    ])\n",
    "def A_matrix(freq, alt, az):\n",
    "    J = spline_beam_func(freq, alt, az)\n",
    "    J_outer = np.kron(J, np.conj(J))\n",
    "    return np.dot(S, np.dot(J_outer, np.linalg.inv(S)))"
   ]
  },
  {
   "cell_type": "code",
   "execution_count": 94,
   "metadata": {},
   "outputs": [
    {
     "name": "stdout",
     "output_type": "stream",
     "text": [
      "For the following results, I use altitude pi/4 and azimuth pi\n",
      "\n",
      "A Matrix, Full\n",
      "[[[-7.20266508e-07-6.07156038e-07j  4.93615423e-04-1.19490666e-03j\n",
      "    4.93549352e-04+3.46835635e-04j -1.54006715e-07+3.23065006e-07j]]\n",
      "\n",
      " [[ 4.93409897e-04+9.74778890e-04j -1.48917287e-08-1.61965669e-08j\n",
      "    5.11763584e-08-2.72520853e-08j -4.94284940e-04+1.25821129e-04j]]\n",
      "\n",
      " [[ 4.93446138e-04-1.25493571e-04j -5.11353449e-08+2.72696836e-08j\n",
      "    1.49385636e-08+1.62141652e-08j -4.94321181e-04-9.74538265e-04j]]\n",
      "\n",
      " [[ 1.54732031e-07-3.23047407e-07j -4.94181726e-04-3.45916487e-04j\n",
      "   -4.94115655e-04+1.19584792e-03j  7.21079672e-07+6.07138440e-07j]]]\n",
      "\n",
      "A Matrix, Magnitudes\n",
      "[[[9.42030943e-07 1.29284883e-03 6.03229575e-04 3.57895328e-07]]\n",
      "\n",
      " [[1.09254163e-03 2.20020990e-08 5.79801329e-08 5.10047604e-04]]\n",
      "\n",
      " [[5.09153933e-04 5.79522143e-08 2.20467647e-08 1.09273888e-03]]\n",
      "\n",
      " [[3.58192167e-07 6.03219525e-04 1.29390978e-03 9.42641490e-07]]]\n",
      "\n",
      "A Matrix, Real Components\n",
      "[[[-7.20266508e-07  4.93615423e-04  4.93549352e-04 -1.54006715e-07]]\n",
      "\n",
      " [[ 4.93409897e-04 -1.48917287e-08  5.11763584e-08 -4.94284940e-04]]\n",
      "\n",
      " [[ 4.93446138e-04 -5.11353449e-08  1.49385636e-08 -4.94321181e-04]]\n",
      "\n",
      " [[ 1.54732031e-07 -4.94181726e-04 -4.94115655e-04  7.21079672e-07]]]\n",
      "\n",
      "A Matrix, Imaginary Components\n",
      "[[[-6.07156038e-07 -1.19490666e-03  3.46835635e-04  3.23065006e-07]]\n",
      "\n",
      " [[ 9.74778890e-04 -1.61965669e-08 -2.72520853e-08  1.25821129e-04]]\n",
      "\n",
      " [[-1.25493571e-04  2.72696836e-08  1.62141652e-08 -9.74538265e-04]]\n",
      "\n",
      " [[-3.23047407e-07 -3.45916487e-04  1.19584792e-03  6.07138440e-07]]]\n"
     ]
    }
   ],
   "source": [
    "A = A_matrix(151e6, np.array([np.pi / 4]), np.array([np.pi]))\n",
    "\n",
    "print('For the following results, I use altitude pi/4 and azimuth pi\\n')\n",
    "\n",
    "print('A Matrix, Full')\n",
    "print(A)\n",
    "\n",
    "# Here we can see that the journal criterion is NOT satisfied:\n",
    "    # off-diagonal terms dominate the diagonal.\n",
    "# Maybe that is just because we are using dummy data?\n",
    "print('\\nA Matrix, Magnitudes')\n",
    "print(np.abs(A))\n",
    "\n",
    "print('\\nA Matrix, Real Components')\n",
    "print(np.real(A))\n",
    "\n",
    "print('\\nA Matrix, Imaginary Components')\n",
    "print(np.imag(A))"
   ]
  },
  {
   "cell_type": "code",
   "execution_count": 95,
   "metadata": {},
   "outputs": [
    {
     "name": "stdout",
     "output_type": "stream",
     "text": [
      "[[[0.00000000e+00 0.00000000e+00 0.00000000e+00 0.00000000e+00]\n",
      "  [0.00000000e+00 0.00000000e+00 0.00000000e+00 0.00000000e+00]\n",
      "  [0.00000000e+00 0.00000000e+00 0.00000000e+00 0.00000000e+00]\n",
      "  ...\n",
      "  [2.07965483e-06 5.88210819e-04 6.72769548e-04 2.81953000e-06]\n",
      "  [1.97188700e-06 6.84941843e-04 6.64883264e-04 3.18074076e-06]\n",
      "  [1.71356319e-06 8.72307925e-04 6.77257431e-04 3.97605751e-06]]\n",
      "\n",
      " [[0.00000000e+00 0.00000000e+00 0.00000000e+00 0.00000000e+00]\n",
      "  [0.00000000e+00 0.00000000e+00 0.00000000e+00 0.00000000e+00]\n",
      "  [0.00000000e+00 0.00000000e+00 0.00000000e+00 0.00000000e+00]\n",
      "  ...\n",
      "  [2.75624837e-04 3.15660133e-08 8.96931332e-09 2.21497812e-04]\n",
      "  [3.15777931e-04 3.45959530e-08 1.40050253e-08 2.49043454e-04]\n",
      "  [3.73207386e-04 4.03886319e-08 1.74449053e-08 2.92314047e-04]]\n",
      "\n",
      " [[0.00000000e+00 0.00000000e+00 0.00000000e+00 0.00000000e+00]\n",
      "  [0.00000000e+00 0.00000000e+00 0.00000000e+00 0.00000000e+00]\n",
      "  [0.00000000e+00 0.00000000e+00 0.00000000e+00 0.00000000e+00]\n",
      "  ...\n",
      "  [2.91420373e-04 6.89371741e-09 3.33859607e-08 2.23621314e-04]\n",
      "  [2.98766287e-04 1.28269289e-08 3.40808419e-08 2.54360896e-04]\n",
      "  [2.89925132e-04 1.75937424e-08 4.03094605e-08 3.74884478e-04]]\n",
      "\n",
      " [[0.00000000e+00 0.00000000e+00 0.00000000e+00 0.00000000e+00]\n",
      "  [0.00000000e+00 0.00000000e+00 0.00000000e+00 0.00000000e+00]\n",
      "  [0.00000000e+00 0.00000000e+00 0.00000000e+00 0.00000000e+00]\n",
      "  ...\n",
      "  [3.01034508e-06 5.56912688e-04 5.46367197e-04 5.41398614e-07]\n",
      "  [3.44025507e-06 6.21723007e-04 6.41286456e-04 6.53229532e-07]\n",
      "  [3.95557468e-06 6.77432651e-04 8.68254005e-04 1.73030537e-06]]]\n"
     ]
    }
   ],
   "source": [
    "# Eventually: alt\n",
    "x = np.linspace(0, 2 * np.pi, 100)\n",
    "#print(x)\n",
    "\n",
    "# Eventually: az\n",
    "y = np.linspace(0, 2 * np.pi, 100)\n",
    "#print(y)\n",
    "\n",
    "A_mag_space = np.abs(A_matrix(151e6, x, y))\n",
    "print(A_mag_space)"
   ]
  },
  {
   "cell_type": "code",
   "execution_count": 96,
   "metadata": {},
   "outputs": [
    {
     "name": "stdout",
     "output_type": "stream",
     "text": [
      "(10000,)\n"
     ]
    }
   ],
   "source": [
    "# to-do:\n",
    "    # 1. see if we need radians or degrees\n",
    "    # 2. convert hra-dec to az, alt\n",
    "    # 3. combine plots for multiple Stokes parameters\n",
    "\n",
    "import matplotlib.pyplot as plt\n",
    "\n",
    "I_to_I = A_mag_space[0, :, 0]\n",
    "scaled_I_to_I = (I_to_I - I_to_I.min()) / I_to_I.ptp()\n",
    "\n",
    "colors = plt.cm.viridis(scaled_I_to_I)\n",
    "\n",
    "# debug\n",
    "print(scaled_I_to_I.shape)"
   ]
  },
  {
   "cell_type": "code",
   "execution_count": 97,
   "metadata": {},
   "outputs": [
    {
     "name": "stdout",
     "output_type": "stream",
     "text": [
      "[[0.         0.        ]\n",
      " [0.         0.06346652]\n",
      " [0.         0.12693304]\n",
      " ...\n",
      " [6.28318531 6.15625227]\n",
      " [6.28318531 6.21971879]\n",
      " [6.28318531 6.28318531]]\n"
     ]
    },
    {
     "data": {
      "image/png": "[encoded data removed]",
      "text/plain": [
       "<Figure size 432x288 with 1 Axes>"
      ]
     },
     "metadata": {
      "needs_background": "light"
     },
     "output_type": "display_data"
    }
   ],
   "source": [
    "# This reshaping is hard-coded\n",
    "cart_prod = np.array(np.meshgrid(x, y)).T.reshape(-1, 2)\n",
    "\n",
    "# I have not tested this extensively; hurriedly nabbed\n",
    "    # from Stack Exchange\n",
    "print(cart_prod)\n",
    "\n",
    "plt.scatter(cart_prod[:, 0], cart_prod[:, 1], marker='+', c=colors, s=150, linewidths=4)\n",
    "plt.show()"
   ]
  },
  {
   "cell_type": "code",
   "execution_count": null,
   "metadata": {},
   "outputs": [],
   "source": []
  }
 ],
 "metadata": {
  "kernelspec": {
   "display_name": "Python 3",
   "language": "python",
   "name": "python3"
  },
  "language_info": {
   "codemirror_mode": {
    "name": "ipython",
    "version": 3
   },
   "file_extension": ".py",
   "mimetype": "text/x-python",
   "name": "python",
   "nbconvert_exporter": "python",
   "pygments_lexer": "ipython3",
   "version": "3.7.6"
  }
 },
 "nbformat": 4,
 "nbformat_minor": 4
}
