{
 "cells": [
  {
   "cell_type": "markdown",
   "metadata": {},
   "source": [
    "It is a pain to have to keep dumping compute and garbage text files just to regenerate J each time.\n",
    "The point of this notebook is to carefully review the process of J calculation,\n",
    "so that we can perform it just once and save to the result to a shared numpy zip file."
   ]
  },
  {
   "cell_type": "code",
   "execution_count": 1,
   "metadata": {},
   "outputs": [
    {
     "name": "stdout",
     "output_type": "stream",
     "text": [
      "Missing flux value for: GLEAM J202818-254302 at frequency: 204 MHz.\n",
      "Missing flux value for: GLEAM J202818-254302 at frequency: 212 MHz.\n",
      "Missing flux value for: GLEAM J202818-254302 at frequency: 220 MHz.\n",
      "Missing flux value for: GLEAM J202818-254302 at frequency: 227 MHz.\n",
      "Missing spectral index for: GLEAM J202818-254302\n"
     ]
    },
    {
     "name": "stderr",
     "output_type": "stream",
     "text": [
      "//anaconda3/envs/hera/lib/python3.7/site-packages/spin1_beam_model/jones_matrix_field.py:18: H5pyDeprecationWarning: dataset.value has been deprecated. Use dataset[()] instead.\n",
      "  self.pos1_Elm_samples = h5f[\"pos1_Elm\"].value\n",
      "//anaconda3/envs/hera/lib/python3.7/site-packages/spin1_beam_model/jones_matrix_field.py:19: H5pyDeprecationWarning: dataset.value has been deprecated. Use dataset[()] instead.\n",
      "  self.neg1_Elm_samples = h5f[\"neg1_Elm\"].value\n",
      "//anaconda3/envs/hera/lib/python3.7/site-packages/spin1_beam_model/jones_matrix_field.py:20: H5pyDeprecationWarning: dataset.value has been deprecated. Use dataset[()] instead.\n",
      "  self.freq_nodes = h5f[\"frequencies\"].value\n",
      "//anaconda3/envs/hera/lib/python3.7/site-packages/spin1_beam_model/jones_matrix_field.py:21: H5pyDeprecationWarning: dataset.value has been deprecated. Use dataset[()] instead.\n",
      "  self.L_model = h5f[\"spatial_bandlimit\"].value\n",
      "//anaconda3/envs/hera/lib/python3.7/site-packages/spin1_beam_model/jones_matrix_field.py:22: H5pyDeprecationWarning: dataset.value has been deprecated. Use dataset[()] instead.\n",
      "  self.zenith_theta = h5f[\"zenith_theta\"].value\n",
      "//anaconda3/envs/hera/lib/python3.7/site-packages/spin1_beam_model/jones_matrix_field.py:23: H5pyDeprecationWarning: dataset.value has been deprecated. Use dataset[()] instead.\n",
      "  self.zenith_phi = h5f[\"zenith_phi\"].value\n"
     ]
    },
    {
     "name": "stdout",
     "output_type": "stream",
     "text": [
      "delta_nu_in is 1000000.0\n"
     ]
    }
   ],
   "source": [
    "%matplotlib notebook\n",
    "import flux"
   ]
  },
  {
   "cell_type": "code",
   "execution_count": 2,
   "metadata": {},
   "outputs": [],
   "source": [
    "import matplotlib.pyplot as plt\n",
    "import numpy as np\n",
    "import healpy as hp"
   ]
  },
  {
   "cell_type": "code",
   "execution_count": 3,
   "metadata": {},
   "outputs": [],
   "source": [
    "list_az = []\n",
    "list_alt = []\n",
    "for source in flux.catalog.obj_catalog:\n",
    "    ra = np.radians(source.ra_angle)\n",
    "    dec = np.radians(source.dec_angle)\n",
    "    az, alt = flux.rot.eq_to_topo(\n",
    "        ra, dec,\n",
    "        np.radians(flux.rot.hera_lat),\n",
    "        flux.rot.get_lst(), radians=True\n",
    "    )\n",
    "    list_az.append(az)\n",
    "    list_alt.append(alt)"
   ]
  },
  {
   "cell_type": "code",
   "execution_count": 4,
   "metadata": {},
   "outputs": [
    {
     "name": "stdout",
     "output_type": "stream",
     "text": [
      "[-2.49392327  2.45052987  3.12676636 ...  1.73038089  3.06607766\n",
      "  1.95999999]\n",
      "[ 1.51577329 -0.14064867 -0.62208971 ...  0.82095196 -0.65339114\n",
      "  0.71536525]\n"
     ]
    }
   ],
   "source": [
    "# reformat into arrays so that the spline function can handle the single angles\n",
    "list_az = np.array(list_az)\n",
    "list_alt = np.array(list_alt)\n",
    "print(list_az)\n",
    "print(list_alt)"
   ]
  },
  {
   "cell_type": "code",
   "execution_count": 5,
   "metadata": {},
   "outputs": [],
   "source": [
    "#nside = 16, 32, 64, 128...\n",
    "nside = 128\n",
    "\n",
    "# healpix does the interpolation for you?\n",
    "theta, phi = hp.pix2ang(nside, np.arange(12 * nside * nside))\n",
    "az = phi\n",
    "alt = np.pi / 2 - theta\n",
    "J = flux.stokes.spline_beam_func(150e6, alt, az)"
   ]
  },
  {
   "cell_type": "code",
   "execution_count": 6,
   "metadata": {},
   "outputs": [
    {
     "data": {
      "text/plain": [
       "(3872, 2, 2)"
      ]
     },
     "execution_count": 6,
     "metadata": {},
     "output_type": "execute_result"
    }
   ],
   "source": [
    "J = flux.stokes.spline_beam_func(150e6, list_alt, list_az)\n",
    "J.shape"
   ]
  },
  {
   "cell_type": "code",
   "execution_count": 7,
   "metadata": {},
   "outputs": [
    {
     "data": {
      "text/plain": [
       "1517"
      ]
     },
     "execution_count": 7,
     "metadata": {},
     "output_type": "execute_result"
    }
   ],
   "source": [
    "empty_blocks = 0\n",
    "for block in J:\n",
    "    if block[0][0] == 0 and \\\n",
    "        block[1][0] == 0 and \\\n",
    "        block[0][1] == 0 and \\\n",
    "        block[1][1] == 0:\n",
    "        empty_blocks += 1\n",
    "empty_blocks"
   ]
  },
  {
   "cell_type": "code",
   "execution_count": 8,
   "metadata": {},
   "outputs": [
    {
     "data": {
      "text/plain": [
       "39.178719008264466"
      ]
     },
     "execution_count": 8,
     "metadata": {},
     "output_type": "execute_result"
    }
   ],
   "source": [
    "\"\"\" This is a major problem, is it not? \"\"\"\n",
    "percent_empty = 100 * empty_blocks / len(J)\n",
    "percent_empty"
   ]
  },
  {
   "cell_type": "code",
   "execution_count": 14,
   "metadata": {},
   "outputs": [
    {
     "ename": "SyntaxError",
     "evalue": "positional argument follows keyword argument (<ipython-input-14-42d3bccdc7ef>, line 6)",
     "output_type": "error",
     "traceback": [
      "\u001b[0;36m  File \u001b[0;32m\"<ipython-input-14-42d3bccdc7ef>\"\u001b[0;36m, line \u001b[0;32m6\u001b[0m\n\u001b[0;31m    az, alt = flux.rot.eq_to_topo(ra, dec, lat=np.radians(flux.rot.hera_lat), lst, radians=True)\u001b[0m\n\u001b[0m                                                                             ^\u001b[0m\n\u001b[0;31mSyntaxError\u001b[0m\u001b[0;31m:\u001b[0m positional argument follows keyword argument\n"
     ]
    }
   ],
   "source": [
    "def rad_interp(J_section, ra, dec, lst):\n",
    "    \"\"\"\n",
    "    Abbreviation and conversion function. We get the interpolation value\n",
    "    assuming @az and @alt are in degrees.\n",
    "    \"\"\"\n",
    "    az, alt = flux.rot.eq_to_topo(ra, dec, lat=np.radians(flux.rot.hera_lat), lst, radians=True)\n",
    "    colatitude = np.radians(90 - alt)\n",
    "    longitude = np.radians(az)\n",
    "    return hp.get_interp_val(J_section, colatitude, longitude)"
   ]
  },
  {
   "cell_type": "code",
   "execution_count": 13,
   "metadata": {},
   "outputs": [
    {
     "name": "stdout",
     "output_type": "stream",
     "text": [
      "[[[-0.01169484+0.00335301j -0.05251387-0.01053338j]\n",
      "  [-0.0521776 +0.0101595j   0.01215581+0.00316631j]]]\n"
     ]
    },
    {
     "ename": "TypeError",
     "evalue": "eq_to_topo() missing 2 required positional arguments: 'latitude' and 'lst'",
     "output_type": "error",
     "traceback": [
      "\u001b[0;31m---------------------------------------------------------------------------\u001b[0m",
      "\u001b[0;31mTypeError\u001b[0m                                 Traceback (most recent call last)",
      "\u001b[0;32m<ipython-input-13-fc0df421fbbd>\u001b[0m in \u001b[0;36m<module>\u001b[0;34m\u001b[0m\n\u001b[1;32m      9\u001b[0m \u001b[0mJ_max\u001b[0m \u001b[0;34m=\u001b[0m \u001b[0mflux\u001b[0m\u001b[0;34m.\u001b[0m\u001b[0mstokes\u001b[0m\u001b[0;34m.\u001b[0m\u001b[0mJ_matrix\u001b[0m\u001b[0;34m(\u001b[0m\u001b[0mra\u001b[0m\u001b[0;34m,\u001b[0m \u001b[0mdec\u001b[0m\u001b[0;34m,\u001b[0m \u001b[0mlst\u001b[0m\u001b[0;34m=\u001b[0m\u001b[0mnp\u001b[0m\u001b[0;34m.\u001b[0m\u001b[0mpi\u001b[0m \u001b[0;34m/\u001b[0m \u001b[0;36m3\u001b[0m\u001b[0;34m)\u001b[0m\u001b[0;34m\u001b[0m\u001b[0;34m\u001b[0m\u001b[0m\n\u001b[1;32m     10\u001b[0m \u001b[0mprint\u001b[0m\u001b[0;34m(\u001b[0m\u001b[0mJ_max\u001b[0m\u001b[0;34m)\u001b[0m\u001b[0;34m\u001b[0m\u001b[0;34m\u001b[0m\u001b[0m\n\u001b[0;32m---> 11\u001b[0;31m \u001b[0mprint\u001b[0m\u001b[0;34m(\u001b[0m\u001b[0mrad_interp\u001b[0m\u001b[0;34m(\u001b[0m\u001b[0mJ_max\u001b[0m\u001b[0;34m,\u001b[0m \u001b[0mra_max\u001b[0m\u001b[0;34m,\u001b[0m \u001b[0mdec_max\u001b[0m\u001b[0;34m)\u001b[0m\u001b[0;34m)\u001b[0m\u001b[0;34m\u001b[0m\u001b[0;34m\u001b[0m\u001b[0m\n\u001b[0m",
      "\u001b[0;32m<ipython-input-12-a480fc51e4fa>\u001b[0m in \u001b[0;36mrad_interp\u001b[0;34m(J_section, ra, dec)\u001b[0m\n\u001b[1;32m      4\u001b[0m     \u001b[0massuming\u001b[0m \u001b[0;34m@\u001b[0m\u001b[0maz\u001b[0m \u001b[0;32mand\u001b[0m \u001b[0;34m@\u001b[0m\u001b[0malt\u001b[0m \u001b[0mare\u001b[0m \u001b[0;32min\u001b[0m \u001b[0mdegrees\u001b[0m\u001b[0;34m.\u001b[0m\u001b[0;34m\u001b[0m\u001b[0;34m\u001b[0m\u001b[0m\n\u001b[1;32m      5\u001b[0m     \"\"\"\n\u001b[0;32m----> 6\u001b[0;31m     \u001b[0maz\u001b[0m\u001b[0;34m,\u001b[0m \u001b[0malt\u001b[0m \u001b[0;34m=\u001b[0m \u001b[0mflux\u001b[0m\u001b[0;34m.\u001b[0m\u001b[0mrot\u001b[0m\u001b[0;34m.\u001b[0m\u001b[0meq_to_topo\u001b[0m\u001b[0;34m(\u001b[0m\u001b[0mra\u001b[0m\u001b[0;34m,\u001b[0m \u001b[0mdec\u001b[0m\u001b[0;34m)\u001b[0m\u001b[0;34m\u001b[0m\u001b[0;34m\u001b[0m\u001b[0m\n\u001b[0m\u001b[1;32m      7\u001b[0m     \u001b[0mcolatitude\u001b[0m \u001b[0;34m=\u001b[0m \u001b[0mnp\u001b[0m\u001b[0;34m.\u001b[0m\u001b[0mradians\u001b[0m\u001b[0;34m(\u001b[0m\u001b[0;36m90\u001b[0m \u001b[0;34m-\u001b[0m \u001b[0malt\u001b[0m\u001b[0;34m)\u001b[0m\u001b[0;34m\u001b[0m\u001b[0;34m\u001b[0m\u001b[0m\n\u001b[1;32m      8\u001b[0m     \u001b[0mlongitude\u001b[0m \u001b[0;34m=\u001b[0m \u001b[0mnp\u001b[0m\u001b[0;34m.\u001b[0m\u001b[0mradians\u001b[0m\u001b[0;34m(\u001b[0m\u001b[0maz\u001b[0m\u001b[0;34m)\u001b[0m\u001b[0;34m\u001b[0m\u001b[0;34m\u001b[0m\u001b[0m\n",
      "\u001b[0;31mTypeError\u001b[0m: eq_to_topo() missing 2 required positional arguments: 'latitude' and 'lst'"
     ]
    }
   ],
   "source": [
    "# Hard-coding a right-ascension,\n",
    "# this should be a maximum response...\n",
    "\n",
    "# the cold patch represents degrees 0 through 120\n",
    "\n",
    "ra_max = np.radians(59.984791666666666)\n",
    "dec_max = np.radians(-23.4345)\n",
    "\n",
    "J_max = flux.stokes.J_matrix(ra, dec, lst=np.pi / 3)\n",
    "print(J_max)\n",
    "print(rad_interp(J_max, ra_max, dec_max))"
   ]
  },
  {
   "cell_type": "code",
   "execution_count": 10,
   "metadata": {},
   "outputs": [
    {
     "name": "stdout",
     "output_type": "stream",
     "text": [
      "\n",
      "Declination (degrees): -30.72 \n",
      "Right acension (degrees): 0 \n",
      "Resultant J matrix:\n",
      " [[[-0.01394893+0.00664088j  0.03292649+0.00266418j]\n",
      "  [ 0.01151518-0.03048613j  0.01611135-0.01044008j]]] \n",
      "\n",
      "\n",
      "Declination (degrees): -30.72 \n",
      "Right acension (degrees): 10 \n",
      "Resultant J matrix:\n",
      " [[[-0.00941275+0.00865026j  0.02039517-0.0150796j ]\n",
      "  [ 0.01680992-0.02457134j  0.00893044-0.01070789j]]] \n",
      "\n",
      "\n",
      "Declination (degrees): -30.72 \n",
      "Right acension (degrees): 20 \n",
      "Resultant J matrix:\n",
      " [[[ 0.01164934+0.00730785j -0.02650823-0.02985053j]\n",
      "  [-0.03844987-0.01168298j -0.01436482-0.00873063j]]] \n",
      "\n",
      "\n",
      "Declination (degrees): -30.72 \n",
      "Right acension (degrees): 30 \n",
      "Resultant J matrix:\n",
      " [[[ 0.00480075+0.00541987j -0.01722691-0.02081558j]\n",
      "  [-0.02089781-0.02192923j -0.00578392-0.00637318j]]] \n",
      "\n",
      "\n",
      "Declination (degrees): -30.72 \n",
      "Right acension (degrees): 40 \n",
      "Resultant J matrix:\n",
      " [[[ 0.01085977+0.00071735j -0.05349354-0.01452555j]\n",
      "  [-0.06220647+0.01857443j -0.01114586+0.00174292j]]] \n",
      "\n",
      "\n",
      "Declination (degrees): -30.72 \n",
      "Right acension (degrees): 50 \n",
      "Resultant J matrix:\n",
      " [[[-0.02113884+0.01928468j  0.27577173-0.2352934j ]\n",
      "  [ 0.19527432-0.16368834j  0.02198453-0.01458582j]]] \n",
      "\n",
      "\n",
      "Declination (degrees): -30.72 \n",
      "Right acension (degrees): 60 \n",
      "Resultant J matrix:\n",
      " [[[ 2.82762277e-05+3.15504315e-05j  8.12625479e-01-5.82786214e-01j]\n",
      "  [ 8.12625484e-01-5.82786216e-01j -2.82770297e-05-3.15515148e-05j]]] \n",
      "\n",
      "\n",
      "Declination (degrees): -30.72 \n",
      "Right acension (degrees): 70 \n",
      "Resultant J matrix:\n",
      " [[[ 0.02147217-0.01880356j  0.27793884-0.23154735j]\n",
      "  [ 0.19527246-0.16369026j -0.02200714+0.01456442j]]] \n",
      "\n",
      "\n",
      "Declination (degrees): -30.72 \n",
      "Right acension (degrees): 80 \n",
      "Resultant J matrix:\n",
      " [[[-0.01088274-0.00069433j -0.05361377-0.01410703j]\n",
      "  [-0.06220642+0.01857519j  0.01114505-0.00173846j]]] \n",
      "\n",
      "\n",
      "Declination (degrees): -30.72 \n",
      "Right acension (degrees): 90 \n",
      "Resultant J matrix:\n",
      " [[[-0.00476103-0.00528979j -0.01708586-0.02065217j]\n",
      "  [-0.02089829-0.02192873j  0.00578209+0.00637514j]]] \n",
      "\n",
      "\n",
      "Declination (degrees): -30.72 \n",
      "Right acension (degrees): 100 \n",
      "Resultant J matrix:\n",
      " [[[-0.01168048-0.00733673j -0.02673898-0.02984666j]\n",
      "  [-0.03845048-0.01168191j  0.01436211+0.00873331j]]] \n",
      "\n",
      "\n",
      "Declination (degrees): -30.72 \n",
      "Right acension (degrees): 110 \n",
      "Resultant J matrix:\n",
      " [[[ 0.00937569-0.00864344j  0.02043971-0.01498419j]\n",
      "  [ 0.01680906-0.02457188j -0.00893214+0.01070645j]]] \n",
      "\n",
      "\n",
      "Declination (degrees): -30.72 \n",
      "Right acension (degrees): 120 \n",
      "Resultant J matrix:\n",
      " [[[ 0.01395057-0.00652076j  0.03294592+0.00270431j]\n",
      "  [ 0.01151451-0.03048736j -0.01611149+0.01043708j]]] \n",
      "\n"
     ]
    }
   ],
   "source": [
    "dec_decf = np.radians(-30.72)\n",
    "\n",
    "ra_decf = 0\n",
    "\n",
    "while ra_decf <= 120:\n",
    "    J_decf = flux.stokes.J_matrix(\n",
    "        np.radians(ra_decf), dec_decf, lst=np.pi / 3\n",
    "    )\n",
    "    print(\"\\nDeclination (degrees):\", np.around(np.degrees(dec_decf), 2),\n",
    "          \"\\nRight acension (degrees):\", np.around(ra_decf, 2),\n",
    "          \"\\nResultant J matrix:\\n\", J_decf, \"\\n\")\n",
    "    ra_decf += 10"
   ]
  },
  {
   "cell_type": "code",
   "execution_count": 11,
   "metadata": {},
   "outputs": [
    {
     "name": "stdout",
     "output_type": "stream",
     "text": [
      "\n",
      "Declination (degrees): -0.54 \n",
      "Right acension (degrees): 7448.45 \n",
      "Resultant J matrix:\n",
      " [[[1.03084029e-03+1.71170084e-03j 8.60120039e-02-8.93682447e-02j]\n",
      "  [1.69007584e-01-1.67573766e-01j 1.18433426e-04-8.24630327e-05j]]] \n",
      "\n",
      "\n",
      "Declination (degrees): -0.54 \n",
      "Right acension (degrees): 7448.45 \n",
      "Resultant J matrix:\n",
      " [[[1.27856918e-03+1.80730298e-03j 5.40772527e-01-3.97594659e-01j]\n",
      "  [5.83984880e-01-4.34414825e-01j 1.73553521e-04-1.31898261e-04j]]] \n",
      "\n",
      "\n",
      "Declination (degrees): -0.54 \n",
      "Right acension (degrees): 7448.45 \n",
      "Resultant J matrix:\n",
      " [[[-8.19603320e-05+1.10584657e-04j  8.12623651e-01-5.82785131e-01j]\n",
      "  [ 8.12623351e-01-5.82784739e-01j  8.19473175e-05-1.10462013e-04j]]] \n",
      "\n",
      "\n",
      "Declination (degrees): -0.54 \n",
      "Right acension (degrees): 7448.45 \n",
      "Resultant J matrix:\n",
      " [[[-1.39479011e-03-1.64909938e-03j  5.40511315e-01-3.97418380e-01j]\n",
      "  [ 5.86165859e-01-4.30790059e-01j -5.74351505e-05-1.45552748e-05j]]] \n",
      "\n",
      "\n",
      "Declination (degrees): -0.54 \n",
      "Right acension (degrees): 7448.45 \n",
      "Resultant J matrix:\n",
      " [[[-1.05849183e-03-1.66134009e-03j  8.58186308e-02-8.92381358e-02j]\n",
      "  [ 1.70555684e-01-1.64062703e-01j -9.82531019e-05+4.34755123e-05j]]] \n",
      "\n"
     ]
    }
   ],
   "source": [
    "dec_raf = -40.72\n",
    "\n",
    "ra_raf = np.radians(59.984791666666666)\n",
    "\n",
    "while dec_raf <= -20.72:\n",
    "    J_raf = flux.stokes.J_matrix(\n",
    "        ra_raf, np.radians(dec_raf), lst=np.pi / 3\n",
    "    )\n",
    "    print(\"\\nDeclination (degrees):\", np.around(dec_decf, 2),\n",
    "          \"\\nRight acension (degrees):\", np.around(np.degrees(ra_decf), 2),\n",
    "          \"\\nResultant J matrix:\\n\", J_raf, \"\\n\")\n",
    "    dec_raf += 5"
   ]
  },
  {
   "cell_type": "code",
   "execution_count": null,
   "metadata": {},
   "outputs": [],
   "source": []
  }
 ],
 "metadata": {
  "kernelspec": {
   "display_name": "Python 3",
   "language": "python",
   "name": "python3"
  },
  "language_info": {
   "codemirror_mode": {
    "name": "ipython",
    "version": 3
   },
   "file_extension": ".py",
   "mimetype": "text/x-python",
   "name": "python",
   "nbconvert_exporter": "python",
   "pygments_lexer": "ipython3",
   "version": "3.7.6"
  }
 },
 "nbformat": 4,
 "nbformat_minor": 4
}
