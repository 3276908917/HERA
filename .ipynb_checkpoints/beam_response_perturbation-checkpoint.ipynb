{
 "cells": [
  {
   "cell_type": "code",
   "execution_count": 1,
   "metadata": {},
   "outputs": [],
   "source": [
    "file_path = '/Users/lfinkbeiner/Documents/GitHub/HERA/beam/'\n",
    "beam_origin = 'HERA_4.9m_E-pattern_151MHz.txt'\n",
    "beam_destination = 'ant1_s2'"
   ]
  },
  {
   "cell_type": "code",
   "execution_count": 2,
   "metadata": {},
   "outputs": [],
   "source": [
    "%matplotlib notebook\n",
    "import matplotlib.pyplot as plt\n",
    "from RIMEz import beam_models\n",
    "import numpy as np\n",
    "import healpy as hp\n",
    "from spin1_beam_model import cst_processing, jones_matrix_field"
   ]
  },
  {
   "cell_type": "code",
   "execution_count": 3,
   "metadata": {},
   "outputs": [],
   "source": [
    "processor = cst_processing.CSTDataProcessor(\n",
    "    [file_path + beam_origin,\n",
    "    file_path + beam_origin,\n",
    "    file_path + beam_origin],\n",
    "    np.array([150e6, 151e6, 152e6]),\n",
    "    1, 1e-4\n",
    ")"
   ]
  },
  {
   "cell_type": "code",
   "execution_count": 4,
   "metadata": {},
   "outputs": [
    {
     "name": "stderr",
     "output_type": "stream",
     "text": [
      "//anaconda3/envs/hera/lib/python3.7/site-packages/spin1_beam_model/jones_matrix_field.py:18: H5pyDeprecationWarning: dataset.value has been deprecated. Use dataset[()] instead.\n",
      "  self.pos1_Elm_samples = h5f[\"pos1_Elm\"].value\n",
      "//anaconda3/envs/hera/lib/python3.7/site-packages/spin1_beam_model/jones_matrix_field.py:19: H5pyDeprecationWarning: dataset.value has been deprecated. Use dataset[()] instead.\n",
      "  self.neg1_Elm_samples = h5f[\"neg1_Elm\"].value\n",
      "//anaconda3/envs/hera/lib/python3.7/site-packages/spin1_beam_model/jones_matrix_field.py:20: H5pyDeprecationWarning: dataset.value has been deprecated. Use dataset[()] instead.\n",
      "  self.freq_nodes = h5f[\"frequencies\"].value\n",
      "//anaconda3/envs/hera/lib/python3.7/site-packages/spin1_beam_model/jones_matrix_field.py:21: H5pyDeprecationWarning: dataset.value has been deprecated. Use dataset[()] instead.\n",
      "  self.L_model = h5f[\"spatial_bandlimit\"].value\n",
      "//anaconda3/envs/hera/lib/python3.7/site-packages/spin1_beam_model/jones_matrix_field.py:22: H5pyDeprecationWarning: dataset.value has been deprecated. Use dataset[()] instead.\n",
      "  self.zenith_theta = h5f[\"zenith_theta\"].value\n",
      "//anaconda3/envs/hera/lib/python3.7/site-packages/spin1_beam_model/jones_matrix_field.py:23: H5pyDeprecationWarning: dataset.value has been deprecated. Use dataset[()] instead.\n",
      "  self.zenith_phi = h5f[\"zenith_phi\"].value\n"
     ]
    },
    {
     "name": "stdout",
     "output_type": "stream",
     "text": [
      "delta_nu_in is 1000000.0\n"
     ]
    }
   ],
   "source": [
    "processor.compute_spin1_harmonics()\n",
    "processor.write_model_data(file_path, beam_destination)\n",
    "spline_beam_func = beam_models.model_data_to_spline_beam_func(file_path + beam_destination + '.h5', np.array([150e6, 151e6, 152e6]))"
   ]
  },
  {
   "cell_type": "code",
   "execution_count": 5,
   "metadata": {},
   "outputs": [],
   "source": [
    "import healpy as hp\n",
    "#nside = 16, 32, 64, 128...\n",
    "nside = 128\n",
    "\n",
    "# healpix does the interpolation for you?\n",
    "theta, phi = hp.pix2ang(nside,np.arange(12 * nside * nside))\n",
    "az = phi\n",
    "alt = np.pi / 2 - theta\n",
    "J = spline_beam_func(150e6, alt, az)"
   ]
  },
  {
   "cell_type": "code",
   "execution_count": 6,
   "metadata": {},
   "outputs": [
    {
     "name": "stdout",
     "output_type": "stream",
     "text": [
      "[[[0.00281558 0.99816552]\n",
      "  [0.99816633 0.00251133]]\n",
      "\n",
      " [[0.00254597 0.99816624]\n",
      "  [0.99816313 0.00285542]]\n",
      "\n",
      " [[0.00253712 0.99816399]\n",
      "  [0.99816316 0.00284353]]\n",
      "\n",
      " ...\n",
      "\n",
      " [[0.         0.        ]\n",
      "  [0.         0.        ]]\n",
      "\n",
      " [[0.         0.        ]\n",
      "  [0.         0.        ]]\n",
      "\n",
      " [[0.         0.        ]\n",
      "  [0.         0.        ]]]\n"
     ]
    },
    {
     "data": {
      "text/plain": [
       "(196608, 2, 2)"
      ]
     },
     "execution_count": 6,
     "metadata": {},
     "output_type": "execute_result"
    }
   ],
   "source": [
    "# Current labels\n",
    "# 0, 0 : xy\n",
    "# 1, 0 : xx\n",
    "# 0, 1 : yy\n",
    "# 1, 1 : yx\n",
    "\n",
    "J_abs = np.abs(J)\n",
    "print(J_abs)\n",
    "J_abs.shape"
   ]
  },
  {
   "cell_type": "code",
   "execution_count": 7,
   "metadata": {},
   "outputs": [],
   "source": [
    "test_index = hp.get_interp_val(np.abs(J[:, 0, 1]), -80, 60, False, True)"
   ]
  },
  {
   "cell_type": "code",
   "execution_count": 8,
   "metadata": {},
   "outputs": [],
   "source": [
    "lat = np.linspace(-90, 90, 1000)\n",
    "lon = np.linspace(-180, 180, 1000)"
   ]
  },
  {
   "cell_type": "code",
   "execution_count": 41,
   "metadata": {},
   "outputs": [
    {
     "data": {
      "application/javascript": [
       "/* Put everything inside the global mpl namespace */\n",
       "window.mpl = {};\n",
       "\n",
       "\n",
       "mpl.get_websocket_type = function() {\n",
       "    if (typeof(WebSocket) !== 'undefined') {\n",
       "        return WebSocket;\n",
       "    } else if (typeof(MozWebSocket) !== 'undefined') {\n",
       "        return MozWebSocket;\n",
       "    } else {\n",
       "        alert('Your browser does not have WebSocket support. ' +\n",
       "              'Please try Chrome, Safari or Firefox ≥ 6. ' +\n",
       "              'Firefox 4 and 5 are also supported but you ' +\n",
       "              'have to enable WebSockets in about:config.');\n",
       "    };\n",
       "}\n",
       "\n",
       "mpl.figure = function(figure_id, websocket, ondownload, parent_element) {\n",
       "    this.id = figure_id;\n",
       "\n",
       "    this.ws = websocket;\n",
       "\n",
       "    this.supports_binary = (this.ws.binaryType != undefined);\n",
       "\n",
       "    if (!this.supports_binary) {\n",
       "        var warnings = document.getElementById(\"mpl-warnings\");\n",
       "        if (warnings) {\n",
       "            warnings.style.display = 'block';\n",
       "            warnings.textContent = (\n",
       "                \"This browser does not support binary websocket messages. \" +\n",
       "                    \"Performance may be slow.\");\n",
       "        }\n",
       "    }\n",
       "\n",
       "    this.imageObj = new Image();\n",
       "\n",
       "    this.context = undefined;\n",
       "    this.message = undefined;\n",
       "    this.canvas = undefined;\n",
       "    this.rubberband_canvas = undefined;\n",
       "    this.rubberband_context = undefined;\n",
       "    this.format_dropdown = undefined;\n",
       "\n",
       "    this.image_mode = 'full';\n",
       "\n",
       "    this.root = $('<div/>');\n",
       "    this._root_extra_style(this.root)\n",
       "    this.root.attr('style', 'display: inline-block');\n",
       "\n",
       "    $(parent_element).append(this.root);\n",
       "\n",
       "    this._init_header(this);\n",
       "    this._init_canvas(this);\n",
       "    this._init_toolbar(this);\n",
       "\n",
       "    var fig = this;\n",
       "\n",
       "    this.waiting = false;\n",
       "\n",
       "    this.ws.onopen =  function () {\n",
       "            fig.send_message(\"supports_binary\", {value: fig.supports_binary});\n",
       "            fig.send_message(\"send_image_mode\", {});\n",
       "            if (mpl.ratio != 1) {\n",
       "                fig.send_message(\"set_dpi_ratio\", {'dpi_ratio': mpl.ratio});\n",
       "            }\n",
       "            fig.send_message(\"refresh\", {});\n",
       "        }\n",
       "\n",
       "    this.imageObj.onload = function() {\n",
       "            if (fig.image_mode == 'full') {\n",
       "                // Full images could contain transparency (where diff images\n",
       "                // almost always do), so we need to clear the canvas so that\n",
       "                // there is no ghosting.\n",
       "                fig.context.clearRect(0, 0, fig.canvas.width, fig.canvas.height);\n",
       "            }\n",
       "            fig.context.drawImage(fig.imageObj, 0, 0);\n",
       "        };\n",
       "\n",
       "    this.imageObj.onunload = function() {\n",
       "        fig.ws.close();\n",
       "    }\n",
       "\n",
       "    this.ws.onmessage = this._make_on_message_function(this);\n",
       "\n",
       "    this.ondownload = ondownload;\n",
       "}\n",
       "\n",
       "mpl.figure.prototype._init_header = function() {\n",
       "    var titlebar = $(\n",
       "        '<div class=\"ui-dialog-titlebar ui-widget-header ui-corner-all ' +\n",
       "        'ui-helper-clearfix\"/>');\n",
       "    var titletext = $(\n",
       "        '<div class=\"ui-dialog-title\" style=\"width: 100%; ' +\n",
       "        'text-align: center; padding: 3px;\"/>');\n",
       "    titlebar.append(titletext)\n",
       "    this.root.append(titlebar);\n",
       "    this.header = titletext[0];\n",
       "}\n",
       "\n",
       "\n",
       "\n",
       "mpl.figure.prototype._canvas_extra_style = function(canvas_div) {\n",
       "\n",
       "}\n",
       "\n",
       "\n",
       "mpl.figure.prototype._root_extra_style = function(canvas_div) {\n",
       "\n",
       "}\n",
       "\n",
       "mpl.figure.prototype._init_canvas = function() {\n",
       "    var fig = this;\n",
       "\n",
       "    var canvas_div = $('<div/>');\n",
       "\n",
       "    canvas_div.attr('style', 'position: relative; clear: both; outline: 0');\n",
       "\n",
       "    function canvas_keyboard_event(event) {\n",
       "        return fig.key_event(event, event['data']);\n",
       "    }\n",
       "\n",
       "    canvas_div.keydown('key_press', canvas_keyboard_event);\n",
       "    canvas_div.keyup('key_release', canvas_keyboard_event);\n",
       "    this.canvas_div = canvas_div\n",
       "    this._canvas_extra_style(canvas_div)\n",
       "    this.root.append(canvas_div);\n",
       "\n",
       "    var canvas = $('<canvas/>');\n",
       "    canvas.addClass('mpl-canvas');\n",
       "    canvas.attr('style', \"left: 0; top: 0; z-index: 0; outline: 0\")\n",
       "\n",
       "    this.canvas = canvas[0];\n",
       "    this.context = canvas[0].getContext(\"2d\");\n",
       "\n",
       "    var backingStore = this.context.backingStorePixelRatio ||\n",
       "\tthis.context.webkitBackingStorePixelRatio ||\n",
       "\tthis.context.mozBackingStorePixelRatio ||\n",
       "\tthis.context.msBackingStorePixelRatio ||\n",
       "\tthis.context.oBackingStorePixelRatio ||\n",
       "\tthis.context.backingStorePixelRatio || 1;\n",
       "\n",
       "    mpl.ratio = (window.devicePixelRatio || 1) / backingStore;\n",
       "\n",
       "    var rubberband = $('<canvas/>');\n",
       "    rubberband.attr('style', \"position: absolute; left: 0; top: 0; z-index: 1;\")\n",
       "\n",
       "    var pass_mouse_events = true;\n",
       "\n",
       "    canvas_div.resizable({\n",
       "        start: function(event, ui) {\n",
       "            pass_mouse_events = false;\n",
       "        },\n",
       "        resize: function(event, ui) {\n",
       "            fig.request_resize(ui.size.width, ui.size.height);\n",
       "        },\n",
       "        stop: function(event, ui) {\n",
       "            pass_mouse_events = true;\n",
       "            fig.request_resize(ui.size.width, ui.size.height);\n",
       "        },\n",
       "    });\n",
       "\n",
       "    function mouse_event_fn(event) {\n",
       "        if (pass_mouse_events)\n",
       "            return fig.mouse_event(event, event['data']);\n",
       "    }\n",
       "\n",
       "    rubberband.mousedown('button_press', mouse_event_fn);\n",
       "    rubberband.mouseup('button_release', mouse_event_fn);\n",
       "    // Throttle sequential mouse events to 1 every 20ms.\n",
       "    rubberband.mousemove('motion_notify', mouse_event_fn);\n",
       "\n",
       "    rubberband.mouseenter('figure_enter', mouse_event_fn);\n",
       "    rubberband.mouseleave('figure_leave', mouse_event_fn);\n",
       "\n",
       "    canvas_div.on(\"wheel\", function (event) {\n",
       "        event = event.originalEvent;\n",
       "        event['data'] = 'scroll'\n",
       "        if (event.deltaY < 0) {\n",
       "            event.step = 1;\n",
       "        } else {\n",
       "            event.step = -1;\n",
       "        }\n",
       "        mouse_event_fn(event);\n",
       "    });\n",
       "\n",
       "    canvas_div.append(canvas);\n",
       "    canvas_div.append(rubberband);\n",
       "\n",
       "    this.rubberband = rubberband;\n",
       "    this.rubberband_canvas = rubberband[0];\n",
       "    this.rubberband_context = rubberband[0].getContext(\"2d\");\n",
       "    this.rubberband_context.strokeStyle = \"#000000\";\n",
       "\n",
       "    this._resize_canvas = function(width, height) {\n",
       "        // Keep the size of the canvas, canvas container, and rubber band\n",
       "        // canvas in synch.\n",
       "        canvas_div.css('width', width)\n",
       "        canvas_div.css('height', height)\n",
       "\n",
       "        canvas.attr('width', width * mpl.ratio);\n",
       "        canvas.attr('height', height * mpl.ratio);\n",
       "        canvas.attr('style', 'width: ' + width + 'px; height: ' + height + 'px;');\n",
       "\n",
       "        rubberband.attr('width', width);\n",
       "        rubberband.attr('height', height);\n",
       "    }\n",
       "\n",
       "    // Set the figure to an initial 600x600px, this will subsequently be updated\n",
       "    // upon first draw.\n",
       "    this._resize_canvas(600, 600);\n",
       "\n",
       "    // Disable right mouse context menu.\n",
       "    $(this.rubberband_canvas).bind(\"contextmenu\",function(e){\n",
       "        return false;\n",
       "    });\n",
       "\n",
       "    function set_focus () {\n",
       "        canvas.focus();\n",
       "        canvas_div.focus();\n",
       "    }\n",
       "\n",
       "    window.setTimeout(set_focus, 100);\n",
       "}\n",
       "\n",
       "mpl.figure.prototype._init_toolbar = function() {\n",
       "    var fig = this;\n",
       "\n",
       "    var nav_element = $('<div/>');\n",
       "    nav_element.attr('style', 'width: 100%');\n",
       "    this.root.append(nav_element);\n",
       "\n",
       "    // Define a callback function for later on.\n",
       "    function toolbar_event(event) {\n",
       "        return fig.toolbar_button_onclick(event['data']);\n",
       "    }\n",
       "    function toolbar_mouse_event(event) {\n",
       "        return fig.toolbar_button_onmouseover(event['data']);\n",
       "    }\n",
       "\n",
       "    for(var toolbar_ind in mpl.toolbar_items) {\n",
       "        var name = mpl.toolbar_items[toolbar_ind][0];\n",
       "        var tooltip = mpl.toolbar_items[toolbar_ind][1];\n",
       "        var image = mpl.toolbar_items[toolbar_ind][2];\n",
       "        var method_name = mpl.toolbar_items[toolbar_ind][3];\n",
       "\n",
       "        if (!name) {\n",
       "            // put a spacer in here.\n",
       "            continue;\n",
       "        }\n",
       "        var button = $('<button/>');\n",
       "        button.addClass('ui-button ui-widget ui-state-default ui-corner-all ' +\n",
       "                        'ui-button-icon-only');\n",
       "        button.attr('role', 'button');\n",
       "        button.attr('aria-disabled', 'false');\n",
       "        button.click(method_name, toolbar_event);\n",
       "        button.mouseover(tooltip, toolbar_mouse_event);\n",
       "\n",
       "        var icon_img = $('<span/>');\n",
       "        icon_img.addClass('ui-button-icon-primary ui-icon');\n",
       "        icon_img.addClass(image);\n",
       "        icon_img.addClass('ui-corner-all');\n",
       "\n",
       "        var tooltip_span = $('<span/>');\n",
       "        tooltip_span.addClass('ui-button-text');\n",
       "        tooltip_span.html(tooltip);\n",
       "\n",
       "        button.append(icon_img);\n",
       "        button.append(tooltip_span);\n",
       "\n",
       "        nav_element.append(button);\n",
       "    }\n",
       "\n",
       "    var fmt_picker_span = $('<span/>');\n",
       "\n",
       "    var fmt_picker = $('<select/>');\n",
       "    fmt_picker.addClass('mpl-toolbar-option ui-widget ui-widget-content');\n",
       "    fmt_picker_span.append(fmt_picker);\n",
       "    nav_element.append(fmt_picker_span);\n",
       "    this.format_dropdown = fmt_picker[0];\n",
       "\n",
       "    for (var ind in mpl.extensions) {\n",
       "        var fmt = mpl.extensions[ind];\n",
       "        var option = $(\n",
       "            '<option/>', {selected: fmt === mpl.default_extension}).html(fmt);\n",
       "        fmt_picker.append(option);\n",
       "    }\n",
       "\n",
       "    // Add hover states to the ui-buttons\n",
       "    $( \".ui-button\" ).hover(\n",
       "        function() { $(this).addClass(\"ui-state-hover\");},\n",
       "        function() { $(this).removeClass(\"ui-state-hover\");}\n",
       "    );\n",
       "\n",
       "    var status_bar = $('<span class=\"mpl-message\"/>');\n",
       "    nav_element.append(status_bar);\n",
       "    this.message = status_bar[0];\n",
       "}\n",
       "\n",
       "mpl.figure.prototype.request_resize = function(x_pixels, y_pixels) {\n",
       "    // Request matplotlib to resize the figure. Matplotlib will then trigger a resize in the client,\n",
       "    // which will in turn request a refresh of the image.\n",
       "    this.send_message('resize', {'width': x_pixels, 'height': y_pixels});\n",
       "}\n",
       "\n",
       "mpl.figure.prototype.send_message = function(type, properties) {\n",
       "    properties['type'] = type;\n",
       "    properties['figure_id'] = this.id;\n",
       "    this.ws.send(JSON.stringify(properties));\n",
       "}\n",
       "\n",
       "mpl.figure.prototype.send_draw_message = function() {\n",
       "    if (!this.waiting) {\n",
       "        this.waiting = true;\n",
       "        this.ws.send(JSON.stringify({type: \"draw\", figure_id: this.id}));\n",
       "    }\n",
       "}\n",
       "\n",
       "\n",
       "mpl.figure.prototype.handle_save = function(fig, msg) {\n",
       "    var format_dropdown = fig.format_dropdown;\n",
       "    var format = format_dropdown.options[format_dropdown.selectedIndex].value;\n",
       "    fig.ondownload(fig, format);\n",
       "}\n",
       "\n",
       "\n",
       "mpl.figure.prototype.handle_resize = function(fig, msg) {\n",
       "    var size = msg['size'];\n",
       "    if (size[0] != fig.canvas.width || size[1] != fig.canvas.height) {\n",
       "        fig._resize_canvas(size[0], size[1]);\n",
       "        fig.send_message(\"refresh\", {});\n",
       "    };\n",
       "}\n",
       "\n",
       "mpl.figure.prototype.handle_rubberband = function(fig, msg) {\n",
       "    var x0 = msg['x0'] / mpl.ratio;\n",
       "    var y0 = (fig.canvas.height - msg['y0']) / mpl.ratio;\n",
       "    var x1 = msg['x1'] / mpl.ratio;\n",
       "    var y1 = (fig.canvas.height - msg['y1']) / mpl.ratio;\n",
       "    x0 = Math.floor(x0) + 0.5;\n",
       "    y0 = Math.floor(y0) + 0.5;\n",
       "    x1 = Math.floor(x1) + 0.5;\n",
       "    y1 = Math.floor(y1) + 0.5;\n",
       "    var min_x = Math.min(x0, x1);\n",
       "    var min_y = Math.min(y0, y1);\n",
       "    var width = Math.abs(x1 - x0);\n",
       "    var height = Math.abs(y1 - y0);\n",
       "\n",
       "    fig.rubberband_context.clearRect(\n",
       "        0, 0, fig.canvas.width / mpl.ratio, fig.canvas.height / mpl.ratio);\n",
       "\n",
       "    fig.rubberband_context.strokeRect(min_x, min_y, width, height);\n",
       "}\n",
       "\n",
       "mpl.figure.prototype.handle_figure_label = function(fig, msg) {\n",
       "    // Updates the figure title.\n",
       "    fig.header.textContent = msg['label'];\n",
       "}\n",
       "\n",
       "mpl.figure.prototype.handle_cursor = function(fig, msg) {\n",
       "    var cursor = msg['cursor'];\n",
       "    switch(cursor)\n",
       "    {\n",
       "    case 0:\n",
       "        cursor = 'pointer';\n",
       "        break;\n",
       "    case 1:\n",
       "        cursor = 'default';\n",
       "        break;\n",
       "    case 2:\n",
       "        cursor = 'crosshair';\n",
       "        break;\n",
       "    case 3:\n",
       "        cursor = 'move';\n",
       "        break;\n",
       "    }\n",
       "    fig.rubberband_canvas.style.cursor = cursor;\n",
       "}\n",
       "\n",
       "mpl.figure.prototype.handle_message = function(fig, msg) {\n",
       "    fig.message.textContent = msg['message'];\n",
       "}\n",
       "\n",
       "mpl.figure.prototype.handle_draw = function(fig, msg) {\n",
       "    // Request the server to send over a new figure.\n",
       "    fig.send_draw_message();\n",
       "}\n",
       "\n",
       "mpl.figure.prototype.handle_image_mode = function(fig, msg) {\n",
       "    fig.image_mode = msg['mode'];\n",
       "}\n",
       "\n",
       "mpl.figure.prototype.updated_canvas_event = function() {\n",
       "    // Called whenever the canvas gets updated.\n",
       "    this.send_message(\"ack\", {});\n",
       "}\n",
       "\n",
       "// A function to construct a web socket function for onmessage handling.\n",
       "// Called in the figure constructor.\n",
       "mpl.figure.prototype._make_on_message_function = function(fig) {\n",
       "    return function socket_on_message(evt) {\n",
       "        if (evt.data instanceof Blob) {\n",
       "            /* FIXME: We get \"Resource interpreted as Image but\n",
       "             * transferred with MIME type text/plain:\" errors on\n",
       "             * Chrome.  But how to set the MIME type?  It doesn't seem\n",
       "             * to be part of the websocket stream */\n",
       "            evt.data.type = \"image/png\";\n",
       "\n",
       "            /* Free the memory for the previous frames */\n",
       "            if (fig.imageObj.src) {\n",
       "                (window.URL || window.webkitURL).revokeObjectURL(\n",
       "                    fig.imageObj.src);\n",
       "            }\n",
       "\n",
       "            fig.imageObj.src = (window.URL || window.webkitURL).createObjectURL(\n",
       "                evt.data);\n",
       "            fig.updated_canvas_event();\n",
       "            fig.waiting = false;\n",
       "            return;\n",
       "        }\n",
       "        else if (typeof evt.data === 'string' && evt.data.slice(0, 21) == \"data:image/png;base64\") {\n",
       "            fig.imageObj.src = evt.data;\n",
       "            fig.updated_canvas_event();\n",
       "            fig.waiting = false;\n",
       "            return;\n",
       "        }\n",
       "\n",
       "        var msg = JSON.parse(evt.data);\n",
       "        var msg_type = msg['type'];\n",
       "\n",
       "        // Call the  \"handle_{type}\" callback, which takes\n",
       "        // the figure and JSON message as its only arguments.\n",
       "        try {\n",
       "            var callback = fig[\"handle_\" + msg_type];\n",
       "        } catch (e) {\n",
       "            console.log(\"No handler for the '\" + msg_type + \"' message type: \", msg);\n",
       "            return;\n",
       "        }\n",
       "\n",
       "        if (callback) {\n",
       "            try {\n",
       "                // console.log(\"Handling '\" + msg_type + \"' message: \", msg);\n",
       "                callback(fig, msg);\n",
       "            } catch (e) {\n",
       "                console.log(\"Exception inside the 'handler_\" + msg_type + \"' callback:\", e, e.stack, msg);\n",
       "            }\n",
       "        }\n",
       "    };\n",
       "}\n",
       "\n",
       "// from http://stackoverflow.com/questions/1114465/getting-mouse-location-in-canvas\n",
       "mpl.findpos = function(e) {\n",
       "    //this section is from http://www.quirksmode.org/js/events_properties.html\n",
       "    var targ;\n",
       "    if (!e)\n",
       "        e = window.event;\n",
       "    if (e.target)\n",
       "        targ = e.target;\n",
       "    else if (e.srcElement)\n",
       "        targ = e.srcElement;\n",
       "    if (targ.nodeType == 3) // defeat Safari bug\n",
       "        targ = targ.parentNode;\n",
       "\n",
       "    // jQuery normalizes the pageX and pageY\n",
       "    // pageX,Y are the mouse positions relative to the document\n",
       "    // offset() returns the position of the element relative to the document\n",
       "    var x = e.pageX - $(targ).offset().left;\n",
       "    var y = e.pageY - $(targ).offset().top;\n",
       "\n",
       "    return {\"x\": x, \"y\": y};\n",
       "};\n",
       "\n",
       "/*\n",
       " * return a copy of an object with only non-object keys\n",
       " * we need this to avoid circular references\n",
       " * http://stackoverflow.com/a/24161582/3208463\n",
       " */\n",
       "function simpleKeys (original) {\n",
       "  return Object.keys(original).reduce(function (obj, key) {\n",
       "    if (typeof original[key] !== 'object')\n",
       "        obj[key] = original[key]\n",
       "    return obj;\n",
       "  }, {});\n",
       "}\n",
       "\n",
       "mpl.figure.prototype.mouse_event = function(event, name) {\n",
       "    var canvas_pos = mpl.findpos(event)\n",
       "\n",
       "    if (name === 'button_press')\n",
       "    {\n",
       "        this.canvas.focus();\n",
       "        this.canvas_div.focus();\n",
       "    }\n",
       "\n",
       "    var x = canvas_pos.x * mpl.ratio;\n",
       "    var y = canvas_pos.y * mpl.ratio;\n",
       "\n",
       "    this.send_message(name, {x: x, y: y, button: event.button,\n",
       "                             step: event.step,\n",
       "                             guiEvent: simpleKeys(event)});\n",
       "\n",
       "    /* This prevents the web browser from automatically changing to\n",
       "     * the text insertion cursor when the button is pressed.  We want\n",
       "     * to control all of the cursor setting manually through the\n",
       "     * 'cursor' event from matplotlib */\n",
       "    event.preventDefault();\n",
       "    return false;\n",
       "}\n",
       "\n",
       "mpl.figure.prototype._key_event_extra = function(event, name) {\n",
       "    // Handle any extra behaviour associated with a key event\n",
       "}\n",
       "\n",
       "mpl.figure.prototype.key_event = function(event, name) {\n",
       "\n",
       "    // Prevent repeat events\n",
       "    if (name == 'key_press')\n",
       "    {\n",
       "        if (event.which === this._key)\n",
       "            return;\n",
       "        else\n",
       "            this._key = event.which;\n",
       "    }\n",
       "    if (name == 'key_release')\n",
       "        this._key = null;\n",
       "\n",
       "    var value = '';\n",
       "    if (event.ctrlKey && event.which != 17)\n",
       "        value += \"ctrl+\";\n",
       "    if (event.altKey && event.which != 18)\n",
       "        value += \"alt+\";\n",
       "    if (event.shiftKey && event.which != 16)\n",
       "        value += \"shift+\";\n",
       "\n",
       "    value += 'k';\n",
       "    value += event.which.toString();\n",
       "\n",
       "    this._key_event_extra(event, name);\n",
       "\n",
       "    this.send_message(name, {key: value,\n",
       "                             guiEvent: simpleKeys(event)});\n",
       "    return false;\n",
       "}\n",
       "\n",
       "mpl.figure.prototype.toolbar_button_onclick = function(name) {\n",
       "    if (name == 'download') {\n",
       "        this.handle_save(this, null);\n",
       "    } else {\n",
       "        this.send_message(\"toolbar_button\", {name: name});\n",
       "    }\n",
       "};\n",
       "\n",
       "mpl.figure.prototype.toolbar_button_onmouseover = function(tooltip) {\n",
       "    this.message.textContent = tooltip;\n",
       "};\n",
       "mpl.toolbar_items = [[\"Home\", \"Reset original view\", \"fa fa-home icon-home\", \"home\"], [\"Back\", \"Back to previous view\", \"fa fa-arrow-left icon-arrow-left\", \"back\"], [\"Forward\", \"Forward to next view\", \"fa fa-arrow-right icon-arrow-right\", \"forward\"], [\"\", \"\", \"\", \"\"], [\"Pan\", \"Pan axes with left mouse, zoom with right\", \"fa fa-arrows icon-move\", \"pan\"], [\"Zoom\", \"Zoom to rectangle\", \"fa fa-square-o icon-check-empty\", \"zoom\"], [\"\", \"\", \"\", \"\"], [\"Download\", \"Download plot\", \"fa fa-floppy-o icon-save\", \"download\"]];\n",
       "\n",
       "mpl.extensions = [\"eps\", \"pdf\", \"png\", \"ps\", \"raw\", \"svg\"];\n",
       "\n",
       "mpl.default_extension = \"png\";var comm_websocket_adapter = function(comm) {\n",
       "    // Create a \"websocket\"-like object which calls the given IPython comm\n",
       "    // object with the appropriate methods. Currently this is a non binary\n",
       "    // socket, so there is still some room for performance tuning.\n",
       "    var ws = {};\n",
       "\n",
       "    ws.close = function() {\n",
       "        comm.close()\n",
       "    };\n",
       "    ws.send = function(m) {\n",
       "        //console.log('sending', m);\n",
       "        comm.send(m);\n",
       "    };\n",
       "    // Register the callback with on_msg.\n",
       "    comm.on_msg(function(msg) {\n",
       "        //console.log('receiving', msg['content']['data'], msg);\n",
       "        // Pass the mpl event to the overridden (by mpl) onmessage function.\n",
       "        ws.onmessage(msg['content']['data'])\n",
       "    });\n",
       "    return ws;\n",
       "}\n",
       "\n",
       "mpl.mpl_figure_comm = function(comm, msg) {\n",
       "    // This is the function which gets called when the mpl process\n",
       "    // starts-up an IPython Comm through the \"matplotlib\" channel.\n",
       "\n",
       "    var id = msg.content.data.id;\n",
       "    // Get hold of the div created by the display call when the Comm\n",
       "    // socket was opened in Python.\n",
       "    var element = $(\"#\" + id);\n",
       "    var ws_proxy = comm_websocket_adapter(comm)\n",
       "\n",
       "    function ondownload(figure, format) {\n",
       "        window.open(figure.imageObj.src);\n",
       "    }\n",
       "\n",
       "    var fig = new mpl.figure(id, ws_proxy,\n",
       "                           ondownload,\n",
       "                           element.get(0));\n",
       "\n",
       "    // Call onopen now - mpl needs it, as it is assuming we've passed it a real\n",
       "    // web socket which is closed, not our websocket->open comm proxy.\n",
       "    ws_proxy.onopen();\n",
       "\n",
       "    fig.parent_element = element.get(0);\n",
       "    fig.cell_info = mpl.find_output_cell(\"<div id='\" + id + \"'></div>\");\n",
       "    if (!fig.cell_info) {\n",
       "        console.error(\"Failed to find cell for figure\", id, fig);\n",
       "        return;\n",
       "    }\n",
       "\n",
       "    var output_index = fig.cell_info[2]\n",
       "    var cell = fig.cell_info[0];\n",
       "\n",
       "};\n",
       "\n",
       "mpl.figure.prototype.handle_close = function(fig, msg) {\n",
       "    var width = fig.canvas.width/mpl.ratio\n",
       "    fig.root.unbind('remove')\n",
       "\n",
       "    // Update the output cell to use the data from the current canvas.\n",
       "    fig.push_to_output();\n",
       "    var dataURL = fig.canvas.toDataURL();\n",
       "    // Re-enable the keyboard manager in IPython - without this line, in FF,\n",
       "    // the notebook keyboard shortcuts fail.\n",
       "    IPython.keyboard_manager.enable()\n",
       "    $(fig.parent_element).html('<img src=\"' + dataURL + '\" width=\"' + width + '\">');\n",
       "    fig.close_ws(fig, msg);\n",
       "}\n",
       "\n",
       "mpl.figure.prototype.close_ws = function(fig, msg){\n",
       "    fig.send_message('closing', msg);\n",
       "    // fig.ws.close()\n",
       "}\n",
       "\n",
       "mpl.figure.prototype.push_to_output = function(remove_interactive) {\n",
       "    // Turn the data on the canvas into data in the output cell.\n",
       "    var width = this.canvas.width/mpl.ratio\n",
       "    var dataURL = this.canvas.toDataURL();\n",
       "    this.cell_info[1]['text/html'] = '<img src=\"' + dataURL + '\" width=\"' + width + '\">';\n",
       "}\n",
       "\n",
       "mpl.figure.prototype.updated_canvas_event = function() {\n",
       "    // Tell IPython that the notebook contents must change.\n",
       "    IPython.notebook.set_dirty(true);\n",
       "    this.send_message(\"ack\", {});\n",
       "    var fig = this;\n",
       "    // Wait a second, then push the new image to the DOM so\n",
       "    // that it is saved nicely (might be nice to debounce this).\n",
       "    setTimeout(function () { fig.push_to_output() }, 1000);\n",
       "}\n",
       "\n",
       "mpl.figure.prototype._init_toolbar = function() {\n",
       "    var fig = this;\n",
       "\n",
       "    var nav_element = $('<div/>');\n",
       "    nav_element.attr('style', 'width: 100%');\n",
       "    this.root.append(nav_element);\n",
       "\n",
       "    // Define a callback function for later on.\n",
       "    function toolbar_event(event) {\n",
       "        return fig.toolbar_button_onclick(event['data']);\n",
       "    }\n",
       "    function toolbar_mouse_event(event) {\n",
       "        return fig.toolbar_button_onmouseover(event['data']);\n",
       "    }\n",
       "\n",
       "    for(var toolbar_ind in mpl.toolbar_items){\n",
       "        var name = mpl.toolbar_items[toolbar_ind][0];\n",
       "        var tooltip = mpl.toolbar_items[toolbar_ind][1];\n",
       "        var image = mpl.toolbar_items[toolbar_ind][2];\n",
       "        var method_name = mpl.toolbar_items[toolbar_ind][3];\n",
       "\n",
       "        if (!name) { continue; };\n",
       "\n",
       "        var button = $('<button class=\"btn btn-default\" href=\"#\" title=\"' + name + '\"><i class=\"fa ' + image + ' fa-lg\"></i></button>');\n",
       "        button.click(method_name, toolbar_event);\n",
       "        button.mouseover(tooltip, toolbar_mouse_event);\n",
       "        nav_element.append(button);\n",
       "    }\n",
       "\n",
       "    // Add the status bar.\n",
       "    var status_bar = $('<span class=\"mpl-message\" style=\"text-align:right; float: right;\"/>');\n",
       "    nav_element.append(status_bar);\n",
       "    this.message = status_bar[0];\n",
       "\n",
       "    // Add the close button to the window.\n",
       "    var buttongrp = $('<div class=\"btn-group inline pull-right\"></div>');\n",
       "    var button = $('<button class=\"btn btn-mini btn-primary\" href=\"#\" title=\"Stop Interaction\"><i class=\"fa fa-power-off icon-remove icon-large\"></i></button>');\n",
       "    button.click(function (evt) { fig.handle_close(fig, {}); } );\n",
       "    button.mouseover('Stop Interaction', toolbar_mouse_event);\n",
       "    buttongrp.append(button);\n",
       "    var titlebar = this.root.find($('.ui-dialog-titlebar'));\n",
       "    titlebar.prepend(buttongrp);\n",
       "}\n",
       "\n",
       "mpl.figure.prototype._root_extra_style = function(el){\n",
       "    var fig = this\n",
       "    el.on(\"remove\", function(){\n",
       "\tfig.close_ws(fig, {});\n",
       "    });\n",
       "}\n",
       "\n",
       "mpl.figure.prototype._canvas_extra_style = function(el){\n",
       "    // this is important to make the div 'focusable\n",
       "    el.attr('tabindex', 0)\n",
       "    // reach out to IPython and tell the keyboard manager to turn it's self\n",
       "    // off when our div gets focus\n",
       "\n",
       "    // location in version 3\n",
       "    if (IPython.notebook.keyboard_manager) {\n",
       "        IPython.notebook.keyboard_manager.register_events(el);\n",
       "    }\n",
       "    else {\n",
       "        // location in version 2\n",
       "        IPython.keyboard_manager.register_events(el);\n",
       "    }\n",
       "\n",
       "}\n",
       "\n",
       "mpl.figure.prototype._key_event_extra = function(event, name) {\n",
       "    var manager = IPython.notebook.keyboard_manager;\n",
       "    if (!manager)\n",
       "        manager = IPython.keyboard_manager;\n",
       "\n",
       "    // Check for shift+enter\n",
       "    if (event.shiftKey && event.which == 13) {\n",
       "        this.canvas_div.blur();\n",
       "        // select the cell after this one\n",
       "        var index = IPython.notebook.find_cell_index(this.cell_info[0]);\n",
       "        IPython.notebook.select(index + 1);\n",
       "    }\n",
       "}\n",
       "\n",
       "mpl.figure.prototype.handle_save = function(fig, msg) {\n",
       "    fig.ondownload(fig, null);\n",
       "}\n",
       "\n",
       "\n",
       "mpl.find_output_cell = function(html_output) {\n",
       "    // Return the cell and output element which can be found *uniquely* in the notebook.\n",
       "    // Note - this is a bit hacky, but it is done because the \"notebook_saving.Notebook\"\n",
       "    // IPython event is triggered only after the cells have been serialised, which for\n",
       "    // our purposes (turning an active figure into a static one), is too late.\n",
       "    var cells = IPython.notebook.get_cells();\n",
       "    var ncells = cells.length;\n",
       "    for (var i=0; i<ncells; i++) {\n",
       "        var cell = cells[i];\n",
       "        if (cell.cell_type === 'code'){\n",
       "            for (var j=0; j<cell.output_area.outputs.length; j++) {\n",
       "                var data = cell.output_area.outputs[j];\n",
       "                if (data.data) {\n",
       "                    // IPython >= 3 moved mimebundle to data attribute of output\n",
       "                    data = data.data;\n",
       "                }\n",
       "                if (data['text/html'] == html_output) {\n",
       "                    return [cell, data, j];\n",
       "                }\n",
       "            }\n",
       "        }\n",
       "    }\n",
       "}\n",
       "\n",
       "// Register the function which deals with the matplotlib target/channel.\n",
       "// The kernel may be null if the page has been refreshed.\n",
       "if (IPython.notebook.kernel != null) {\n",
       "    IPython.notebook.kernel.comm_manager.register_target('matplotlib', mpl.mpl_figure_comm);\n",
       "}\n"
      ],
      "text/plain": [
       "<IPython.core.display.Javascript object>"
      ]
     },
     "metadata": {},
     "output_type": "display_data"
    },
    {
     "data": {
      "text/html": [
       "<img src=\"data:image/png;base64,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\" width=\"640\">"
      ],
      "text/plain": [
       "<IPython.core.display.HTML object>"
      ]
     },
     "metadata": {},
     "output_type": "display_data"
    },
    {
     "data": {
      "text/plain": [
       "[<matplotlib.lines.Line2D at 0x11eeae310>]"
      ]
     },
     "execution_count": 41,
     "metadata": {},
     "output_type": "execute_result"
    }
   ],
   "source": [
    "plt.plot(hp.get_interp_val(J_abs[:, 0, 1], lat, 60, False, True))"
   ]
  },
  {
   "cell_type": "code",
   "execution_count": 40,
   "metadata": {},
   "outputs": [
    {
     "ename": "SyntaxError",
     "evalue": "invalid syntax (<ipython-input-40-540b4230560d>, line 1)",
     "output_type": "error",
     "traceback": [
      "\u001b[0;36m  File \u001b[0;32m\"<ipython-input-40-540b4230560d>\"\u001b[0;36m, line \u001b[0;32m1\u001b[0m\n\u001b[0;31m    plt.plot(hp.get_interp_val(J_abs[:, 0, 1]), -80, lon, False, True))\u001b[0m\n\u001b[0m                                                                      ^\u001b[0m\n\u001b[0;31mSyntaxError\u001b[0m\u001b[0;31m:\u001b[0m invalid syntax\n"
     ]
    }
   ],
   "source": [
    "plt.plot(hp.get_interp_val(J_abs[:, 0, 1], -80, lon, False, True))"
   ]
  },
  {
   "cell_type": "code",
   "execution_count": 11,
   "metadata": {},
   "outputs": [],
   "source": [
    "import rotations"
   ]
  },
  {
   "cell_type": "code",
   "execution_count": 18,
   "metadata": {},
   "outputs": [
    {
     "name": "stdout",
     "output_type": "stream",
     "text": [
      "-30.72138888888889\n",
      "21.428333333333335\n"
     ]
    }
   ],
   "source": [
    "print(rotations.lat)\n",
    "print(rotations.lon)"
   ]
  },
  {
   "cell_type": "code",
   "execution_count": 20,
   "metadata": {},
   "outputs": [
    {
     "name": "stdout",
     "output_type": "stream",
     "text": [
      "With right ascension = HERA latitude and declination = HERA longitude, we have:\n",
      "Galactic longitude: 77.522971004297 Galactic latitude: -25.693447620731042\n"
     ]
    }
   ],
   "source": [
    "el, be = rotations.eq_to_gal(rotations.lat, rotations.lon)\n",
    "print('With right ascension = HERA latitude and declination = HERA longitude, we have:')\n",
    "print('Galactic longitude:', el, 'Galactic latitude:', be)"
   ]
  },
  {
   "cell_type": "code",
   "execution_count": 21,
   "metadata": {},
   "outputs": [
    {
     "data": {
      "text/plain": [
       "0.0"
      ]
     },
     "execution_count": 21,
     "metadata": {},
     "output_type": "execute_result"
    }
   ],
   "source": [
    "hp.get_interp_val(np.abs(J[:, 0, 1]), np.radians(90 - el), np.radians(be), False, True)"
   ]
  },
  {
   "cell_type": "code",
   "execution_count": 22,
   "metadata": {},
   "outputs": [
    {
     "data": {
      "text/plain": [
       "0.0"
      ]
     },
     "execution_count": 22,
     "metadata": {},
     "output_type": "execute_result"
    }
   ],
   "source": [
    "hp.get_interp_val(np.abs(J[:, 1, 0]), np.radians(90 - el), np.radians(be), False, True)"
   ]
  },
  {
   "cell_type": "code",
   "execution_count": 23,
   "metadata": {},
   "outputs": [
    {
     "data": {
      "text/plain": [
       "0.0"
      ]
     },
     "execution_count": 23,
     "metadata": {},
     "output_type": "execute_result"
    }
   ],
   "source": [
    "hp.get_interp_val(np.abs(J[:, 0, 0]), np.radians(90 - el), np.radians(be), False, True)"
   ]
  },
  {
   "cell_type": "code",
   "execution_count": 24,
   "metadata": {},
   "outputs": [
    {
     "data": {
      "text/plain": [
       "0.0"
      ]
     },
     "execution_count": 24,
     "metadata": {},
     "output_type": "execute_result"
    }
   ],
   "source": [
    "hp.get_interp_val(np.abs(J[:, 1, 1]), np.radians(90 - el), np.radians(be), False, True)"
   ]
  },
  {
   "cell_type": "code",
   "execution_count": 27,
   "metadata": {},
   "outputs": [
    {
     "data": {
      "text/plain": [
       "0.0"
      ]
     },
     "execution_count": 27,
     "metadata": {},
     "output_type": "execute_result"
    }
   ],
   "source": [
    "hp.get_interp_val(np.abs(J[:, 0, 1]), 90 - el, be, False, True)"
   ]
  },
  {
   "cell_type": "code",
   "execution_count": 28,
   "metadata": {},
   "outputs": [
    {
     "data": {
      "text/plain": [
       "0.0"
      ]
     },
     "execution_count": 28,
     "metadata": {},
     "output_type": "execute_result"
    }
   ],
   "source": [
    "hp.get_interp_val(np.abs(J[:, 1, 0]), 90 - el, be, False, True)"
   ]
  },
  {
   "cell_type": "code",
   "execution_count": 29,
   "metadata": {},
   "outputs": [
    {
     "data": {
      "text/plain": [
       "0.0"
      ]
     },
     "execution_count": 29,
     "metadata": {},
     "output_type": "execute_result"
    }
   ],
   "source": [
    "hp.get_interp_val(np.abs(J[:, 0, 0]), 90 - el, be, False, True)"
   ]
  },
  {
   "cell_type": "code",
   "execution_count": 30,
   "metadata": {},
   "outputs": [
    {
     "data": {
      "text/plain": [
       "0.0"
      ]
     },
     "execution_count": 30,
     "metadata": {},
     "output_type": "execute_result"
    }
   ],
   "source": [
    "hp.get_interp_val(np.abs(J[:, 1, 1]), 90 - el, be, False, True)"
   ]
  },
  {
   "cell_type": "code",
   "execution_count": 34,
   "metadata": {},
   "outputs": [
    {
     "data": {
      "text/plain": [
       "0.0"
      ]
     },
     "execution_count": 34,
     "metadata": {},
     "output_type": "execute_result"
    }
   ],
   "source": [
    "hp.get_interp_val(np.abs(J[:, 1, 0]), el, be, False, True)"
   ]
  },
  {
   "cell_type": "code",
   "execution_count": 35,
   "metadata": {},
   "outputs": [
    {
     "data": {
      "text/plain": [
       "0.0"
      ]
     },
     "execution_count": 35,
     "metadata": {},
     "output_type": "execute_result"
    }
   ],
   "source": [
    "hp.get_interp_val(np.abs(J[:, 0, 1]), el, be, False, True)"
   ]
  },
  {
   "cell_type": "code",
   "execution_count": 36,
   "metadata": {},
   "outputs": [
    {
     "data": {
      "text/plain": [
       "0.0"
      ]
     },
     "execution_count": 36,
     "metadata": {},
     "output_type": "execute_result"
    }
   ],
   "source": [
    "hp.get_interp_val(np.abs(J[:, 0, 0]), el, be, False, True)"
   ]
  },
  {
   "cell_type": "code",
   "execution_count": 37,
   "metadata": {},
   "outputs": [
    {
     "data": {
      "text/plain": [
       "0.0"
      ]
     },
     "execution_count": 37,
     "metadata": {},
     "output_type": "execute_result"
    }
   ],
   "source": [
    "hp.get_interp_val(np.abs(J[:, 1, 1]), el, be, False, True)"
   ]
  },
  {
   "cell_type": "code",
   "execution_count": 38,
   "metadata": {},
   "outputs": [
    {
     "data": {
      "text/plain": [
       "0.007862419546828849"
      ]
     },
     "execution_count": 38,
     "metadata": {},
     "output_type": "execute_result"
    }
   ],
   "source": [
    "hp.get_interp_val(np.abs(J[:, 1, 0]), be, 90 - el, False, True)"
   ]
  },
  {
   "cell_type": "code",
   "execution_count": 39,
   "metadata": {},
   "outputs": [
    {
     "data": {
      "text/plain": [
       "0.0006559543338425616"
      ]
     },
     "execution_count": 39,
     "metadata": {},
     "output_type": "execute_result"
    }
   ],
   "source": [
    "hp.get_interp_val(np.abs(J[:, 1, 0]), np.radians(be), np.radians(90 - el), False, True)"
   ]
  },
  {
   "cell_type": "code",
   "execution_count": null,
   "metadata": {},
   "outputs": [],
   "source": [
    "hp.get_interp_val(np.abs(J[:, 1, 0]), np.radians(be), np.radians(90 - el), False, True)"
   ]
  }
 ],
 "metadata": {
  "kernelspec": {
   "display_name": "Python 3",
   "language": "python",
   "name": "python3"
  },
  "language_info": {
   "codemirror_mode": {
    "name": "ipython",
    "version": 3
   },
   "file_extension": ".py",
   "mimetype": "text/x-python",
   "name": "python",
   "nbconvert_exporter": "python",
   "pygments_lexer": "ipython3",
   "version": "3.7.6"
  }
 },
 "nbformat": 4,
 "nbformat_minor": 4
}
