{
 "cells": [
  {
   "cell_type": "markdown",
   "metadata": {},
   "source": [
    "This is a legacy notebook. It is not clear that any of these issues is still relevant."
   ]
  },
  {
   "cell_type": "code",
   "execution_count": 1,
   "metadata": {},
   "outputs": [
    {
     "name": "stdout",
     "output_type": "stream",
     "text": [
      "Missing flux value for: GLEAM J202818-254302 at frequency: 204 MHz.\n",
      "Missing flux value for: GLEAM J202818-254302 at frequency: 212 MHz.\n",
      "Missing flux value for: GLEAM J202818-254302 at frequency: 220 MHz.\n",
      "Missing flux value for: GLEAM J202818-254302 at frequency: 227 MHz.\n",
      "Missing spectral index for: GLEAM J202818-254302\n"
     ]
    },
    {
     "name": "stderr",
     "output_type": "stream",
     "text": [
      "//anaconda3/envs/hera/lib/python3.8/site-packages/spin1_beam_model/jones_matrix_field.py:18: H5pyDeprecationWarning: dataset.value has been deprecated. Use dataset[()] instead.\n",
      "  self.pos1_Elm_samples = h5f[\"pos1_Elm\"].value\n",
      "//anaconda3/envs/hera/lib/python3.8/site-packages/spin1_beam_model/jones_matrix_field.py:19: H5pyDeprecationWarning: dataset.value has been deprecated. Use dataset[()] instead.\n",
      "  self.neg1_Elm_samples = h5f[\"neg1_Elm\"].value\n",
      "//anaconda3/envs/hera/lib/python3.8/site-packages/spin1_beam_model/jones_matrix_field.py:20: H5pyDeprecationWarning: dataset.value has been deprecated. Use dataset[()] instead.\n",
      "  self.freq_nodes = h5f[\"frequencies\"].value\n",
      "//anaconda3/envs/hera/lib/python3.8/site-packages/spin1_beam_model/jones_matrix_field.py:21: H5pyDeprecationWarning: dataset.value has been deprecated. Use dataset[()] instead.\n",
      "  self.L_model = h5f[\"spatial_bandlimit\"].value\n",
      "//anaconda3/envs/hera/lib/python3.8/site-packages/spin1_beam_model/jones_matrix_field.py:22: H5pyDeprecationWarning: dataset.value has been deprecated. Use dataset[()] instead.\n",
      "  self.zenith_theta = h5f[\"zenith_theta\"].value\n",
      "//anaconda3/envs/hera/lib/python3.8/site-packages/spin1_beam_model/jones_matrix_field.py:23: H5pyDeprecationWarning: dataset.value has been deprecated. Use dataset[()] instead.\n",
      "  self.zenith_phi = h5f[\"zenith_phi\"].value\n"
     ]
    },
    {
     "name": "stdout",
     "output_type": "stream",
     "text": [
      "delta_nu_in is 1000000.0\n"
     ]
    }
   ],
   "source": [
    "%matplotlib inline\n",
    "import skyflux as sf"
   ]
  },
  {
   "cell_type": "code",
   "execution_count": 2,
   "metadata": {},
   "outputs": [
    {
     "name": "stderr",
     "output_type": "stream",
     "text": [
      "WARNING: leap-second auto-update failed due to the following exception: RuntimeError('attempted to use clear_download_cache on the path //anaconda3/envs/hera/lib/python3.8/site-packages/astropy/utils/iers/data/Leap_Second.dat outside the data cache directory /Users/lfinkbeiner/.astropy/cache/download/py3') [astropy.time.core]\n"
     ]
    }
   ],
   "source": [
    "import matplotlib.pyplot as plt\n",
    "import numpy as np\n",
    "import healpy as hp"
   ]
  },
  {
   "cell_type": "code",
   "execution_count": 3,
   "metadata": {},
   "outputs": [],
   "source": [
    "list_az = []\n",
    "list_alt = []\n",
    "for source in sf.catalog.obj_catalog:\n",
    "    ra = np.radians(source.ra_angle)\n",
    "    dec = np.radians(source.dec_angle)\n",
    "    az, alt = sf.rot.eq_to_topo(\n",
    "        ra, dec,\n",
    "        lat=np.radians(sf.rot.hera_lat),\n",
    "        lst=np.pi / 3,\n",
    "        radians=True\n",
    "    )\n",
    "    list_az.append(az)\n",
    "    list_alt.append(alt)"
   ]
  },
  {
   "cell_type": "code",
   "execution_count": 4,
   "metadata": {},
   "outputs": [
    {
     "name": "stdout",
     "output_type": "stream",
     "text": [
      "[-1.8532937   2.09736031  2.38856675 ...  1.33119085  2.39309436\n",
      "  1.93842917]\n",
      "[ 0.88990448  0.35989554 -0.36887102 ...  1.39375765 -0.41546859\n",
      "  1.2568688 ]\n"
     ]
    }
   ],
   "source": [
    "# reformat into arrays so that the spline function can handle the single angles\n",
    "list_az = np.array(list_az)\n",
    "list_alt = np.array(list_alt)\n",
    "print(list_az)\n",
    "print(list_alt)"
   ]
  },
  {
   "cell_type": "code",
   "execution_count": 5,
   "metadata": {},
   "outputs": [
    {
     "name": "stdout",
     "output_type": "stream",
     "text": [
      "[0.00637889 0.00637889 0.00637889 ... 3.13521376 3.13521376 3.13521376] [0.78539816 2.35619449 3.92699082 ... 2.35619449 3.92699082 5.49778714]\n"
     ]
    }
   ],
   "source": [
    "#nside = 16, 32, 64, 128...\n",
    "nside = 128\n",
    "\n",
    "# healpix does the interpolation for you?\n",
    "theta, phi = hp.pix2ang(nside, np.arange(12 * nside * nside))\n",
    "az = phi\n",
    "alt = np.pi / 2 - theta\n",
    "print(theta, phi)"
   ]
  },
  {
   "cell_type": "code",
   "execution_count": 6,
   "metadata": {},
   "outputs": [
    {
     "data": {
      "text/plain": [
       "(3872, 2, 2)"
      ]
     },
     "execution_count": 6,
     "metadata": {},
     "output_type": "execute_result"
    }
   ],
   "source": [
    "# J = sf.stokes.create_J(az=az, alt=alt, radians=True)\n",
    "J = sf.stokes.create_J(az=list_az, alt=list_alt, radians=True)\n",
    "J.shape"
   ]
  },
  {
   "cell_type": "code",
   "execution_count": 7,
   "metadata": {},
   "outputs": [
    {
     "data": {
      "text/plain": [
       "1538"
      ]
     },
     "execution_count": 7,
     "metadata": {},
     "output_type": "execute_result"
    }
   ],
   "source": [
    "empty_blocks = 0\n",
    "for block in J:\n",
    "    \"\"\"\n",
    "    Make sure that at least one LST works in the day.\n",
    "    \"\"\"\n",
    "    if block[0][0] == 0 and \\\n",
    "        block[1][0] == 0 and \\\n",
    "        block[0][1] == 0 and \\\n",
    "        block[1][1] == 0:\n",
    "        empty_blocks += 1\n",
    "empty_blocks"
   ]
  },
  {
   "cell_type": "code",
   "execution_count": 8,
   "metadata": {},
   "outputs": [
    {
     "data": {
      "text/plain": [
       "39.72107438016529"
      ]
     },
     "execution_count": 8,
     "metadata": {},
     "output_type": "execute_result"
    }
   ],
   "source": [
    "\"\"\" This is a major problem, is it not? \"\"\"\n",
    "percent_empty = 100 * empty_blocks / len(J)\n",
    "percent_empty"
   ]
  },
  {
   "cell_type": "code",
   "execution_count": 9,
   "metadata": {},
   "outputs": [
    {
     "name": "stdout",
     "output_type": "stream",
     "text": [
      "xx: (0.31718473517814755-0.24593409765985316j)\n",
      "yy: (0.3904975309365466-0.30367048435532645j)\n"
     ]
    },
    {
     "data": {
      "text/plain": [
       "(1, 2, 2)"
      ]
     },
     "execution_count": 9,
     "metadata": {},
     "output_type": "execute_result"
    }
   ],
   "source": [
    "# Hard-coding a right-ascension,\n",
    "# this should be a maximum response...\n",
    "\n",
    "# these are the maxima as they appear in the catalog,\n",
    "# i.e. NOT the theoretical maxima\n",
    "ra_max = np.radians(59.984791666666666)\n",
    "dec_max = np.radians(-23.4345)\n",
    "\n",
    "# J matrices are now automatically formatted\n",
    "J_max = sf.stokes.create_J(ra=ra_max, dec=dec_max, lst=np.pi/3, radians=True)\n",
    "print(\"xx:\", J_max[0][0][0])\n",
    "print(\"yy:\", J_max[0][1][1])\n",
    "J_max.shape"
   ]
  }
 ],
 "metadata": {
  "kernelspec": {
   "display_name": "Python 3",
   "language": "python",
   "name": "python3"
  },
  "language_info": {
   "codemirror_mode": {
    "name": "ipython",
    "version": 3
   },
   "file_extension": ".py",
   "mimetype": "text/x-python",
   "name": "python",
   "nbconvert_exporter": "python",
   "pygments_lexer": "ipython3",
   "version": "3.8.5"
  }
 },
 "nbformat": 4,
 "nbformat_minor": 4
}
