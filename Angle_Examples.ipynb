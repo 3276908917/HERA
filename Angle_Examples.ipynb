{
 "cells": [
  {
   "cell_type": "code",
   "execution_count": 5,
   "metadata": {},
   "outputs": [
    {
     "name": "stdout",
     "output_type": "stream",
     "text": [
      "Array latitude: -30.72138888888889\n",
      "Array longitude: 21.428333333333335\n"
     ]
    }
   ],
   "source": [
    "# Hydrogen Epoch of Reionization Array, South Africa\n",
    "lat = -30 - 43/60 - 17/3600\n",
    "lon = 21 + 25/60 + 42/3600\n",
    "print('Array latitude:', lat)\n",
    "print('Array longitude:', lon)"
   ]
  },
  {
   "cell_type": "code",
   "execution_count": 6,
   "metadata": {},
   "outputs": [],
   "source": [
    "import numpy as np\n",
    "\n",
    "def rectangle(a, b):\n",
    "    '''\n",
    "    Given a pair of angles (both angles must be in radians),\n",
    "    return the corresponding 3x1 rectangular vector.\n",
    "    '''\n",
    "    return np.array([np.cos(b) * np.cos(a), np.cos(b) * np.sin(a), np.sin(b)])\n",
    "\n",
    "def M_eq_to_ha(LST):\n",
    "    '''\n",
    "    Return the change-of-basis matrix between the equatorial and\n",
    "    hour angle declination coordinate systems.\n",
    "    The conversion depends on the @LST, Local Siderial Time\n",
    "    '''\n",
    "    s = np.sin(LST)\n",
    "    c = np.cos(LST)\n",
    "    return np.array([[c, s, 0], [s, -c, 0], [0, 0, 1]])\n",
    "\n",
    "def M_ha_to_topo(phi):\n",
    "    '''\n",
    "    Return the change-of-basis matrix between the hour angle declination\n",
    "    and topocentric coordinate systems.\n",
    "    The conversion depends on the user's current latitude @phi,\n",
    "        which must be given in radians.\n",
    "    '''\n",
    "    s = np.sin(phi)\n",
    "    c = np.cos(phi)\n",
    "    return np.array([[-s, 0, c], [0, -1, 0], [c, 0, s]])\n",
    "\n",
    "def new_sphere(out_arr, radians=False):\n",
    "    '''\n",
    "    Given a 3x1 vector,\n",
    "    return the corresponding pair of angles\n",
    "    @radians determines whether the angles are given in radians.\n",
    "    '''\n",
    "    gp = np.arctan2(out_arr[1], out_arr[0])\n",
    "    tp = np.arcsin(out_arr[2])\n",
    "    if not radians:\n",
    "        return np.degrees(gp), np.degrees(tp)   \n",
    "    return gp, tp"
   ]
  },
  {
   "cell_type": "code",
   "execution_count": 7,
   "metadata": {},
   "outputs": [],
   "source": [
    "def eq_to_topo(ra, dec, latitude, lst, radians=False):\n",
    "    '''\n",
    "    @radians determines the format of BOTH input and output!\n",
    "    Given a pair of angles @ra and @dec,\n",
    "    return a pair of angles relating the associated\n",
    "    azimuth and altitude.\n",
    "    '''\n",
    "    if not radians:\n",
    "        ra = np.radians(ra)\n",
    "        dec = np.radians(dec)\n",
    "        latitude = np.radians(latitude)\n",
    "    eq_vector = rectangle(ra, dec)\n",
    "    ha_vector = np.dot(M_eq_to_ha(lst), eq_vector)\n",
    "    topo_vector = np.dot(M_ha_to_topo(latitude), ha_vector)\n",
    "    return new_sphere(topo_vector, radians)"
   ]
  },
  {
   "cell_type": "code",
   "execution_count": 15,
   "metadata": {},
   "outputs": [],
   "source": [
    "# Would I ever know the LST at which the data were taken?\n",
    "\n",
    "from astropy.time import Time\n",
    "#times = []\n",
    "#t = Time(times, format='unix')\n",
    "t = Time.now()"
   ]
  },
  {
   "cell_type": "code",
   "execution_count": 16,
   "metadata": {},
   "outputs": [
    {
     "data": {
      "text/latex": [
       "$16^\\mathrm{h}30^\\mathrm{m}56.4748^\\mathrm{s}$"
      ],
      "text/plain": [
       "<Longitude 16.51568744 hourangle>"
      ]
     },
     "execution_count": 16,
     "metadata": {},
     "output_type": "execute_result"
    }
   ],
   "source": [
    "# In general, I prefer greater precision, but nutation may be unwanted here\n",
    "import astropy.coordinates as coord\n",
    "from astropy import units as u\n",
    "t.sidereal_time('apparent', coord.Angle(lon, u.deg))"
   ]
  },
  {
   "cell_type": "code",
   "execution_count": 14,
   "metadata": {},
   "outputs": [],
   "source": [
    "Time.now?"
   ]
  },
  {
   "cell_type": "code",
   "execution_count": null,
   "metadata": {},
   "outputs": [],
   "source": []
  }
 ],
 "metadata": {
  "kernelspec": {
   "display_name": "Python 3",
   "language": "python",
   "name": "python3"
  },
  "language_info": {
   "codemirror_mode": {
    "name": "ipython",
    "version": 3
   },
   "file_extension": ".py",
   "mimetype": "text/x-python",
   "name": "python",
   "nbconvert_exporter": "python",
   "pygments_lexer": "ipython3",
   "version": "3.7.6"
  }
 },
 "nbformat": 4,
 "nbformat_minor": 4
}
