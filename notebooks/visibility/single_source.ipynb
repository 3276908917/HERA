{
 "cells": [
  {
   "cell_type": "code",
   "execution_count": 1,
   "metadata": {},
   "outputs": [
    {
     "name": "stdout",
     "output_type": "stream",
     "text": [
      "Missing flux value for: GLEAM J202818-254302 at frequency: 204 MHz.\n",
      "Missing flux value for: GLEAM J202818-254302 at frequency: 212 MHz.\n",
      "Missing flux value for: GLEAM J202818-254302 at frequency: 220 MHz.\n",
      "Missing flux value for: GLEAM J202818-254302 at frequency: 227 MHz.\n",
      "Missing spectral index for: GLEAM J202818-254302\n"
     ]
    },
    {
     "name": "stderr",
     "output_type": "stream",
     "text": [
      "//anaconda3/envs/hera/lib/python3.8/site-packages/spin1_beam_model/jones_matrix_field.py:18: H5pyDeprecationWarning: dataset.value has been deprecated. Use dataset[()] instead.\n",
      "  self.pos1_Elm_samples = h5f[\"pos1_Elm\"].value\n",
      "//anaconda3/envs/hera/lib/python3.8/site-packages/spin1_beam_model/jones_matrix_field.py:19: H5pyDeprecationWarning: dataset.value has been deprecated. Use dataset[()] instead.\n",
      "  self.neg1_Elm_samples = h5f[\"neg1_Elm\"].value\n",
      "//anaconda3/envs/hera/lib/python3.8/site-packages/spin1_beam_model/jones_matrix_field.py:20: H5pyDeprecationWarning: dataset.value has been deprecated. Use dataset[()] instead.\n",
      "  self.freq_nodes = h5f[\"frequencies\"].value\n",
      "//anaconda3/envs/hera/lib/python3.8/site-packages/spin1_beam_model/jones_matrix_field.py:21: H5pyDeprecationWarning: dataset.value has been deprecated. Use dataset[()] instead.\n",
      "  self.L_model = h5f[\"spatial_bandlimit\"].value\n",
      "//anaconda3/envs/hera/lib/python3.8/site-packages/spin1_beam_model/jones_matrix_field.py:22: H5pyDeprecationWarning: dataset.value has been deprecated. Use dataset[()] instead.\n",
      "  self.zenith_theta = h5f[\"zenith_theta\"].value\n",
      "//anaconda3/envs/hera/lib/python3.8/site-packages/spin1_beam_model/jones_matrix_field.py:23: H5pyDeprecationWarning: dataset.value has been deprecated. Use dataset[()] instead.\n",
      "  self.zenith_phi = h5f[\"zenith_phi\"].value\n"
     ]
    },
    {
     "name": "stdout",
     "output_type": "stream",
     "text": [
      "delta_nu_in is 1000000.0\n"
     ]
    }
   ],
   "source": [
    "%matplotlib inline\n",
    "import skyflux as sf"
   ]
  },
  {
   "cell_type": "code",
   "execution_count": 2,
   "metadata": {},
   "outputs": [
    {
     "name": "stderr",
     "output_type": "stream",
     "text": [
      "WARNING: leap-second auto-update failed due to the following exception: RuntimeError('attempted to use clear_download_cache on the path //anaconda3/envs/hera/lib/python3.8/site-packages/astropy/utils/iers/data/Leap_Second.dat outside the data cache directory /Users/lfinkbeiner/.astropy/cache/download/py3') [astropy.time.core]\n"
     ]
    }
   ],
   "source": [
    "import matplotlib.pyplot as plt\n",
    "import numpy as np\n",
    "import healpy as hp"
   ]
  },
  {
   "cell_type": "code",
   "execution_count": 3,
   "metadata": {},
   "outputs": [
    {
     "data": {
      "text/plain": [
       "array([[[0.+0.j, 0.-0.j],\n",
       "        [0.+0.j, 0.-0.j]]])"
      ]
     },
     "execution_count": 3,
     "metadata": {},
     "output_type": "execute_result"
    }
   ],
   "source": [
    "arbitrary_source = sf.catalog.obj_catalog[999]\n",
    "arb_ra = arbitrary_source.ra_angle\n",
    "arb_dec = arbitrary_source.dec_angle\n",
    "J = sf.stokes.create_J(ra=arb_ra, dec=arb_dec)\n",
    "J.shape\n",
    "J"
   ]
  },
  {
   "cell_type": "code",
   "execution_count": 4,
   "metadata": {},
   "outputs": [
    {
     "name": "stdout",
     "output_type": "stream",
     "text": [
      "-30.72138888888889\n"
     ]
    }
   ],
   "source": [
    "arb_ra = sf.rot.get_lst(radians=False)\n",
    "arb_dec = sf.rot.hera_lat\n",
    "print(sf.rot.hera_lat)\n",
    "J = sf.stokes.create_J(ra=arb_ra, dec=arb_dec, lst=sf.rot.get_lst(radians=False), radians=False)"
   ]
  },
  {
   "cell_type": "code",
   "execution_count": 5,
   "metadata": {},
   "outputs": [
    {
     "data": {
      "text/plain": [
       "array([[[ 8.12625503e-01-5.82786230e-01j,\n",
       "         -2.79861484e-05-3.17601251e-05j],\n",
       "        [ 2.79861489e-05+3.17601257e-05j,\n",
       "          8.12625503e-01-5.82786230e-01j]]])"
      ]
     },
     "execution_count": 5,
     "metadata": {},
     "output_type": "execute_result"
    }
   ],
   "source": [
    "J"
   ]
  },
  {
   "cell_type": "code",
   "execution_count": 6,
   "metadata": {},
   "outputs": [
    {
     "name": "stdout",
     "output_type": "stream",
     "text": [
      "[[[ 9.99999998e-01-1.96278790e-11j -2.25071951e-05-1.96135989e-05j\n",
      "    1.96118165e-05-2.25054127e-05j  2.89363378e-06-4.21190107e-05j]]\n",
      "\n",
      " [[-1.96136081e-05+2.25072046e-05j  1.00004212e+00+2.89360659e-06j\n",
      "    4.68181605e-11+1.04180699e-11j  2.25072046e-05+1.96136081e-05j]]\n",
      "\n",
      " [[ 2.25054222e-05+1.96118258e-05j  2.81082935e-11+1.01277729e-11j\n",
      "    9.99957878e-01-2.89358604e-06j -1.96118258e-05+2.25054222e-05j]]\n",
      "\n",
      " [[-2.89355885e-06+4.21190313e-05j  1.96135989e-05-2.25071951e-05j\n",
      "   -2.25054127e-05-1.96118165e-05j  9.99999998e-01-9.17963852e-13j]]]\n"
     ]
    },
    {
     "data": {
      "text/plain": [
       "(4, 1, 4)"
      ]
     },
     "execution_count": 6,
     "metadata": {},
     "output_type": "execute_result"
    }
   ],
   "source": [
    "Am = sf.stokes.create_A(ra=arb_ra, dec=arb_dec, radians=False)\n",
    "print(Am)\n",
    "Am.shape"
   ]
  },
  {
   "cell_type": "code",
   "execution_count": 7,
   "metadata": {},
   "outputs": [
    {
     "data": {
      "text/plain": [
       "(0.9999999975200069-1.962787895268877e-11j)"
      ]
     },
     "execution_count": 7,
     "metadata": {},
     "output_type": "execute_result"
    }
   ],
   "source": [
    "Am[0][0][0]"
   ]
  },
  {
   "cell_type": "code",
   "execution_count": 8,
   "metadata": {},
   "outputs": [
    {
     "name": "stdout",
     "output_type": "stream",
     "text": [
      "[0, 1, 2, 11, 12, 13, 14, 23, 24, 25, 26, 27, 36, 37, 38, 39, 40, 41, 50, 51, 52, 53, 54, 55, 65, 66, 67, 68, 69, 70, 71, 82, 83, 84, 85, 86, 87, 88, 98, 120, 121, 122, 123, 124, 136, 137, 138, 139, 140, 141, 142, 143]\n"
     ]
    }
   ],
   "source": [
    "# Display available antennae\n",
    "print(sf.demo.active_ants)"
   ]
  },
  {
   "cell_type": "code",
   "execution_count": 9,
   "metadata": {},
   "outputs": [
    {
     "name": "stdout",
     "output_type": "stream",
     "text": [
      "Name: GLEAM J185915-381842\n",
      "Right ascension: 284.8155\n",
      "Declination: -37.688250000000004\n",
      "151 MHz flux: 1.2316479999999999\n",
      "\n",
      "[0.+0.j 0.+0.j 0.+0.j 0.+0.j]\n",
      "[0.+0.j 0.+0.j 0.+0.j 0.+0.j]\n",
      "[ 0.13831098+0.91971519j  0.00307072-0.00612719j -0.00603361-0.00324952j\n",
      "  0.00199807+0.01354837j]\n"
     ]
    }
   ],
   "source": [
    "# we sample three arbitrary sources, and 2/3 are zero\n",
    "print(arbitrary_source)\n",
    "print(sf.vis.visibility(2, 11, arbitrary_source))\n",
    "\n",
    "print(sf.vis.visibility(36, 37, sf.catalog.obj_catalog[981]))\n",
    "print(sf.vis.visibility(88, 121, sf.catalog.obj_catalog[134]))\n",
    "# also, would we not expect the first term to dominate? And yet it is not even the largest\n",
    "    # of numbers all with magnitudes less than one"
   ]
  },
  {
   "cell_type": "code",
   "execution_count": 10,
   "metadata": {},
   "outputs": [
    {
     "data": {
      "text/plain": [
       "'\\nThis section kills the kernel! Do NOT run it!!\\nI am leaving it here as a to-do of sorts. I think, that my inability\\nto run it in this environment may be a bad sign.\\n(It does work fine in the shell, so far as I can tell.)\\n\\nt = 0\\narg = 134\\n\\nobj = flux.catalog.obj_catalog[arg]\\nra = np.radians(obj.ra_angle)\\ndec = np.radians(obj.dec_angle)\\nwhile t < 2 * np.pi:\\n    print(t)\\n    t += np.pi / 72\\n    \\n    print(flux.stokes.J_matrix(ra, dec, t))\\n    print(\"\\n\")\\n\\n'"
      ]
     },
     "execution_count": 10,
     "metadata": {},
     "output_type": "execute_result"
    }
   ],
   "source": [
    "\"\"\"\n",
    "This section kills the kernel! Do NOT run it!!\n",
    "I am leaving it here as a to-do of sorts. I think, that my inability\n",
    "to run it in this environment may be a bad sign.\n",
    "(It does work fine in the shell, so far as I can tell.)\n",
    "\n",
    "t = 0\n",
    "arg = 134\n",
    "\n",
    "obj = flux.catalog.obj_catalog[arg]\n",
    "ra = np.radians(obj.ra_angle)\n",
    "dec = np.radians(obj.dec_angle)\n",
    "while t < 2 * np.pi:\n",
    "    print(t)\n",
    "    t += np.pi / 72\n",
    "    \n",
    "    print(flux.stokes.J_matrix(ra, dec, t))\n",
    "    print(\"\\n\")\n",
    "\n",
    "\"\"\""
   ]
  },
  {
   "cell_type": "code",
   "execution_count": 11,
   "metadata": {},
   "outputs": [
    {
     "name": "stderr",
     "output_type": "stream",
     "text": [
      "//anaconda3/envs/hera/lib/python3.8/site-packages/skyflux/vis.py:101: VisibleDeprecationWarning: Creating an ndarray from ragged nested sequences (which is a list-or-tuple of lists-or-tuples-or ndarrays with different lengths or shapes) is deprecated. If you meant to do this, you must specify 'dtype=object' when creating the ndarray\n",
      "  np.array([lst, visibility(ant1, ant2, source, nu, time=lst)])\n"
     ]
    },
    {
     "data": {
      "text/plain": [
       "array([[0,\n",
       "        array([-0.00013313-1.87204684e-04j,  0.00015712+1.64413890e-05j,\n",
       "        0.00024084+2.57254222e-05j, -0.00019768-1.17886946e-04j])],\n",
       "       [0.04363323129985824,\n",
       "        array([-0.00010955-1.04471197e-04j,  0.00014241+9.26688564e-06j,\n",
       "        0.00021656-2.75766976e-05j, -0.00011957-4.25609414e-05j])],\n",
       "       [0.08726646259971647,\n",
       "        array([-8.17207899e-05-5.51436467e-05j,  1.20643080e-04-2.99082956e-05j,\n",
       "        1.70739683e-04-1.39516627e-04j, -6.71603357e-05-2.45298569e-07j])],\n",
       "       [0.1308996938995747,\n",
       "        array([-7.21757965e-05-4.24413102e-05j,  6.47781795e-05-6.84258632e-05j,\n",
       "        1.31679411e-05-2.40925082e-04j, -4.76322939e-05+2.16501892e-05j])],\n",
       "       [0.17453292519943295,\n",
       "        array([-1.03615762e-04-1.42279039e-05j,  3.18956081e-07-4.99107417e-05j,\n",
       "       -2.25810535e-04-1.46711076e-04j, -2.55920000e-05+7.21958453e-05j])],\n",
       "       [0.2181661564992912,\n",
       "        array([-9.87729079e-05+8.70761753e-05j,  1.08765262e-05-8.74642381e-06j,\n",
       "       -2.29029998e-04+1.83332235e-04j,  9.60394531e-05+9.00410767e-05j])],\n",
       "       [0.2617993877991494,\n",
       "        array([4.91163597e-05+1.39555827e-04j, 2.50258102e-05-6.76632342e-05j,\n",
       "       1.63354850e-04+2.61380145e-04j, 1.72197722e-04-1.26205679e-04j])],\n",
       "       [0.30543261909900765,\n",
       "        array([ 0.00014403-3.27341827e-05j, -0.00011851-6.14350323e-05j,\n",
       "        0.00025186-1.88874092e-04j, -0.00019209-2.55098247e-04j])],\n",
       "       [0.3490658503988659,\n",
       "        array([-4.73174946e-05-0.00012219j, -6.64292724e-05+0.00017553j,\n",
       "       -2.52031723e-04-0.0001922j , -2.93629119e-04+0.00033411j])],\n",
       "       [0.39269908169872414,\n",
       "        array([-7.12246903e-05+7.37805685e-05j,  2.30437686e-04+1.05999376e-05j,\n",
       "       -6.30168293e-05+3.11446926e-04j,  5.50137706e-04+1.87516164e-04j])],\n",
       "       [0.4363323129985824,\n",
       "        array([ 7.15788421e-05-2.87470430e-06j, -1.15834614e-04-2.34195331e-04j,\n",
       "        2.90795087e-04-1.28868916e-04j, -1.76722928e-04-6.92197611e-04j])],\n",
       "       [0.4799655442984406,\n",
       "        array([-5.26972254e-05-1.20209583e-05j, -1.13469861e-04+2.56063836e-04j,\n",
       "       -2.95033490e-04-1.15830832e-04j, -4.37601216e-04+7.01008261e-04j])],\n",
       "       [0.5235987755982988,\n",
       "        array([5.69315530e-05+1.64150532e-05j, 2.56778118e-04-1.30522605e-04j,\n",
       "       1.69614234e-04+2.62434664e-04j, 8.33049021e-04-3.39625930e-04j])],\n",
       "       [0.567232006898157,\n",
       "        array([-6.43637325e-05-3.00875709e-05j, -2.85580984e-04-4.38587930e-06j,\n",
       "       -3.84967095e-05-2.99813870e-04j, -9.20496938e-04-5.40144759e-05j])],\n",
       "       [0.6108652381980152,\n",
       "        array([ 6.42787654e-05+4.12139560e-05j,  2.60772719e-04+8.07964195e-05j,\n",
       "       -3.81146467e-05+2.81831752e-04j,  8.43796690e-04+2.86698272e-04j])],\n",
       "       [0.6544984694978734,\n",
       "        array([-6.11622173e-05-4.00379563e-05j, -2.32836884e-04-9.42995347e-05j,\n",
       "        5.33470733e-05-2.52718133e-04j, -7.43179263e-04-3.34429039e-04j])],\n",
       "       [0.6981317007977316,\n",
       "        array([ 3.15793524e-05+1.39408963e-05j,  1.15300644e-04+3.18797081e-05j,\n",
       "       -1.08464606e-05+1.20623655e-04j,  3.58730742e-04+1.29734282e-04j])],\n",
       "       [0.7417649320975898, array([0.+0.j, 0.+0.j, 0.+0.j, 0.+0.j])],\n",
       "       [0.785398163397448, array([0.+0.j, 0.+0.j, 0.+0.j, 0.+0.j])],\n",
       "       [0.8290313946973061, array([0.+0.j, 0.+0.j, 0.+0.j, 0.+0.j])],\n",
       "       [0.8726646259971643, array([0.+0.j, 0.+0.j, 0.+0.j, 0.+0.j])],\n",
       "       [0.9162978572970225, array([0.+0.j, 0.+0.j, 0.+0.j, 0.+0.j])],\n",
       "       [0.9599310885968807, array([0.+0.j, 0.+0.j, 0.+0.j, 0.+0.j])],\n",
       "       [1.003564319896739, array([0.+0.j, 0.+0.j, 0.+0.j, 0.+0.j])],\n",
       "       [1.0471975511965972, array([0.+0.j, 0.+0.j, 0.+0.j, 0.+0.j])],\n",
       "       [1.0908307824964554, array([0.+0.j, 0.+0.j, 0.+0.j, 0.+0.j])],\n",
       "       [1.1344640137963136, array([0.+0.j, 0.+0.j, 0.+0.j, 0.+0.j])],\n",
       "       [1.1780972450961718, array([0.+0.j, 0.+0.j, 0.+0.j, 0.+0.j])],\n",
       "       [1.22173047639603, array([0.+0.j, 0.+0.j, 0.+0.j, 0.+0.j])],\n",
       "       [1.2653637076958881, array([0.+0.j, 0.+0.j, 0.+0.j, 0.+0.j])],\n",
       "       [1.3089969389957463, array([0.+0.j, 0.+0.j, 0.+0.j, 0.+0.j])],\n",
       "       [1.3526301702956045, array([0.+0.j, 0.+0.j, 0.+0.j, 0.+0.j])],\n",
       "       [1.3962634015954627, array([0.+0.j, 0.+0.j, 0.+0.j, 0.+0.j])],\n",
       "       [1.4398966328953209, array([0.+0.j, 0.+0.j, 0.+0.j, 0.+0.j])],\n",
       "       [1.483529864195179, array([0.+0.j, 0.+0.j, 0.+0.j, 0.+0.j])],\n",
       "       [1.5271630954950373, array([0.+0.j, 0.+0.j, 0.+0.j, 0.+0.j])],\n",
       "       [1.5707963267948954, array([0.+0.j, 0.+0.j, 0.+0.j, 0.+0.j])],\n",
       "       [1.6144295580947536, array([0.+0.j, 0.+0.j, 0.+0.j, 0.+0.j])],\n",
       "       [1.6580627893946118, array([0.+0.j, 0.+0.j, 0.+0.j, 0.+0.j])],\n",
       "       [1.70169602069447, array([0.+0.j, 0.+0.j, 0.+0.j, 0.+0.j])],\n",
       "       [1.7453292519943282, array([0.+0.j, 0.+0.j, 0.+0.j, 0.+0.j])],\n",
       "       [1.7889624832941864, array([0.+0.j, 0.+0.j, 0.+0.j, 0.+0.j])],\n",
       "       [1.8325957145940446, array([0.+0.j, 0.+0.j, 0.+0.j, 0.+0.j])],\n",
       "       [1.8762289458939028, array([0.+0.j, 0.+0.j, 0.+0.j, 0.+0.j])],\n",
       "       [1.919862177193761, array([0.+0.j, 0.+0.j, 0.+0.j, 0.+0.j])],\n",
       "       [1.9634954084936191, array([0.+0.j, 0.+0.j, 0.+0.j, 0.+0.j])],\n",
       "       [2.0071286397934776, array([0.+0.j, 0.+0.j, 0.+0.j, 0.+0.j])],\n",
       "       [2.0507618710933357, array([0.+0.j, 0.+0.j, 0.+0.j, 0.+0.j])],\n",
       "       [2.094395102393194, array([0.+0.j, 0.+0.j, 0.+0.j, 0.+0.j])]],\n",
       "      dtype=object)"
      ]
     },
     "execution_count": 11,
     "metadata": {},
     "output_type": "execute_result"
    }
   ],
   "source": [
    "vist = sf.vis.source_over_time(\n",
    "    88, 121, arbitrary_source, 0, 2/3 * np.pi, np.pi / 72\n",
    ")\n",
    "vist"
   ]
  },
  {
   "cell_type": "code",
   "execution_count": 12,
   "metadata": {},
   "outputs": [
    {
     "data": {
      "image/png": "[encoded data removed]",
      "text/plain": [
       "<Figure size 432x288 with 1 Axes>"
      ]
     },
     "metadata": {
      "needs_background": "light"
     },
     "output_type": "display_data"
    }
   ],
   "source": [
    "I = np.array([v[1][0] for v in vist])\n",
    "\n",
    "plt.plot(vist[:, 0], np.real(I), label=\"I, real\")\n",
    "plt.plot(vist[:, 0], np.imag(I), label=\"I, imaginary\")\n",
    "plt.plot(vist[:, 0], np.abs(I), label=\"I, magnitude\")\n",
    "\n",
    "plt.xlabel(\"LST [rad]\")\n",
    "plt.ylabel(\"Visibility [Jy?]\")\n",
    "\n",
    "plt.legend()\n",
    "plt.show()"
   ]
  },
  {
   "cell_type": "code",
   "execution_count": 13,
   "metadata": {},
   "outputs": [
    {
     "data": {
      "image/png": "[encoded data removed]",
      "text/plain": [
       "<Figure size 432x288 with 1 Axes>"
      ]
     },
     "metadata": {
      "needs_background": "light"
     },
     "output_type": "display_data"
    }
   ],
   "source": [
    "Q = np.array([v[1][1] for v in vist])\n",
    "U = np.array([v[1][2] for v in vist])\n",
    "V = np.array([v[1][3] for v in vist])\n",
    "\n",
    "plt.plot(vist[:, 0], np.real(I), label=\"I\")\n",
    "plt.plot(vist[:, 0], np.real(Q), label=\"Q\")\n",
    "plt.plot(vist[:, 0], np.real(U), label=\"U\")\n",
    "plt.plot(vist[:, 0], np.real(V), label=\"V\")\n",
    "\n",
    "plt.xlabel(\"LST [rad]\")\n",
    "plt.ylabel(\"Visibility [Jy?]\")\n",
    "plt.title(\"Real components\")\n",
    "\n",
    "plt.legend()\n",
    "plt.show()"
   ]
  },
  {
   "cell_type": "code",
   "execution_count": 14,
   "metadata": {},
   "outputs": [
    {
     "data": {
      "image/png": "[encoded data removed]",
      "text/plain": [
       "<Figure size 432x288 with 1 Axes>"
      ]
     },
     "metadata": {
      "needs_background": "light"
     },
     "output_type": "display_data"
    }
   ],
   "source": [
    "plt.plot(vist[:, 0], np.imag(I), label=\"I\")\n",
    "plt.plot(vist[:, 0], np.imag(Q), label=\"Q\")\n",
    "plt.plot(vist[:, 0], np.imag(U), label=\"U\")\n",
    "plt.plot(vist[:, 0], np.imag(V), label=\"V\")\n",
    "\n",
    "plt.xlabel(\"LST [rad]\")\n",
    "plt.ylabel(\"Visibility [Jy?]\")\n",
    "plt.title(\"Imaginary components\")\n",
    "\n",
    "plt.legend()\n",
    "plt.show()"
   ]
  },
  {
   "cell_type": "code",
   "execution_count": 15,
   "metadata": {},
   "outputs": [
    {
     "data": {
      "text/plain": [
       "3872"
      ]
     },
     "execution_count": 15,
     "metadata": {},
     "output_type": "execute_result"
    }
   ],
   "source": [
    "len(sf.catalog.obj_catalog)"
   ]
  },
  {
   "cell_type": "code",
   "execution_count": null,
   "metadata": {},
   "outputs": [],
   "source": []
  }
 ],
 "metadata": {
  "kernelspec": {
   "display_name": "Python 3",
   "language": "python",
   "name": "python3"
  },
  "language_info": {
   "codemirror_mode": {
    "name": "ipython",
    "version": 3
   },
   "file_extension": ".py",
   "mimetype": "text/x-python",
   "name": "python",
   "nbconvert_exporter": "python",
   "pygments_lexer": "ipython3",
   "version": "3.8.5"
  }
 },
 "nbformat": 4,
 "nbformat_minor": 4
}
