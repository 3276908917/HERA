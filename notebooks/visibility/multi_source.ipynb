{
 "cells": [
  {
   "cell_type": "code",
   "execution_count": 1,
   "metadata": {},
   "outputs": [],
   "source": [
    "%matplotlib notebook\n",
    "import flux"
   ]
  },
  {
   "cell_type": "code",
   "execution_count": 2,
   "metadata": {},
   "outputs": [],
   "source": [
    "import matplotlib.pyplot as plt\n",
    "import numpy as np\n",
    "import healpy as hp"
   ]
  },
  {
   "cell_type": "code",
   "execution_count": null,
   "metadata": {},
   "outputs": [],
   "source": [
    "for source in catalog.obj_catalog:\n",
    "    ra = np.radians(source.ra_angle)\n",
    "    dec = np.radians(source.dec_angle)\n",
    "    az, alt = flux.rot.eq_to_topo(\n",
    "        ra, dec,\n",
    "        np.radians(flux.rot.hera_lat),\n",
    "        flux.rot.get_lst(), radians=True\n",
    "    )\n",
    "\n",
    "    # reformat into arrays so that the spline function\n",
    "    # can handle the single angles\n",
    "    az = np.array([az])\n",
    "    alt = np.array([alt])"
   ]
  },
  {
   "cell_type": "code",
   "execution_count": 6,
   "metadata": {},
   "outputs": [
    {
     "data": {
      "text/plain": [
       "(1, 2, 2)"
      ]
     },
     "execution_count": 6,
     "metadata": {},
     "output_type": "execute_result"
    }
   ],
   "source": [
    "J = spline_beam_func(150e6, alt, az)\n",
    "J.shape"
   ]
  },
  {
   "cell_type": "code",
   "execution_count": 18,
   "metadata": {},
   "outputs": [
    {
     "name": "stdout",
     "output_type": "stream",
     "text": [
      "[[[ 5.11952733e-04+0.j  2.83168107e-04+0.j  2.72300830e-04+0.j\n",
      "   -2.28346825e-05+0.j]]\n",
      "\n",
      " [[ 3.46688807e-04+0.j  3.98480063e-04+0.j  2.26361883e-04+0.j\n",
      "   -1.31944404e-04+0.j]]\n",
      "\n",
      " [[-1.85979917e-04+0.j -2.90815871e-05+0.j -3.33831825e-04+0.j\n",
      "   -1.71876010e-04+0.j]]\n",
      "\n",
      " [[-8.46658107e-06+0.j -1.66716337e-04+0.j  1.36772117e-04+0.j\n",
      "   -2.46602907e-04+0.j]]]\n"
     ]
    },
    {
     "data": {
      "text/plain": [
       "(4, 1, 4)"
      ]
     },
     "execution_count": 18,
     "metadata": {},
     "output_type": "execute_result"
    }
   ],
   "source": [
    "Am = parser.A(J)\n",
    "print(Am)\n",
    "Am.shape"
   ]
  },
  {
   "cell_type": "code",
   "execution_count": 21,
   "metadata": {},
   "outputs": [
    {
     "data": {
      "text/plain": [
       "(0.0005119527334312938+0j)"
      ]
     },
     "execution_count": 21,
     "metadata": {},
     "output_type": "execute_result"
    }
   ],
   "source": [
    "Am[0][0][0]"
   ]
  },
  {
   "cell_type": "code",
   "execution_count": 10,
   "metadata": {},
   "outputs": [
    {
     "name": "stdout",
     "output_type": "stream",
     "text": [
      "Name: GLEAM J070608-734534\n",
      "Right ascension: 106.53525\n",
      "Declination: -72.24030555555555\n",
      "151 MHz flux: 0.11626\n",
      "\n",
      "[7.73645573e-05+7.55413833e-05j]\n"
     ]
    }
   ],
   "source": [
    "print(parser.obj_catalog[999])\n",
    "print(parser.visibility(J, 0, 143, parser.obj_catalog[10], 151e6))"
   ]
  },
  {
   "cell_type": "code",
   "execution_count": null,
   "metadata": {},
   "outputs": [],
   "source": []
  }
 ],
 "metadata": {
  "kernelspec": {
   "display_name": "Python 3",
   "language": "python",
   "name": "python3"
  },
  "language_info": {
   "codemirror_mode": {
    "name": "ipython",
    "version": 3
   },
   "file_extension": ".py",
   "mimetype": "text/x-python",
   "name": "python",
   "nbconvert_exporter": "python",
   "pygments_lexer": "ipython3",
   "version": "3.7.6"
  }
 },
 "nbformat": 4,
 "nbformat_minor": 4
}
