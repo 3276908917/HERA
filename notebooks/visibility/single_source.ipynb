{
 "cells": [
  {
   "cell_type": "code",
   "execution_count": 1,
   "metadata": {},
   "outputs": [
    {
     "name": "stdout",
     "output_type": "stream",
     "text": [
      "Missing flux value for: GLEAM J202818-254302 at frequency: 204 MHz.\n",
      "Missing flux value for: GLEAM J202818-254302 at frequency: 212 MHz.\n",
      "Missing flux value for: GLEAM J202818-254302 at frequency: 220 MHz.\n",
      "Missing flux value for: GLEAM J202818-254302 at frequency: 227 MHz.\n",
      "Missing spectral index for: GLEAM J202818-254302\n"
     ]
    },
    {
     "name": "stderr",
     "output_type": "stream",
     "text": [
      "//anaconda3/envs/hera/lib/python3.7/site-packages/spin1_beam_model/jones_matrix_field.py:18: H5pyDeprecationWarning: dataset.value has been deprecated. Use dataset[()] instead.\n",
      "  self.pos1_Elm_samples = h5f[\"pos1_Elm\"].value\n",
      "//anaconda3/envs/hera/lib/python3.7/site-packages/spin1_beam_model/jones_matrix_field.py:19: H5pyDeprecationWarning: dataset.value has been deprecated. Use dataset[()] instead.\n",
      "  self.neg1_Elm_samples = h5f[\"neg1_Elm\"].value\n",
      "//anaconda3/envs/hera/lib/python3.7/site-packages/spin1_beam_model/jones_matrix_field.py:20: H5pyDeprecationWarning: dataset.value has been deprecated. Use dataset[()] instead.\n",
      "  self.freq_nodes = h5f[\"frequencies\"].value\n",
      "//anaconda3/envs/hera/lib/python3.7/site-packages/spin1_beam_model/jones_matrix_field.py:21: H5pyDeprecationWarning: dataset.value has been deprecated. Use dataset[()] instead.\n",
      "  self.L_model = h5f[\"spatial_bandlimit\"].value\n",
      "//anaconda3/envs/hera/lib/python3.7/site-packages/spin1_beam_model/jones_matrix_field.py:22: H5pyDeprecationWarning: dataset.value has been deprecated. Use dataset[()] instead.\n",
      "  self.zenith_theta = h5f[\"zenith_theta\"].value\n",
      "//anaconda3/envs/hera/lib/python3.7/site-packages/spin1_beam_model/jones_matrix_field.py:23: H5pyDeprecationWarning: dataset.value has been deprecated. Use dataset[()] instead.\n",
      "  self.zenith_phi = h5f[\"zenith_phi\"].value\n"
     ]
    },
    {
     "name": "stdout",
     "output_type": "stream",
     "text": [
      "delta_nu_in is 1000000.0\n"
     ]
    }
   ],
   "source": [
    "%matplotlib notebook\n",
    "import flux"
   ]
  },
  {
   "cell_type": "code",
   "execution_count": 2,
   "metadata": {},
   "outputs": [],
   "source": [
    "import matplotlib.pyplot as plt\n",
    "import numpy as np\n",
    "import healpy as hp"
   ]
  },
  {
   "cell_type": "code",
   "execution_count": 3,
   "metadata": {},
   "outputs": [
    {
     "data": {
      "text/plain": [
       "(1, 2, 2)"
      ]
     },
     "execution_count": 3,
     "metadata": {},
     "output_type": "execute_result"
    }
   ],
   "source": [
    "arbitrary_source = flux.catalog.obj_catalog[999]\n",
    "arb_ra = arbitrary_source.ra_angle\n",
    "arb_dec = arbitrary_source.dec_angle\n",
    "J = flux.stokes.J_matrix(arb_ra, arb_dec)\n",
    "J.shape"
   ]
  },
  {
   "cell_type": "code",
   "execution_count": 7,
   "metadata": {},
   "outputs": [
    {
     "data": {
      "text/plain": [
       "array([[[ 2.80981413e-05+3.16798088e-05j,\n",
       "          8.12625503e-01-5.82786230e-01j],\n",
       "        [ 8.12625503e-01-5.82786230e-01j,\n",
       "         -2.80981411e-05-3.16798085e-05j]]])"
      ]
     },
     "execution_count": 7,
     "metadata": {},
     "output_type": "execute_result"
    }
   ],
   "source": [
    "arb_ra = flux.rot.get_lst()\n",
    "arb_dec = np.radians(flux.rot.hera_lat)\n",
    "J = flux.stokes.J_matrix(arb_ra, arb_dec)\n",
    "J"
   ]
  },
  {
   "cell_type": "code",
   "execution_count": null,
   "metadata": {},
   "outputs": [],
   "source": [
    "Am = flux.stokes.A_matrix(arb_ra, arb_dec)\n",
    "print(Am)\n",
    "Am.shape"
   ]
  },
  {
   "cell_type": "code",
   "execution_count": null,
   "metadata": {},
   "outputs": [],
   "source": [
    "Am[0][0][0]"
   ]
  },
  {
   "cell_type": "code",
   "execution_count": null,
   "metadata": {},
   "outputs": [],
   "source": [
    "# Display available antennae\n",
    "print(flux.demo.active_ants)"
   ]
  },
  {
   "cell_type": "code",
   "execution_count": null,
   "metadata": {},
   "outputs": [],
   "source": [
    "# we sample three sources almost at random, and 2/3 are zero\n",
    "\n",
    "print(arbitrary_source)\n",
    "print(flux.vis.visibility(2, 11, arbitrary_source))\n",
    "\n",
    "print(flux.vis.visibility(36, 37, flux.catalog.obj_catalog[981]))\n",
    "print(flux.vis.visibility(88, 121, flux.catalog.obj_catalog[134]))\n",
    "# also, would we not expect the first term to dominate? And yet it is not even the largest\n",
    "    # of numbers all with magnitudes less than one"
   ]
  },
  {
   "cell_type": "code",
   "execution_count": null,
   "metadata": {},
   "outputs": [],
   "source": [
    "# proposal for version 7: change J_matrix to include local sidereal time\n",
    "\n",
    "def J_matrix_7(ra, dec, lst=None, nu=150e6):\n",
    "    \"\"\"\n",
    "    Return the Jones matrix J.\n",
    "    @ra: right ascension of the source, in degrees.\n",
    "    @dec: right ascension of the source, in degrees.\n",
    "    @nu: frequency of interest, in Hz.\n",
    "\n",
    "    The default argument comes from the beam that I\n",
    "    had access to when this was written.\n",
    "    \"\"\"\n",
    "    if lst is None:\n",
    "        lst = rot.get_lst()\n",
    "    latitude = np.radians(flux.rot.hera_lat)\n",
    "    # We want to transform the following into a function parameter\n",
    "    az, alt = flux.rot.eq_to_topo(ra, dec, latitude, lst, radians=True)\n",
    "\n",
    "    az = np.array([az])\n",
    "    alt = np.array([alt])\n",
    "    \n",
    "    return flux.stokes.spline_beam_func(nu, alt, az)\n",
    "\n",
    "def A_matrix_7(ra, dec, nu=150e6):\n",
    "    \"\"\"\n",
    "    Return the Mueller matrix A.\n",
    "    @ra: right ascension of the source, in degrees.\n",
    "    @dec: declination of the source, in degrees.\n",
    "    @nu: frequency of interest, in Hz.\n",
    "\n",
    "    The default argument comes from the beam that I\n",
    "    had access to when this was written.\n",
    "    \"\"\"\n",
    "    J = J_matrix_7(ra, dec, nu)\n",
    "    assert J is not None\n",
    "    J_outer = np.kron(J, np.conj(J))\n",
    "    return np.dot(flux.stokes.S, np.dot(J_outer, np.linalg.inv(flux.stokes.S)))\n",
    "    \n",
    "def visibility_7(ant1, ant2, source, nu=151e6):\n",
    "    \"\"\"\n",
    "    Visibility integrand evaluated for a single source.\n",
    "\n",
    "    The most glaring waste of compute is separately calculating\n",
    "    the values for RA and DEC, although it is not clear to me\n",
    "    how many clock cycles are actually spent thereon.\n",
    "    \"\"\"\n",
    "    I = source.flux_by_frq[nu / 1e6]\n",
    "    s = np.array([complex(I), 0, 0, 0])\n",
    "\n",
    "    ra = np.radians(source.ra_angle)\n",
    "    dec = np.radians(source.dec_angle)\n",
    "    r = flux.rot.raddec2lm(ra, dec)\n",
    "\n",
    "    phi = flux.ant.phase_factor(ant1, ant2, r, nu)\n",
    "    return np.dot(np.dot(A_matrix_7(ra, dec, nu), s), phi)"
   ]
  },
  {
   "cell_type": "code",
   "execution_count": null,
   "metadata": {},
   "outputs": [],
   "source": [
    "t = 0\n",
    "while t < 2 * np.pi:\n",
    "    print(t)\n",
    "    t += np.pi / 72\n",
    "    print(J_matrix_7(88, 121, t, flux.catalog.obj_catalog[134]))\n",
    "    print(\"\\n\")\n"
   ]
  },
  {
   "cell_type": "code",
   "execution_count": null,
   "metadata": {},
   "outputs": [],
   "source": []
  }
 ],
 "metadata": {
  "kernelspec": {
   "display_name": "Python 3",
   "language": "python",
   "name": "python3"
  },
  "language_info": {
   "codemirror_mode": {
    "name": "ipython",
    "version": 3
   },
   "file_extension": ".py",
   "mimetype": "text/x-python",
   "name": "python",
   "nbconvert_exporter": "python",
   "pygments_lexer": "ipython3",
   "version": "3.7.6"
  }
 },
 "nbformat": 4,
 "nbformat_minor": 4
}
