{
 "cells": [
  {
   "cell_type": "code",
   "execution_count": 1,
   "metadata": {},
   "outputs": [
    {
     "name": "stdout",
     "output_type": "stream",
     "text": [
      "Missing flux value for: GLEAM J202818-254302 at frequency: 204 MHz.\n",
      "Missing flux value for: GLEAM J202818-254302 at frequency: 212 MHz.\n",
      "Missing flux value for: GLEAM J202818-254302 at frequency: 220 MHz.\n",
      "Missing flux value for: GLEAM J202818-254302 at frequency: 227 MHz.\n",
      "Missing spectral index for: GLEAM J202818-254302\n"
     ]
    },
    {
     "name": "stderr",
     "output_type": "stream",
     "text": [
      "//anaconda3/envs/hera/lib/python3.7/site-packages/spin1_beam_model/jones_matrix_field.py:18: H5pyDeprecationWarning: dataset.value has been deprecated. Use dataset[()] instead.\n",
      "  self.pos1_Elm_samples = h5f[\"pos1_Elm\"].value\n",
      "//anaconda3/envs/hera/lib/python3.7/site-packages/spin1_beam_model/jones_matrix_field.py:19: H5pyDeprecationWarning: dataset.value has been deprecated. Use dataset[()] instead.\n",
      "  self.neg1_Elm_samples = h5f[\"neg1_Elm\"].value\n",
      "//anaconda3/envs/hera/lib/python3.7/site-packages/spin1_beam_model/jones_matrix_field.py:20: H5pyDeprecationWarning: dataset.value has been deprecated. Use dataset[()] instead.\n",
      "  self.freq_nodes = h5f[\"frequencies\"].value\n",
      "//anaconda3/envs/hera/lib/python3.7/site-packages/spin1_beam_model/jones_matrix_field.py:21: H5pyDeprecationWarning: dataset.value has been deprecated. Use dataset[()] instead.\n",
      "  self.L_model = h5f[\"spatial_bandlimit\"].value\n",
      "//anaconda3/envs/hera/lib/python3.7/site-packages/spin1_beam_model/jones_matrix_field.py:22: H5pyDeprecationWarning: dataset.value has been deprecated. Use dataset[()] instead.\n",
      "  self.zenith_theta = h5f[\"zenith_theta\"].value\n",
      "//anaconda3/envs/hera/lib/python3.7/site-packages/spin1_beam_model/jones_matrix_field.py:23: H5pyDeprecationWarning: dataset.value has been deprecated. Use dataset[()] instead.\n",
      "  self.zenith_phi = h5f[\"zenith_phi\"].value\n"
     ]
    },
    {
     "name": "stdout",
     "output_type": "stream",
     "text": [
      "delta_nu_in is 1000000.0\n"
     ]
    }
   ],
   "source": [
    "%matplotlib notebook\n",
    "import flux"
   ]
  },
  {
   "cell_type": "code",
   "execution_count": 2,
   "metadata": {},
   "outputs": [],
   "source": [
    "import matplotlib.pyplot as plt\n",
    "import numpy as np\n",
    "import healpy as hp"
   ]
  },
  {
   "cell_type": "code",
   "execution_count": 3,
   "metadata": {},
   "outputs": [
    {
     "data": {
      "text/plain": [
       "(1, 2, 2)"
      ]
     },
     "execution_count": 3,
     "metadata": {},
     "output_type": "execute_result"
    }
   ],
   "source": [
    "arbitrary_source = flux.catalog.obj_catalog[999]\n",
    "arb_ra = arbitrary_source.ra_angle\n",
    "arb_dec = arbitrary_source.dec_angle\n",
    "J = flux.stokes.J_matrix(arb_ra, arb_dec)\n",
    "J.shape"
   ]
  },
  {
   "cell_type": "code",
   "execution_count": 6,
   "metadata": {},
   "outputs": [
    {
     "name": "stdout",
     "output_type": "stream",
     "text": [
      "[[[ 7.33223331e-05+8.03131505e-05j -1.52572736e-04-3.57652091e-05j\n",
      "    2.06862441e-05+2.56447185e-04j -3.68594242e-04+7.67424064e-05j]]\n",
      "\n",
      " [[-3.14619953e-04+1.60309398e-05j  4.97772743e-04-5.11341258e-04j\n",
      "   -2.74206199e-04-3.26396462e-04j -1.62181054e-04+1.21515181e-03j]]\n",
      "\n",
      " [[-4.13518765e-04-4.65904433e-04j -2.04840599e-06+3.94961677e-04j\n",
      "    4.23412575e-04+5.79906474e-04j -6.32822419e-05-1.07938943e-03j]]\n",
      "\n",
      " [[ 2.27657984e-04-8.17719079e-06j  2.72023955e-04-1.43638349e-04j\n",
      "    9.87649746e-05-2.21315547e-04j  4.30672121e-04-1.48878366e-04j]]]\n"
     ]
    },
    {
     "data": {
      "text/plain": [
       "(4, 1, 4)"
      ]
     },
     "execution_count": 6,
     "metadata": {},
     "output_type": "execute_result"
    }
   ],
   "source": [
    "Am = flux.stokes.A_matrix(arb_ra, arb_dec)\n",
    "print(Am)\n",
    "Am.shape"
   ]
  },
  {
   "cell_type": "code",
   "execution_count": 7,
   "metadata": {},
   "outputs": [
    {
     "data": {
      "text/plain": [
       "(7.332233306415914e-05+8.031315051463765e-05j)"
      ]
     },
     "execution_count": 7,
     "metadata": {},
     "output_type": "execute_result"
    }
   ],
   "source": [
    "Am[0][0][0]"
   ]
  },
  {
   "cell_type": "code",
   "execution_count": 10,
   "metadata": {},
   "outputs": [
    {
     "name": "stdout",
     "output_type": "stream",
     "text": [
      "[0, 1, 2, 11, 12, 13, 14, 23, 24, 25, 26, 27, 36, 37, 38, 39, 40, 41, 50, 51, 52, 53, 54, 55, 65, 66, 67, 68, 69, 70, 71, 82, 83, 84, 85, 86, 87, 88, 98, 120, 121, 122, 123, 124, 136, 137, 138, 139, 140, 141, 142, 143]\n"
     ]
    }
   ],
   "source": [
    "# Display available antennae\n",
    "print(flux.demo.active_ants)"
   ]
  },
  {
   "cell_type": "code",
   "execution_count": 20,
   "metadata": {},
   "outputs": [
    {
     "name": "stdout",
     "output_type": "stream",
     "text": [
      "Name: GLEAM J185915-381842\n",
      "Right ascension: 284.8155\n",
      "Declination: -37.688250000000004\n",
      "151 MHz flux: 1.2316479999999999\n",
      "\n",
      "[[0.+0.j]\n",
      " [0.+0.j]\n",
      " [0.+0.j]\n",
      " [0.+0.j]]\n",
      "[[0.+0.j]\n",
      " [0.+0.j]\n",
      " [0.+0.j]\n",
      " [0.+0.j]]\n",
      "[[ 1.06831717e-02-1.46480343e-02j]\n",
      " [-4.75270222e-01+4.86890844e-03j]\n",
      " [ 2.49743053e-02+4.73241619e-01j]\n",
      " [-2.05405352e-04+3.26876788e-04j]]\n"
     ]
    }
   ],
   "source": [
    "print(arbitrary_source)\n",
    "print(flux.vis.visibility(2, 11, arbitrary_source))\n",
    "\n",
    "if not flux.vis.visibility(88, 121, flux.catalog.obj_catalog[981]).any():\n",
    "    print(\"OOOOOOOOOOO\")\n",
    "\n",
    "print(flux.vis.visibility(36, 37, flux.catalog.obj_catalog[981]))\n",
    "print(flux.vis.visibility(88, 121, flux.catalog.obj_catalog[134]))"
   ]
  },
  {
   "cell_type": "code",
   "execution_count": null,
   "metadata": {},
   "outputs": [],
   "source": []
  }
 ],
 "metadata": {
  "kernelspec": {
   "display_name": "Python 3",
   "language": "python",
   "name": "python3"
  },
  "language_info": {
   "codemirror_mode": {
    "name": "ipython",
    "version": 3
   },
   "file_extension": ".py",
   "mimetype": "text/x-python",
   "name": "python",
   "nbconvert_exporter": "python",
   "pygments_lexer": "ipython3",
   "version": "3.7.6"
  }
 },
 "nbformat": 4,
 "nbformat_minor": 4
}
