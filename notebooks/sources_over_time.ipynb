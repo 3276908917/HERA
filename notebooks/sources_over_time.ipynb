{
 "cells": [
  {
   "cell_type": "code",
   "execution_count": 1,
   "metadata": {},
   "outputs": [
    {
     "name": "stdout",
     "output_type": "stream",
     "text": [
      "Missing flux value for: GLEAM J202818-254302 at frequency: 204 MHz.\n",
      "Missing flux value for: GLEAM J202818-254302 at frequency: 212 MHz.\n",
      "Missing flux value for: GLEAM J202818-254302 at frequency: 220 MHz.\n",
      "Missing flux value for: GLEAM J202818-254302 at frequency: 227 MHz.\n",
      "Missing spectral index for: GLEAM J202818-254302\n"
     ]
    },
    {
     "name": "stderr",
     "output_type": "stream",
     "text": [
      "//anaconda3/envs/hera/lib/python3.8/site-packages/spin1_beam_model/jones_matrix_field.py:18: H5pyDeprecationWarning: dataset.value has been deprecated. Use dataset[()] instead.\n",
      "  self.pos1_Elm_samples = h5f[\"pos1_Elm\"].value\n",
      "//anaconda3/envs/hera/lib/python3.8/site-packages/spin1_beam_model/jones_matrix_field.py:19: H5pyDeprecationWarning: dataset.value has been deprecated. Use dataset[()] instead.\n",
      "  self.neg1_Elm_samples = h5f[\"neg1_Elm\"].value\n",
      "//anaconda3/envs/hera/lib/python3.8/site-packages/spin1_beam_model/jones_matrix_field.py:20: H5pyDeprecationWarning: dataset.value has been deprecated. Use dataset[()] instead.\n",
      "  self.freq_nodes = h5f[\"frequencies\"].value\n",
      "//anaconda3/envs/hera/lib/python3.8/site-packages/spin1_beam_model/jones_matrix_field.py:21: H5pyDeprecationWarning: dataset.value has been deprecated. Use dataset[()] instead.\n",
      "  self.L_model = h5f[\"spatial_bandlimit\"].value\n",
      "//anaconda3/envs/hera/lib/python3.8/site-packages/spin1_beam_model/jones_matrix_field.py:22: H5pyDeprecationWarning: dataset.value has been deprecated. Use dataset[()] instead.\n",
      "  self.zenith_theta = h5f[\"zenith_theta\"].value\n",
      "//anaconda3/envs/hera/lib/python3.8/site-packages/spin1_beam_model/jones_matrix_field.py:23: H5pyDeprecationWarning: dataset.value has been deprecated. Use dataset[()] instead.\n",
      "  self.zenith_phi = h5f[\"zenith_phi\"].value\n"
     ]
    },
    {
     "name": "stdout",
     "output_type": "stream",
     "text": [
      "delta_nu_in is 1000000.0\n"
     ]
    }
   ],
   "source": [
    "%matplotlib inline\n",
    "import skyflux as sf"
   ]
  },
  {
   "cell_type": "code",
   "execution_count": 2,
   "metadata": {},
   "outputs": [],
   "source": [
    "import matplotlib.pyplot as plt\n",
    "import numpy as np"
   ]
  },
  {
   "cell_type": "code",
   "execution_count": 8,
   "metadata": {},
   "outputs": [],
   "source": [
    "# 100 points for a day\n",
    "list_lst = np.linspace(0, 2 * np.pi, 100)\n",
    "def day_dict(ra, dec): #inefficient; don't care\n",
    "    \"\"\"\n",
    "    @ra [float, radians]\n",
    "    @dec [float, radians]\n",
    "    \"\"\"\n",
    "    list_ha = []\n",
    "    list_az = []\n",
    "    list_alt = []\n",
    "    for lst in list_lst:\n",
    "        ha = lst - ra\n",
    "        if ha < 0:\n",
    "            ha += 2 * np.pi\n",
    "        list_ha.append(ha)\n",
    "        \n",
    "        az, alt = sf.rot.eq_to_topo(\n",
    "            ra, dec, lst=lst, radians=True\n",
    "        )\n",
    "        list_az.append(az)\n",
    "        list_alt.append(alt)\n",
    "    \n",
    "    day_dict = {}\n",
    "    day_dict['ha'] = np.array(list_ha)\n",
    "    day_dict['az'] = np.array(list_az)\n",
    "    day_dict['alt'] = np.array(list_alt)\n",
    "    \n",
    "    return day_dict"
   ]
  },
  {
   "cell_type": "code",
   "execution_count": 9,
   "metadata": {},
   "outputs": [
    {
     "name": "stdout",
     "output_type": "stream",
     "text": [
      "631\n"
     ]
    }
   ],
   "source": [
    "import random\n",
    "obj_idx = int(random.random() * len(sf.catalog.obj_catalog))\n",
    "print(obj_idx)\n",
    "obj = sf.catalog.obj_catalog[obj_idx]"
   ]
  },
  {
   "cell_type": "code",
   "execution_count": 11,
   "metadata": {},
   "outputs": [
    {
     "data": {
      "text/plain": [
       "array([0.1593042 , 0.22277072, 0.28623724, 0.34970376, 0.41317027,\n",
       "       0.47663679, 0.54010331, 0.60356983, 0.66703635, 0.73050286,\n",
       "       0.79396938, 0.8574359 , 0.92090242, 0.98436894, 1.04783546,\n",
       "       1.11130197, 1.17476849, 1.23823501, 1.30170153, 1.36516805,\n",
       "       1.42863457, 1.49210108, 1.5555676 , 1.61903412, 1.68250064,\n",
       "       1.74596716, 1.80943367, 1.87290019, 1.93636671, 1.99983323,\n",
       "       2.06329975, 2.12676627, 2.19023278, 2.2536993 , 2.31716582,\n",
       "       2.38063234, 2.44409886, 2.50756538, 2.57103189, 2.63449841,\n",
       "       2.69796493, 2.76143145, 2.82489797, 2.88836449, 2.951831  ,\n",
       "       3.01529752, 3.07876404, 3.14223056, 3.20569708, 3.26916359,\n",
       "       3.33263011, 3.39609663, 3.45956315, 3.52302967, 3.58649619,\n",
       "       3.6499627 , 3.71342922, 3.77689574, 3.84036226, 3.90382878,\n",
       "       3.9672953 , 4.03076181, 4.09422833, 4.15769485, 4.22116137,\n",
       "       4.28462789, 4.34809441, 4.41156092, 4.47502744, 4.53849396,\n",
       "       4.60196048, 4.665427  , 4.72889351, 4.79236003, 4.85582655,\n",
       "       4.91929307, 4.98275959, 5.04622611, 5.10969262, 5.17315914,\n",
       "       5.23662566, 5.30009218, 5.3635587 , 5.42702522, 5.49049173,\n",
       "       5.55395825, 5.61742477, 5.68089129, 5.74435781, 5.80782432,\n",
       "       5.87129084, 5.93475736, 5.99822388, 6.0616904 , 6.12515692,\n",
       "       6.18862343, 6.25208995, 0.03237116, 0.09583768, 0.1593042 ])"
      ]
     },
     "execution_count": 11,
     "metadata": {},
     "output_type": "execute_result"
    }
   ],
   "source": [
    "obj_ra = np.radians(obj.ra_angle)\n",
    "obj_dec = np.radians(obj.dec_angle)\n",
    "obj_day = day_dict(obj_ra, obj_dec)\n",
    "obj_day['ha']"
   ]
  },
  {
   "cell_type": "code",
   "execution_count": 12,
   "metadata": {},
   "outputs": [
    {
     "data": {
      "text/plain": [
       "Text(0, 0.5, 'Hour-angle [rad]')"
      ]
     },
     "execution_count": 12,
     "metadata": {},
     "output_type": "execute_result"
    },
    {
     "data": {
      "image/png": "[encoded data removed]",
      "text/plain": [
       "<Figure size 432x288 with 1 Axes>"
      ]
     },
     "metadata": {
      "needs_background": "light"
     },
     "output_type": "display_data"
    }
   ],
   "source": [
    "plt.plot(list_lst, obj_day['ha'])\n",
    "plt.xlabel(\"LST [rad]\")\n",
    "plt.ylabel(\"Hour-angle [rad]\")"
   ]
  },
  {
   "cell_type": "code",
   "execution_count": 13,
   "metadata": {},
   "outputs": [
    {
     "data": {
      "image/png": "[encoded data removed]",
      "text/plain": [
       "<Figure size 432x288 with 1 Axes>"
      ]
     },
     "metadata": {
      "needs_background": "light"
     },
     "output_type": "display_data"
    }
   ],
   "source": [
    "obj_count = 3\n",
    "\n",
    "obj_dicts = []\n",
    "\n",
    "for i in range(0, obj_count):\n",
    "    s_idx = int(random.random() * len(sf.catalog.obj_catalog))\n",
    "    s = sf.catalog.obj_catalog[s_idx]\n",
    "    s_ra = np.radians(s.ra_angle)\n",
    "    s_dec = np.radians(s.dec_angle)\n",
    "    \n",
    "    obj_dicts.append(day_dict(s_ra, s_dec)['ha'])\n",
    "    \n",
    "    plt.plot(list_lst, obj_dicts[i], label=str(s_idx))\n",
    "\n",
    "plt.xlabel(\"LST [rad]\")\n",
    "plt.ylabel(\"Hour-angle [rad]\")\n",
    "plt.legend()\n",
    "plt.show()"
   ]
  },
  {
   "cell_type": "code",
   "execution_count": null,
   "metadata": {},
   "outputs": [],
   "source": [
    "# I want to have a plot to see how the eq2topo conversion changes over a full LST day,\n",
    "# given a single source's base-line ra and dec"
   ]
  }
 ],
 "metadata": {
  "kernelspec": {
   "display_name": "Python 3",
   "language": "python",
   "name": "python3"
  },
  "language_info": {
   "codemirror_mode": {
    "name": "ipython",
    "version": 3
   },
   "file_extension": ".py",
   "mimetype": "text/x-python",
   "name": "python",
   "nbconvert_exporter": "python",
   "pygments_lexer": "ipython3",
   "version": "3.8.5"
  }
 },
 "nbformat": 4,
 "nbformat_minor": 4
}
